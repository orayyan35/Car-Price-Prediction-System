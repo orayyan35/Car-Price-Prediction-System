{
 "cells": [
  {
   "cell_type": "markdown",
   "metadata": {},
   "source": [
    " \n",
    "</div>\n",
    " \n",
    " \n",
    "<div style=\"padding: 10px; background-color: #960018; margin: 0 auto; color: #e7d954; font-family: newtimeroman; font-size: 150%; text-align: center; border-radius: 15px; overflow: hidden; font-weight: 1000; width: 100%;\"> API   </div>\n",
    "\n",
    "\n"
   ]
  },
  {
   "cell_type": "code",
   "execution_count": null,
   "metadata": {
    "vscode": {
     "languageId": "plaintext"
    }
   },
   "outputs": [],
   "source": [
    "from flask import Flask, request, jsonify\n",
    "import pickle\n",
    "import pandas as pd"
   ]
  },
  {
   "cell_type": "code",
   "execution_count": null,
   "metadata": {
    "vscode": {
     "languageId": "plaintext"
    }
   },
   "outputs": [],
   "source": [
    "app = Flask(__name__)\n",
    "excluded_columns = ['price_car', 'price_car_normalized','additions','additionsPlus'] \n",
    "feature_names = [col for col in df.columns if col not in excluded_columns]\n"
   ]
  },
  {
   "cell_type": "code",
   "execution_count": null,
   "metadata": {
    "vscode": {
     "languageId": "plaintext"
    }
   },
   "outputs": [],
   "source": [
    "@app.route('/predict', methods=['POST'])\n",
    "def predict():\n",
    "    try:\n",
    "        default_data = pd.DataFrame([[0] * len(feature_names)], columns=feature_names)\n",
    "        data = request.get_json(force=True)\n",
    "        app.logger.info(f\"Received data: {data}\")\n",
    "        input_data = pd.DataFrame([data])\n",
    "        features_used_during_training = input_data.columns\n",
    "        input_data_selected = input_data[features_used_during_training]\n",
    "\n",
    "        # Update the default_data with the user input\n",
    "        default_data.update(input_data_selected)\n",
    "\n",
    "        # Scale the 'Motor power' feature using the motor scaler\n",
    "        default_data['motor_power'] = motorScaler.transform(default_data[['motor_power']])\n",
    "\n",
    "        # Make predictions using the model\n",
    "        predictions = rf_model.predict(default_data)\n",
    "\n",
    "        # Inverse transform the normalized predictions\n",
    "        original_scale_predictions = priceScaler.inverse_transform(predictions.reshape(-1, 1))\n",
    "\n",
    "        # Log data before prediction\n",
    "        app.logger.info(f\"Predicting with data: {default_data}\")\n",
    "\n",
    "        # Return the unnormalized predictions\n",
    "        return jsonify({'predicted_price': original_scale_predictions.tolist()})\n",
    "\n",
    "    except Exception as e:\n",
    "        app.logger.error(f\"Error: {str(e)}\")\n",
    "        return jsonify({'error': f'Internal Server Error: {str(e)}'})"
   ]
  },
  {
   "cell_type": "code",
   "execution_count": null,
   "metadata": {
    "vscode": {
     "languageId": "plaintext"
    }
   },
   "outputs": [],
   "source": [
    "if __name__ == '__main__':\n",
    "    app.run(port=5000)"
   ]
  }
 ],
 "metadata": {
  "language_info": {
   "name": "python"
  }
 },
 "nbformat": 4,
 "nbformat_minor": 2
}
