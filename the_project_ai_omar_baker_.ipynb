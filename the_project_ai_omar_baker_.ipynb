{
 "cells": [
  {
   "cell_type": "markdown",
   "metadata": {},
   "source": [
    "<div style=\"padding: 10px; background-color: #808080; margin: 0; color: #e7d954; font-family: newtimeroman; font-size: 150%; text-align: left; border-radius: 15px 50px; overflow: hidden; font-weight: 1000; width: 60%; float: left;\">\n",
    "import library\n",
    "</div>\n",
    " \n",
    "\n",
    "\n"
   ]
  },
  {
   "cell_type": "code",
   "execution_count": 7343,
   "metadata": {},
   "outputs": [],
   "source": [
    "import pandas as pd\n",
    "from bs4 import BeautifulSoup\n",
    "import os\n",
    "import csv\n",
    "from itertools import zip_longest\n",
    "import nest_asyncio\n",
    "from sklearn.model_selection import train_test_split\n",
    "from sklearn.linear_model import LinearRegression\n",
    "from sklearn.tree import DecisionTreeRegressor\n",
    "from sklearn.ensemble import RandomForestClassifier, RandomForestRegressor\n",
    "from sklearn.preprocessing import LabelEncoder, Binarizer, StandardScaler\n",
    "from scipy import stats\n",
    "import matplotlib.pyplot as plt\n",
    "import numpy as np\n",
    "import missingno as msno\n",
    "import re\n",
    "import inflect\n",
    "from word2number import w2n\n",
    "import seaborn as sns\n",
    "import plotly.express as px\n",
    "from sklearn.impute import SimpleImputer\n",
    "from sklearn.metrics import mean_squared_error, mean_absolute_error, r2_score\n",
    "from sklearn.feature_selection import SelectFromModel\n",
    "from sklearn.model_selection import GridSearchCV\n",
    "from sklearn.decomposition import PCA\n",
    "import statsmodels.api as sm\n",
    "from scipy.stats import linregress\n",
    "import pickle\n",
    "\n",
    "\n"
   ]
  },
  {
   "cell_type": "markdown",
   "metadata": {},
   "source": [
    "________________________________________________________________________________________________________"
   ]
  },
  {
   "cell_type": "code",
   "execution_count": 7344,
   "metadata": {},
   "outputs": [],
   "source": [
    "\n",
    "maping_description = {\n",
    "        \"لون السيارة\": 'color',\n",
    "        \"نوع الوقود\": 'fuel_type',\n",
    "        \"أصل السيارة\": 'origin_car',\n",
    "        \"عداد السيارة\": 'car_speedometer',\n",
    "        \"أصحاب سابقون\": 'ex_owners',\n",
    "        \"رخصة السيارة\": 'car_license',\n",
    "        \"نوع الجير\": 'lime_type',\n",
    "        \"الزجاج\": 'glass',\n",
    "        \"قوة الماتور\": 'motor_power',\n",
    "        \"عدد الركاب\": 'passengers',\n",
    "        \"وسيلة الدفع\": 'payment_method',\n",
    "        \"معروضة\": 'displayed'\n",
    "    }\n",
    "maping_additional={\n",
    "        'جهاز إنذار': 'alarm_devise',\n",
    "        'مُكيّف': 'air_conditioner',\n",
    "        'مسجل CD': 'CD_recorder',\n",
    "        'فتحة سقف': 'sunroof',\n",
    "        'فرش جلد': 'leather_upholstery',\n",
    "        'إغلاق مركزي': 'central_closing',\n",
    "        'جنطات مغنيسيوم': 'magnesium_rims',\n",
    "        'وسادة حماية هوائية': 'air_cushion',\n",
    "    } \n",
    "fuel_type_mapping = {\n",
    "    'ديزل': 1,\n",
    "    'بنزين': 2,\n",
    "    'هايبرد': 3,\n",
    "    'كهربا': 4\n",
    "}#(x-xmin)/(xmax-xmin)\n",
    "displayed_mapping = {\n",
    "    'للبيع فقط': 1,\n",
    "    'للتبديل فقط': 2, \n",
    "    'للبيع أو التبديل': 3\n",
    "}\n",
    "Limeـtype_mapping = {\n",
    "    'اوتوماتيك': 3,\n",
    "    'عادي': 1,\n",
    "    'نصف اوتوماتيك': 2\n",
    "}\n",
    "car_type_mapping = {\n",
    "    'تدريب سياقة': 3,\n",
    "    'تجاري': 6  ,\n",
    "    'حكومي': 1  ,\n",
    "    'تأجير': 2 , \n",
    "    'خصوصي':  4  , \n",
    "    'عمومي': 5\n",
    "}\n",
    "drivingـlicense = {\n",
    "    'نمرة صفراء': 2,\n",
    "    'فلسطينية': 1,\n",
    "}\n",
    "payment_method_map = {\n",
    "    'إمكانية التقسيط': 2,\n",
    "    'نقدا فقط': 1,\n",
    "}\n",
    "glass_map = {\n",
    "    'الكتروني': 2,\n",
    "    'يدوي': 1,\n",
    "}\n",
    "arabic_brands = ['كيا', 'هونداي', 'بيجو', 'سكودا', 'سوبارو', 'سيت', 'مرسيدس',\n",
    "                 'اودي', 'فولكسفاجن', 'Dodge', 'اوبل', 'شفروليه', 'فورد', 'فولفو',\n",
    "                 'ستروين', 'جييب', 'ايسوزو', 'رينو', 'مازدا', 'فيات', 'بي', 'دايو',\n",
    "                 'أفيكو', 'الفا', 'تويوتا', 'ميتسوبيشي', 'سانغ', 'دراجة', 'جي',\n",
    "                 'شاحنة', 'هوندا', 'نيسان', 'داف', 'روفر', 'داتشيا', 'لاندروفر',\n",
    "                 'كاديلاك', 'باص', 'سوزوكي', 'ديهاتسو', 'جاجوار']\n",
    "english_brands = ['Kia', 'Hyundai', 'Peugeot', 'Skoda', 'Subaru', 'Seat', 'Mercedes',\n",
    "                  'Audi', 'Volkswagen', 'Dodge', 'Opel', 'Chevrolet', 'Ford', 'Volvo',\n",
    "                  'Citroen', 'Jeep', 'Isuzu', 'Renault', 'Mazda', 'Fiat', 'BMW', 'Daewoo',\n",
    "                  'Iveco', 'Alfa Romeo', 'Toyota', 'Mitsubishi', 'SsangYong', 'Motorcycle', 'GMC',\n",
    "                  'Truck', 'Honda', 'Nissan', 'DAF', 'Rover', 'Dacia', 'Land Rover',\n",
    "                  'Cadillac', 'Bus', 'Suzuki', 'Daihatsu', 'Jaguar']\n",
    "\n",
    "brand_dict = dict(zip(arabic_brands, english_brands))\n",
    " \n",
    "results_dict = {\n",
    "    \"4+1\": 5 , \n",
    "    \"5+1\" : 6  , \n",
    "    \"6+1\" : 7   , \n",
    "    '1+1' : 2 , \n",
    "    '2' : 2 , \n",
    "    \"8+1\" : 9 , \n",
    "    \"2+1\" : 3 , \n",
    "    \"7+1\" : 8  , \n",
    "    \"3+1\" : 4 , \n",
    "    'اكثر من 10': 10 , \n",
    "    '7' :  7 , \n",
    "    '6x1' : 7  , \n",
    "     '9+1' : 10  , \n",
    "     '1+7' : 8 , \n",
    "     '7.1' : 8 , \n",
    "     '1+4'  : 5 , \n",
    "      '8' : 8 , \n",
    "      '7,+ 1':  8 ,\n",
    "        '6±1'  : 7 ,\n",
    "      '7 =1'  : 8 ,\n",
    "        '104' : 104 ,\n",
    "        '22':22 ,\n",
    "        '4+2' :  7  ,\n",
    "        '5+2': 7 ,\n",
    "        '2/1' : 3 \n",
    "}\n"
   ]
  },
  {
   "cell_type": "markdown",
   "metadata": {},
   "source": [
    "________________________________________________________________________________________________________"
   ]
  },
  {
   "cell_type": "markdown",
   "metadata": {},
   "source": [
    "<div style=\"padding: 10px; background-color: #FFFFFF; margin: 0; color: #000000; font-family: newtimeroman; font-size: 150%; text-align: center; border-radius: 15px 150px; overflow: hidden; font-weight: 1000; width: 100%; float: left;\">\n",
    "    <p style=\"margin: 0;\">EDA</p>\n",
    "</div>\n",
    "<p style=\"text-align: center;\">\n",
    "    <img src=\"https://media.giphy.com/media/3oKIPEqDGUULpEU0aQ/giphy.gif\" style=\"width: 200px; height: 100px;\">\n",
    "</p>\n",
    "<div style=\"padding: 10px; background-color: #808080; margin: 0 auto; color: #e7d954; font-family: newtimeroman; font-size: 150%; text-align: center; border-radius: 115px; overflow: hidden; font-weight: 1000; width: 60%;\">EDA</div>\n",
    "\n",
    "\n"
   ]
  },
  {
   "cell_type": "code",
   "execution_count": 7345,
   "metadata": {},
   "outputs": [],
   "source": [
    "df = pd.read_csv(\"/Users/macbook/Desktop/project ML/carsData1.csv\")"
   ]
  },
  {
   "cell_type": "code",
   "execution_count": 7346,
   "metadata": {},
   "outputs": [
    {
     "data": {
      "text/html": [
       "<div>\n",
       "<style scoped>\n",
       "    .dataframe tbody tr th:only-of-type {\n",
       "        vertical-align: middle;\n",
       "    }\n",
       "\n",
       "    .dataframe tbody tr th {\n",
       "        vertical-align: top;\n",
       "    }\n",
       "\n",
       "    .dataframe thead th {\n",
       "        text-align: right;\n",
       "    }\n",
       "</style>\n",
       "<table border=\"1\" class=\"dataframe\">\n",
       "  <thead>\n",
       "    <tr style=\"text-align: right;\">\n",
       "      <th></th>\n",
       "      <th>لون السيارة</th>\n",
       "      <th>نوع الوقود</th>\n",
       "      <th>أصل السيارة</th>\n",
       "      <th>رخصة السيارة</th>\n",
       "      <th>نوع الجير</th>\n",
       "      <th>الزجاج</th>\n",
       "      <th>قوة الماتور</th>\n",
       "      <th>عداد السيارة</th>\n",
       "      <th>وسيلة الدفع</th>\n",
       "      <th>معروضة</th>\n",
       "      <th>...</th>\n",
       "      <th>leather_upholstery</th>\n",
       "      <th>air_cushion</th>\n",
       "      <th>magnesium_rims</th>\n",
       "      <th>sunroof</th>\n",
       "      <th>التكميلي (جسم المركبة)</th>\n",
       "      <th>طرف ثالث</th>\n",
       "      <th>المجموع</th>\n",
       "      <th>name_car</th>\n",
       "      <th>model_car</th>\n",
       "      <th>price_car</th>\n",
       "    </tr>\n",
       "  </thead>\n",
       "  <tbody>\n",
       "    <tr>\n",
       "      <th>0</th>\n",
       "      <td>أسود</td>\n",
       "      <td>بنزين</td>\n",
       "      <td>خصوصي</td>\n",
       "      <td>فلسطينية</td>\n",
       "      <td>اوتوماتيك</td>\n",
       "      <td>الكتروني</td>\n",
       "      <td>1600.0</td>\n",
       "      <td>١٨٣٠٠٠</td>\n",
       "      <td>إمكانية التقسيط</td>\n",
       "      <td>للبيع فقط</td>\n",
       "      <td>...</td>\n",
       "      <td>1.0</td>\n",
       "      <td>1.0</td>\n",
       "      <td>0.0</td>\n",
       "      <td>0.0</td>\n",
       "      <td>1340.0</td>\n",
       "      <td>1000.0</td>\n",
       "      <td>2340.0</td>\n",
       "      <td>كيا برايد</td>\n",
       "      <td>موديل سنة 2008</td>\n",
       "      <td>44000.0</td>\n",
       "    </tr>\n",
       "    <tr>\n",
       "      <th>1</th>\n",
       "      <td>فضي</td>\n",
       "      <td>بنزين</td>\n",
       "      <td>خصوصي</td>\n",
       "      <td>فلسطينية</td>\n",
       "      <td>اوتوماتيك</td>\n",
       "      <td>الكتروني</td>\n",
       "      <td>1400.0</td>\n",
       "      <td>42000</td>\n",
       "      <td>نقدا فقط</td>\n",
       "      <td>للبيع أو التبديل</td>\n",
       "      <td>...</td>\n",
       "      <td>1.0</td>\n",
       "      <td>1.0</td>\n",
       "      <td>1.0</td>\n",
       "      <td>0.0</td>\n",
       "      <td>1035.0</td>\n",
       "      <td>1016.0</td>\n",
       "      <td>2050.0</td>\n",
       "      <td>هونداي اكسنت</td>\n",
       "      <td>موديل سنة 2013</td>\n",
       "      <td>58000.0</td>\n",
       "    </tr>\n",
       "    <tr>\n",
       "      <th>2</th>\n",
       "      <td>أسود</td>\n",
       "      <td>بنزين</td>\n",
       "      <td>خصوصي</td>\n",
       "      <td>فلسطينية</td>\n",
       "      <td>نصف اوتوماتيك</td>\n",
       "      <td>الكتروني</td>\n",
       "      <td>2000.0</td>\n",
       "      <td>85000</td>\n",
       "      <td>إمكانية التقسيط</td>\n",
       "      <td>للبيع فقط</td>\n",
       "      <td>...</td>\n",
       "      <td>1.0</td>\n",
       "      <td>1.0</td>\n",
       "      <td>1.0</td>\n",
       "      <td>1.0</td>\n",
       "      <td>1340.0</td>\n",
       "      <td>1000.0</td>\n",
       "      <td>2340.0</td>\n",
       "      <td>بيجو 508</td>\n",
       "      <td>موديل سنة 2013</td>\n",
       "      <td>40000.0</td>\n",
       "    </tr>\n",
       "    <tr>\n",
       "      <th>3</th>\n",
       "      <td>أزرق</td>\n",
       "      <td>ديزل</td>\n",
       "      <td>خصوصي</td>\n",
       "      <td>فلسطينية</td>\n",
       "      <td>عادي</td>\n",
       "      <td>الكتروني</td>\n",
       "      <td>1900.0</td>\n",
       "      <td>30000</td>\n",
       "      <td>إمكانية التقسيط</td>\n",
       "      <td>للبيع أو التبديل</td>\n",
       "      <td>...</td>\n",
       "      <td>1.0</td>\n",
       "      <td>1.0</td>\n",
       "      <td>1.0</td>\n",
       "      <td>0.0</td>\n",
       "      <td>1340.0</td>\n",
       "      <td>1226.0</td>\n",
       "      <td>2565.0</td>\n",
       "      <td>سكودا اوكتافيا</td>\n",
       "      <td>موديل سنة 2010</td>\n",
       "      <td>70000.0</td>\n",
       "    </tr>\n",
       "    <tr>\n",
       "      <th>4</th>\n",
       "      <td>رصاصي</td>\n",
       "      <td>بنزين</td>\n",
       "      <td>خصوصي</td>\n",
       "      <td>فلسطينية</td>\n",
       "      <td>عادي</td>\n",
       "      <td>الكتروني</td>\n",
       "      <td>1600.0</td>\n",
       "      <td>NaN</td>\n",
       "      <td>نقدا فقط</td>\n",
       "      <td>للبيع فقط</td>\n",
       "      <td>...</td>\n",
       "      <td>0.0</td>\n",
       "      <td>1.0</td>\n",
       "      <td>1.0</td>\n",
       "      <td>0.0</td>\n",
       "      <td>670.0</td>\n",
       "      <td>500.0</td>\n",
       "      <td>1170.0</td>\n",
       "      <td>سوبارو امبريزا</td>\n",
       "      <td>موديل سنة 1999</td>\n",
       "      <td>33000.0</td>\n",
       "    </tr>\n",
       "    <tr>\n",
       "      <th>...</th>\n",
       "      <td>...</td>\n",
       "      <td>...</td>\n",
       "      <td>...</td>\n",
       "      <td>...</td>\n",
       "      <td>...</td>\n",
       "      <td>...</td>\n",
       "      <td>...</td>\n",
       "      <td>...</td>\n",
       "      <td>...</td>\n",
       "      <td>...</td>\n",
       "      <td>...</td>\n",
       "      <td>...</td>\n",
       "      <td>...</td>\n",
       "      <td>...</td>\n",
       "      <td>...</td>\n",
       "      <td>...</td>\n",
       "      <td>...</td>\n",
       "      <td>...</td>\n",
       "      <td>...</td>\n",
       "      <td>...</td>\n",
       "      <td>...</td>\n",
       "    </tr>\n",
       "    <tr>\n",
       "      <th>7772</th>\n",
       "      <td>NaN</td>\n",
       "      <td>NaN</td>\n",
       "      <td>NaN</td>\n",
       "      <td>NaN</td>\n",
       "      <td>NaN</td>\n",
       "      <td>NaN</td>\n",
       "      <td>NaN</td>\n",
       "      <td>NaN</td>\n",
       "      <td>NaN</td>\n",
       "      <td>NaN</td>\n",
       "      <td>...</td>\n",
       "      <td>NaN</td>\n",
       "      <td>NaN</td>\n",
       "      <td>NaN</td>\n",
       "      <td>NaN</td>\n",
       "      <td>NaN</td>\n",
       "      <td>NaN</td>\n",
       "      <td>NaN</td>\n",
       "      <td>فيات فيات 132</td>\n",
       "      <td>موديل سنة 1973</td>\n",
       "      <td>27000.0</td>\n",
       "    </tr>\n",
       "    <tr>\n",
       "      <th>7773</th>\n",
       "      <td>NaN</td>\n",
       "      <td>NaN</td>\n",
       "      <td>NaN</td>\n",
       "      <td>NaN</td>\n",
       "      <td>NaN</td>\n",
       "      <td>NaN</td>\n",
       "      <td>NaN</td>\n",
       "      <td>NaN</td>\n",
       "      <td>NaN</td>\n",
       "      <td>NaN</td>\n",
       "      <td>...</td>\n",
       "      <td>NaN</td>\n",
       "      <td>NaN</td>\n",
       "      <td>NaN</td>\n",
       "      <td>NaN</td>\n",
       "      <td>NaN</td>\n",
       "      <td>NaN</td>\n",
       "      <td>NaN</td>\n",
       "      <td>هونداي سانتافيه</td>\n",
       "      <td>موديل سنة 2016</td>\n",
       "      <td>117000.0</td>\n",
       "    </tr>\n",
       "    <tr>\n",
       "      <th>7774</th>\n",
       "      <td>NaN</td>\n",
       "      <td>NaN</td>\n",
       "      <td>NaN</td>\n",
       "      <td>NaN</td>\n",
       "      <td>NaN</td>\n",
       "      <td>NaN</td>\n",
       "      <td>NaN</td>\n",
       "      <td>NaN</td>\n",
       "      <td>NaN</td>\n",
       "      <td>NaN</td>\n",
       "      <td>...</td>\n",
       "      <td>NaN</td>\n",
       "      <td>NaN</td>\n",
       "      <td>NaN</td>\n",
       "      <td>NaN</td>\n",
       "      <td>NaN</td>\n",
       "      <td>NaN</td>\n",
       "      <td>NaN</td>\n",
       "      <td>هونداي اكسنت</td>\n",
       "      <td>موديل سنة 2017</td>\n",
       "      <td>67000.0</td>\n",
       "    </tr>\n",
       "    <tr>\n",
       "      <th>7775</th>\n",
       "      <td>NaN</td>\n",
       "      <td>NaN</td>\n",
       "      <td>NaN</td>\n",
       "      <td>NaN</td>\n",
       "      <td>NaN</td>\n",
       "      <td>NaN</td>\n",
       "      <td>NaN</td>\n",
       "      <td>NaN</td>\n",
       "      <td>NaN</td>\n",
       "      <td>NaN</td>\n",
       "      <td>...</td>\n",
       "      <td>NaN</td>\n",
       "      <td>NaN</td>\n",
       "      <td>NaN</td>\n",
       "      <td>NaN</td>\n",
       "      <td>NaN</td>\n",
       "      <td>NaN</td>\n",
       "      <td>NaN</td>\n",
       "      <td>سكودا فابيا</td>\n",
       "      <td>موديل سنة 2015</td>\n",
       "      <td>58000.0</td>\n",
       "    </tr>\n",
       "    <tr>\n",
       "      <th>7776</th>\n",
       "      <td>NaN</td>\n",
       "      <td>NaN</td>\n",
       "      <td>NaN</td>\n",
       "      <td>NaN</td>\n",
       "      <td>NaN</td>\n",
       "      <td>NaN</td>\n",
       "      <td>NaN</td>\n",
       "      <td>NaN</td>\n",
       "      <td>NaN</td>\n",
       "      <td>NaN</td>\n",
       "      <td>...</td>\n",
       "      <td>NaN</td>\n",
       "      <td>NaN</td>\n",
       "      <td>NaN</td>\n",
       "      <td>NaN</td>\n",
       "      <td>NaN</td>\n",
       "      <td>NaN</td>\n",
       "      <td>NaN</td>\n",
       "      <td>سيت ابيزا</td>\n",
       "      <td>موديل سنة 2016</td>\n",
       "      <td>65000.0</td>\n",
       "    </tr>\n",
       "  </tbody>\n",
       "</table>\n",
       "<p>7777 rows × 27 columns</p>\n",
       "</div>"
      ],
      "text/plain": [
       "     لون السيارة نوع الوقود أصل السيارة رخصة السيارة      نوع الجير    الزجاج  \\\n",
       "0           أسود      بنزين       خصوصي     فلسطينية      اوتوماتيك  الكتروني   \n",
       "1            فضي      بنزين       خصوصي     فلسطينية      اوتوماتيك  الكتروني   \n",
       "2           أسود      بنزين       خصوصي     فلسطينية  نصف اوتوماتيك  الكتروني   \n",
       "3           أزرق       ديزل       خصوصي     فلسطينية           عادي  الكتروني   \n",
       "4          رصاصي      بنزين       خصوصي     فلسطينية           عادي  الكتروني   \n",
       "...          ...        ...         ...          ...            ...       ...   \n",
       "7772         NaN        NaN         NaN          NaN            NaN       NaN   \n",
       "7773         NaN        NaN         NaN          NaN            NaN       NaN   \n",
       "7774         NaN        NaN         NaN          NaN            NaN       NaN   \n",
       "7775         NaN        NaN         NaN          NaN            NaN       NaN   \n",
       "7776         NaN        NaN         NaN          NaN            NaN       NaN   \n",
       "\n",
       "      قوة الماتور عداد السيارة      وسيلة الدفع            معروضة  ...  \\\n",
       "0          1600.0       ١٨٣٠٠٠  إمكانية التقسيط         للبيع فقط  ...   \n",
       "1          1400.0        42000         نقدا فقط  للبيع أو التبديل  ...   \n",
       "2          2000.0        85000  إمكانية التقسيط         للبيع فقط  ...   \n",
       "3          1900.0        30000  إمكانية التقسيط  للبيع أو التبديل  ...   \n",
       "4          1600.0          NaN         نقدا فقط         للبيع فقط  ...   \n",
       "...           ...          ...              ...               ...  ...   \n",
       "7772          NaN          NaN              NaN               NaN  ...   \n",
       "7773          NaN          NaN              NaN               NaN  ...   \n",
       "7774          NaN          NaN              NaN               NaN  ...   \n",
       "7775          NaN          NaN              NaN               NaN  ...   \n",
       "7776          NaN          NaN              NaN               NaN  ...   \n",
       "\n",
       "     leather_upholstery air_cushion magnesium_rims  sunroof  \\\n",
       "0                   1.0         1.0            0.0      0.0   \n",
       "1                   1.0         1.0            1.0      0.0   \n",
       "2                   1.0         1.0            1.0      1.0   \n",
       "3                   1.0         1.0            1.0      0.0   \n",
       "4                   0.0         1.0            1.0      0.0   \n",
       "...                 ...         ...            ...      ...   \n",
       "7772                NaN         NaN            NaN      NaN   \n",
       "7773                NaN         NaN            NaN      NaN   \n",
       "7774                NaN         NaN            NaN      NaN   \n",
       "7775                NaN         NaN            NaN      NaN   \n",
       "7776                NaN         NaN            NaN      NaN   \n",
       "\n",
       "      التكميلي (جسم المركبة)  طرف ثالث  المجموع         name_car  \\\n",
       "0                     1340.0    1000.0   2340.0        كيا برايد   \n",
       "1                     1035.0    1016.0   2050.0     هونداي اكسنت   \n",
       "2                     1340.0    1000.0   2340.0         بيجو 508   \n",
       "3                     1340.0    1226.0   2565.0   سكودا اوكتافيا   \n",
       "4                      670.0     500.0   1170.0   سوبارو امبريزا   \n",
       "...                      ...       ...      ...              ...   \n",
       "7772                     NaN       NaN      NaN    فيات فيات 132   \n",
       "7773                     NaN       NaN      NaN  هونداي سانتافيه   \n",
       "7774                     NaN       NaN      NaN     هونداي اكسنت   \n",
       "7775                     NaN       NaN      NaN      سكودا فابيا   \n",
       "7776                     NaN       NaN      NaN        سيت ابيزا   \n",
       "\n",
       "           model_car  price_car  \n",
       "0     موديل سنة 2008    44000.0  \n",
       "1     موديل سنة 2013    58000.0  \n",
       "2     موديل سنة 2013    40000.0  \n",
       "3     موديل سنة 2010    70000.0  \n",
       "4     موديل سنة 1999    33000.0  \n",
       "...              ...        ...  \n",
       "7772  موديل سنة 1973    27000.0  \n",
       "7773  موديل سنة 2016   117000.0  \n",
       "7774  موديل سنة 2017    67000.0  \n",
       "7775  موديل سنة 2015    58000.0  \n",
       "7776  موديل سنة 2016    65000.0  \n",
       "\n",
       "[7777 rows x 27 columns]"
      ]
     },
     "execution_count": 7346,
     "metadata": {},
     "output_type": "execute_result"
    }
   ],
   "source": [
    "df"
   ]
  },
  {
   "cell_type": "code",
   "execution_count": 7347,
   "metadata": {},
   "outputs": [
    {
     "data": {
      "text/plain": [
       "dict_items([('لون السيارة', 'color'), ('نوع الوقود', 'fuel_type'), ('أصل السيارة', 'origin_car'), ('عداد السيارة', 'car_speedometer'), ('أصحاب سابقون', 'ex_owners'), ('رخصة السيارة', 'car_license'), ('نوع الجير', 'lime_type'), ('الزجاج', 'glass'), ('قوة الماتور', 'motor_power'), ('عدد الركاب', 'passengers'), ('وسيلة الدفع', 'payment_method'), ('معروضة', 'displayed')])"
      ]
     },
     "execution_count": 7347,
     "metadata": {},
     "output_type": "execute_result"
    }
   ],
   "source": [
    "maping_description.items()\n",
    "#print maping_description (name col)"
   ]
  },
  {
   "cell_type": "code",
   "execution_count": 7348,
   "metadata": {},
   "outputs": [
    {
     "name": "stdout",
     "output_type": "stream",
     "text": [
      "لون السيارة\n",
      "color\n",
      "---------\n",
      "نوع الوقود\n",
      "fuel_type\n",
      "---------\n",
      "أصل السيارة\n",
      "origin_car\n",
      "---------\n",
      "عداد السيارة\n",
      "car_speedometer\n",
      "---------\n",
      "أصحاب سابقون\n",
      "ex_owners\n",
      "---------\n",
      "رخصة السيارة\n",
      "car_license\n",
      "---------\n",
      "نوع الجير\n",
      "lime_type\n",
      "---------\n",
      "الزجاج\n",
      "glass\n",
      "---------\n",
      "قوة الماتور\n",
      "motor_power\n",
      "---------\n",
      "عدد الركاب\n",
      "passengers\n",
      "---------\n",
      "وسيلة الدفع\n",
      "payment_method\n",
      "---------\n",
      "معروضة\n",
      "displayed\n",
      "---------\n"
     ]
    }
   ],
   "source": [
    " \n",
    "for col_arabic ,col_english  in maping_description.items():\n",
    "    print(col_arabic)\n",
    "    print(col_english)\n",
    "    print(\"---------\")\n"
   ]
  },
  {
   "cell_type": "code",
   "execution_count": 7349,
   "metadata": {},
   "outputs": [
    {
     "data": {
      "text/plain": [
       "['لون السيارة',\n",
       " 'نوع الوقود',\n",
       " 'أصل السيارة',\n",
       " 'عداد السيارة',\n",
       " 'أصحاب سابقون',\n",
       " 'رخصة السيارة',\n",
       " 'نوع الجير',\n",
       " 'الزجاج',\n",
       " 'قوة الماتور',\n",
       " 'عدد الركاب',\n",
       " 'وسيلة الدفع',\n",
       " 'معروضة']"
      ]
     },
     "execution_count": 7349,
     "metadata": {},
     "output_type": "execute_result"
    }
   ],
   "source": [
    "list(maping_description.keys())"
   ]
  },
  {
   "cell_type": "code",
   "execution_count": 7350,
   "metadata": {},
   "outputs": [
    {
     "data": {
      "text/html": [
       "<div>\n",
       "<style scoped>\n",
       "    .dataframe tbody tr th:only-of-type {\n",
       "        vertical-align: middle;\n",
       "    }\n",
       "\n",
       "    .dataframe tbody tr th {\n",
       "        vertical-align: top;\n",
       "    }\n",
       "\n",
       "    .dataframe thead th {\n",
       "        text-align: right;\n",
       "    }\n",
       "</style>\n",
       "<table border=\"1\" class=\"dataframe\">\n",
       "  <thead>\n",
       "    <tr style=\"text-align: right;\">\n",
       "      <th></th>\n",
       "      <th>الدفع</th>\n",
       "      <th>air_conditioner</th>\n",
       "      <th>central_closing</th>\n",
       "      <th>alarm_devise</th>\n",
       "      <th>CD_recorder</th>\n",
       "      <th>leather_upholstery</th>\n",
       "      <th>air_cushion</th>\n",
       "      <th>magnesium_rims</th>\n",
       "      <th>sunroof</th>\n",
       "      <th>التكميلي (جسم المركبة)</th>\n",
       "      <th>...</th>\n",
       "      <th>origin_car</th>\n",
       "      <th>car_speedometer</th>\n",
       "      <th>ex_owners</th>\n",
       "      <th>car_license</th>\n",
       "      <th>lime_type</th>\n",
       "      <th>glass</th>\n",
       "      <th>motor_power</th>\n",
       "      <th>passengers</th>\n",
       "      <th>payment_method</th>\n",
       "      <th>displayed</th>\n",
       "    </tr>\n",
       "  </thead>\n",
       "  <tbody>\n",
       "    <tr>\n",
       "      <th>0</th>\n",
       "      <td>NaN</td>\n",
       "      <td>1.0</td>\n",
       "      <td>1.0</td>\n",
       "      <td>1.0</td>\n",
       "      <td>1.0</td>\n",
       "      <td>1.0</td>\n",
       "      <td>1.0</td>\n",
       "      <td>0.0</td>\n",
       "      <td>0.0</td>\n",
       "      <td>1340.0</td>\n",
       "      <td>...</td>\n",
       "      <td>خصوصي</td>\n",
       "      <td>١٨٣٠٠٠</td>\n",
       "      <td>يد اولى</td>\n",
       "      <td>فلسطينية</td>\n",
       "      <td>اوتوماتيك</td>\n",
       "      <td>الكتروني</td>\n",
       "      <td>1600.0</td>\n",
       "      <td>NaN</td>\n",
       "      <td>إمكانية التقسيط</td>\n",
       "      <td>للبيع فقط</td>\n",
       "    </tr>\n",
       "    <tr>\n",
       "      <th>1</th>\n",
       "      <td>NaN</td>\n",
       "      <td>1.0</td>\n",
       "      <td>1.0</td>\n",
       "      <td>1.0</td>\n",
       "      <td>0.0</td>\n",
       "      <td>1.0</td>\n",
       "      <td>1.0</td>\n",
       "      <td>1.0</td>\n",
       "      <td>0.0</td>\n",
       "      <td>1035.0</td>\n",
       "      <td>...</td>\n",
       "      <td>خصوصي</td>\n",
       "      <td>42000</td>\n",
       "      <td>يد اولى</td>\n",
       "      <td>فلسطينية</td>\n",
       "      <td>اوتوماتيك</td>\n",
       "      <td>الكتروني</td>\n",
       "      <td>1400.0</td>\n",
       "      <td>4+1</td>\n",
       "      <td>نقدا فقط</td>\n",
       "      <td>للبيع أو التبديل</td>\n",
       "    </tr>\n",
       "    <tr>\n",
       "      <th>2</th>\n",
       "      <td>NaN</td>\n",
       "      <td>1.0</td>\n",
       "      <td>1.0</td>\n",
       "      <td>1.0</td>\n",
       "      <td>1.0</td>\n",
       "      <td>1.0</td>\n",
       "      <td>1.0</td>\n",
       "      <td>1.0</td>\n",
       "      <td>1.0</td>\n",
       "      <td>1340.0</td>\n",
       "      <td>...</td>\n",
       "      <td>خصوصي</td>\n",
       "      <td>85000</td>\n",
       "      <td>يد ثانيه</td>\n",
       "      <td>فلسطينية</td>\n",
       "      <td>نصف اوتوماتيك</td>\n",
       "      <td>الكتروني</td>\n",
       "      <td>2000.0</td>\n",
       "      <td>4+1</td>\n",
       "      <td>إمكانية التقسيط</td>\n",
       "      <td>للبيع فقط</td>\n",
       "    </tr>\n",
       "    <tr>\n",
       "      <th>3</th>\n",
       "      <td>NaN</td>\n",
       "      <td>1.0</td>\n",
       "      <td>1.0</td>\n",
       "      <td>1.0</td>\n",
       "      <td>1.0</td>\n",
       "      <td>1.0</td>\n",
       "      <td>1.0</td>\n",
       "      <td>1.0</td>\n",
       "      <td>0.0</td>\n",
       "      <td>1340.0</td>\n",
       "      <td>...</td>\n",
       "      <td>خصوصي</td>\n",
       "      <td>30000</td>\n",
       "      <td>3</td>\n",
       "      <td>فلسطينية</td>\n",
       "      <td>عادي</td>\n",
       "      <td>الكتروني</td>\n",
       "      <td>1900.0</td>\n",
       "      <td>4+1</td>\n",
       "      <td>إمكانية التقسيط</td>\n",
       "      <td>للبيع أو التبديل</td>\n",
       "    </tr>\n",
       "    <tr>\n",
       "      <th>4</th>\n",
       "      <td>NaN</td>\n",
       "      <td>1.0</td>\n",
       "      <td>1.0</td>\n",
       "      <td>1.0</td>\n",
       "      <td>1.0</td>\n",
       "      <td>0.0</td>\n",
       "      <td>1.0</td>\n",
       "      <td>1.0</td>\n",
       "      <td>0.0</td>\n",
       "      <td>670.0</td>\n",
       "      <td>...</td>\n",
       "      <td>خصوصي</td>\n",
       "      <td>NaN</td>\n",
       "      <td>NaN</td>\n",
       "      <td>فلسطينية</td>\n",
       "      <td>عادي</td>\n",
       "      <td>الكتروني</td>\n",
       "      <td>1600.0</td>\n",
       "      <td>4+1</td>\n",
       "      <td>نقدا فقط</td>\n",
       "      <td>للبيع فقط</td>\n",
       "    </tr>\n",
       "    <tr>\n",
       "      <th>...</th>\n",
       "      <td>...</td>\n",
       "      <td>...</td>\n",
       "      <td>...</td>\n",
       "      <td>...</td>\n",
       "      <td>...</td>\n",
       "      <td>...</td>\n",
       "      <td>...</td>\n",
       "      <td>...</td>\n",
       "      <td>...</td>\n",
       "      <td>...</td>\n",
       "      <td>...</td>\n",
       "      <td>...</td>\n",
       "      <td>...</td>\n",
       "      <td>...</td>\n",
       "      <td>...</td>\n",
       "      <td>...</td>\n",
       "      <td>...</td>\n",
       "      <td>...</td>\n",
       "      <td>...</td>\n",
       "      <td>...</td>\n",
       "      <td>...</td>\n",
       "    </tr>\n",
       "    <tr>\n",
       "      <th>7772</th>\n",
       "      <td>NaN</td>\n",
       "      <td>NaN</td>\n",
       "      <td>NaN</td>\n",
       "      <td>NaN</td>\n",
       "      <td>NaN</td>\n",
       "      <td>NaN</td>\n",
       "      <td>NaN</td>\n",
       "      <td>NaN</td>\n",
       "      <td>NaN</td>\n",
       "      <td>NaN</td>\n",
       "      <td>...</td>\n",
       "      <td>NaN</td>\n",
       "      <td>NaN</td>\n",
       "      <td>NaN</td>\n",
       "      <td>NaN</td>\n",
       "      <td>NaN</td>\n",
       "      <td>NaN</td>\n",
       "      <td>NaN</td>\n",
       "      <td>NaN</td>\n",
       "      <td>NaN</td>\n",
       "      <td>NaN</td>\n",
       "    </tr>\n",
       "    <tr>\n",
       "      <th>7773</th>\n",
       "      <td>NaN</td>\n",
       "      <td>NaN</td>\n",
       "      <td>NaN</td>\n",
       "      <td>NaN</td>\n",
       "      <td>NaN</td>\n",
       "      <td>NaN</td>\n",
       "      <td>NaN</td>\n",
       "      <td>NaN</td>\n",
       "      <td>NaN</td>\n",
       "      <td>NaN</td>\n",
       "      <td>...</td>\n",
       "      <td>NaN</td>\n",
       "      <td>NaN</td>\n",
       "      <td>NaN</td>\n",
       "      <td>NaN</td>\n",
       "      <td>NaN</td>\n",
       "      <td>NaN</td>\n",
       "      <td>NaN</td>\n",
       "      <td>NaN</td>\n",
       "      <td>NaN</td>\n",
       "      <td>NaN</td>\n",
       "    </tr>\n",
       "    <tr>\n",
       "      <th>7774</th>\n",
       "      <td>NaN</td>\n",
       "      <td>NaN</td>\n",
       "      <td>NaN</td>\n",
       "      <td>NaN</td>\n",
       "      <td>NaN</td>\n",
       "      <td>NaN</td>\n",
       "      <td>NaN</td>\n",
       "      <td>NaN</td>\n",
       "      <td>NaN</td>\n",
       "      <td>NaN</td>\n",
       "      <td>...</td>\n",
       "      <td>NaN</td>\n",
       "      <td>NaN</td>\n",
       "      <td>NaN</td>\n",
       "      <td>NaN</td>\n",
       "      <td>NaN</td>\n",
       "      <td>NaN</td>\n",
       "      <td>NaN</td>\n",
       "      <td>NaN</td>\n",
       "      <td>NaN</td>\n",
       "      <td>NaN</td>\n",
       "    </tr>\n",
       "    <tr>\n",
       "      <th>7775</th>\n",
       "      <td>NaN</td>\n",
       "      <td>NaN</td>\n",
       "      <td>NaN</td>\n",
       "      <td>NaN</td>\n",
       "      <td>NaN</td>\n",
       "      <td>NaN</td>\n",
       "      <td>NaN</td>\n",
       "      <td>NaN</td>\n",
       "      <td>NaN</td>\n",
       "      <td>NaN</td>\n",
       "      <td>...</td>\n",
       "      <td>NaN</td>\n",
       "      <td>NaN</td>\n",
       "      <td>NaN</td>\n",
       "      <td>NaN</td>\n",
       "      <td>NaN</td>\n",
       "      <td>NaN</td>\n",
       "      <td>NaN</td>\n",
       "      <td>NaN</td>\n",
       "      <td>NaN</td>\n",
       "      <td>NaN</td>\n",
       "    </tr>\n",
       "    <tr>\n",
       "      <th>7776</th>\n",
       "      <td>NaN</td>\n",
       "      <td>NaN</td>\n",
       "      <td>NaN</td>\n",
       "      <td>NaN</td>\n",
       "      <td>NaN</td>\n",
       "      <td>NaN</td>\n",
       "      <td>NaN</td>\n",
       "      <td>NaN</td>\n",
       "      <td>NaN</td>\n",
       "      <td>NaN</td>\n",
       "      <td>...</td>\n",
       "      <td>NaN</td>\n",
       "      <td>NaN</td>\n",
       "      <td>NaN</td>\n",
       "      <td>NaN</td>\n",
       "      <td>NaN</td>\n",
       "      <td>NaN</td>\n",
       "      <td>NaN</td>\n",
       "      <td>NaN</td>\n",
       "      <td>NaN</td>\n",
       "      <td>NaN</td>\n",
       "    </tr>\n",
       "  </tbody>\n",
       "</table>\n",
       "<p>7777 rows × 27 columns</p>\n",
       "</div>"
      ],
      "text/plain": [
       "     الدفع  air_conditioner  central_closing  alarm_devise  CD_recorder  \\\n",
       "0      NaN              1.0              1.0           1.0          1.0   \n",
       "1      NaN              1.0              1.0           1.0          0.0   \n",
       "2      NaN              1.0              1.0           1.0          1.0   \n",
       "3      NaN              1.0              1.0           1.0          1.0   \n",
       "4      NaN              1.0              1.0           1.0          1.0   \n",
       "...    ...              ...              ...           ...          ...   \n",
       "7772   NaN              NaN              NaN           NaN          NaN   \n",
       "7773   NaN              NaN              NaN           NaN          NaN   \n",
       "7774   NaN              NaN              NaN           NaN          NaN   \n",
       "7775   NaN              NaN              NaN           NaN          NaN   \n",
       "7776   NaN              NaN              NaN           NaN          NaN   \n",
       "\n",
       "      leather_upholstery  air_cushion  magnesium_rims  sunroof  \\\n",
       "0                    1.0          1.0             0.0      0.0   \n",
       "1                    1.0          1.0             1.0      0.0   \n",
       "2                    1.0          1.0             1.0      1.0   \n",
       "3                    1.0          1.0             1.0      0.0   \n",
       "4                    0.0          1.0             1.0      0.0   \n",
       "...                  ...          ...             ...      ...   \n",
       "7772                 NaN          NaN             NaN      NaN   \n",
       "7773                 NaN          NaN             NaN      NaN   \n",
       "7774                 NaN          NaN             NaN      NaN   \n",
       "7775                 NaN          NaN             NaN      NaN   \n",
       "7776                 NaN          NaN             NaN      NaN   \n",
       "\n",
       "      التكميلي (جسم المركبة)  ...  origin_car  car_speedometer ex_owners  \\\n",
       "0                     1340.0  ...       خصوصي           ١٨٣٠٠٠   يد اولى   \n",
       "1                     1035.0  ...       خصوصي            42000   يد اولى   \n",
       "2                     1340.0  ...       خصوصي            85000  يد ثانيه   \n",
       "3                     1340.0  ...       خصوصي            30000         3   \n",
       "4                      670.0  ...       خصوصي              NaN       NaN   \n",
       "...                      ...  ...         ...              ...       ...   \n",
       "7772                     NaN  ...         NaN              NaN       NaN   \n",
       "7773                     NaN  ...         NaN              NaN       NaN   \n",
       "7774                     NaN  ...         NaN              NaN       NaN   \n",
       "7775                     NaN  ...         NaN              NaN       NaN   \n",
       "7776                     NaN  ...         NaN              NaN       NaN   \n",
       "\n",
       "     car_license      lime_type     glass motor_power passengers  \\\n",
       "0       فلسطينية      اوتوماتيك  الكتروني      1600.0        NaN   \n",
       "1       فلسطينية      اوتوماتيك  الكتروني      1400.0        4+1   \n",
       "2       فلسطينية  نصف اوتوماتيك  الكتروني      2000.0        4+1   \n",
       "3       فلسطينية           عادي  الكتروني      1900.0        4+1   \n",
       "4       فلسطينية           عادي  الكتروني      1600.0        4+1   \n",
       "...          ...            ...       ...         ...        ...   \n",
       "7772         NaN            NaN       NaN         NaN        NaN   \n",
       "7773         NaN            NaN       NaN         NaN        NaN   \n",
       "7774         NaN            NaN       NaN         NaN        NaN   \n",
       "7775         NaN            NaN       NaN         NaN        NaN   \n",
       "7776         NaN            NaN       NaN         NaN        NaN   \n",
       "\n",
       "       payment_method         displayed  \n",
       "0     إمكانية التقسيط         للبيع فقط  \n",
       "1            نقدا فقط  للبيع أو التبديل  \n",
       "2     إمكانية التقسيط         للبيع فقط  \n",
       "3     إمكانية التقسيط  للبيع أو التبديل  \n",
       "4            نقدا فقط         للبيع فقط  \n",
       "...               ...               ...  \n",
       "7772              NaN               NaN  \n",
       "7773              NaN               NaN  \n",
       "7774              NaN               NaN  \n",
       "7775              NaN               NaN  \n",
       "7776              NaN               NaN  \n",
       "\n",
       "[7777 rows x 27 columns]"
      ]
     },
     "execution_count": 7350,
     "metadata": {},
     "output_type": "execute_result"
    }
   ],
   "source": [
    " \n",
    "for col_arabic, col_english in maping_description.items():\n",
    "    df[col_english] = df[col_arabic]\n",
    "df = df.drop(list(maping_description.keys()), axis=1)\n",
    "df"
   ]
  },
  {
   "cell_type": "markdown",
   "metadata": {},
   "source": [
    "----------------------------"
   ]
  },
  {
   "cell_type": "markdown",
   "metadata": {},
   "source": [
    "\n",
    "\n",
    "\n",
    "\n",
    "<p style=\"text-align: center;\">\n",
    "    <img src=\" https://media.giphy.com/media/l0HlJIp1dIZzimEBq/giphy.gif\" style=\"width: 200px; height: 100px;\">\n",
    "</p>\n",
    "<div style=\"padding: 10px; background-color: #808080; margin: 0 auto; color: #e7d954; font-family: newtimeroman; font-size: 150%; text-align: center; border-radius: 15px; overflow: hidden; font-weight: 1000; width: 60%;\">Understanding data\n",
    " </div>\n",
    "\n",
    "\n",
    "\n",
    "\n"
   ]
  },
  {
   "cell_type": "code",
   "execution_count": 7351,
   "metadata": {},
   "outputs": [
    {
     "data": {
      "text/html": [
       "<div>\n",
       "<style scoped>\n",
       "    .dataframe tbody tr th:only-of-type {\n",
       "        vertical-align: middle;\n",
       "    }\n",
       "\n",
       "    .dataframe tbody tr th {\n",
       "        vertical-align: top;\n",
       "    }\n",
       "\n",
       "    .dataframe thead th {\n",
       "        text-align: right;\n",
       "    }\n",
       "</style>\n",
       "<table border=\"1\" class=\"dataframe\">\n",
       "  <thead>\n",
       "    <tr style=\"text-align: right;\">\n",
       "      <th></th>\n",
       "      <th>الدفع</th>\n",
       "      <th>air_conditioner</th>\n",
       "      <th>central_closing</th>\n",
       "      <th>alarm_devise</th>\n",
       "      <th>CD_recorder</th>\n",
       "      <th>leather_upholstery</th>\n",
       "      <th>air_cushion</th>\n",
       "      <th>magnesium_rims</th>\n",
       "      <th>sunroof</th>\n",
       "      <th>التكميلي (جسم المركبة)</th>\n",
       "      <th>...</th>\n",
       "      <th>origin_car</th>\n",
       "      <th>car_speedometer</th>\n",
       "      <th>ex_owners</th>\n",
       "      <th>car_license</th>\n",
       "      <th>lime_type</th>\n",
       "      <th>glass</th>\n",
       "      <th>motor_power</th>\n",
       "      <th>passengers</th>\n",
       "      <th>payment_method</th>\n",
       "      <th>displayed</th>\n",
       "    </tr>\n",
       "  </thead>\n",
       "  <tbody>\n",
       "    <tr>\n",
       "      <th>0</th>\n",
       "      <td>NaN</td>\n",
       "      <td>1.0</td>\n",
       "      <td>1.0</td>\n",
       "      <td>1.0</td>\n",
       "      <td>1.0</td>\n",
       "      <td>1.0</td>\n",
       "      <td>1.0</td>\n",
       "      <td>0.0</td>\n",
       "      <td>0.0</td>\n",
       "      <td>1340.0</td>\n",
       "      <td>...</td>\n",
       "      <td>خصوصي</td>\n",
       "      <td>١٨٣٠٠٠</td>\n",
       "      <td>يد اولى</td>\n",
       "      <td>فلسطينية</td>\n",
       "      <td>اوتوماتيك</td>\n",
       "      <td>الكتروني</td>\n",
       "      <td>1600.0</td>\n",
       "      <td>NaN</td>\n",
       "      <td>إمكانية التقسيط</td>\n",
       "      <td>للبيع فقط</td>\n",
       "    </tr>\n",
       "    <tr>\n",
       "      <th>1</th>\n",
       "      <td>NaN</td>\n",
       "      <td>1.0</td>\n",
       "      <td>1.0</td>\n",
       "      <td>1.0</td>\n",
       "      <td>0.0</td>\n",
       "      <td>1.0</td>\n",
       "      <td>1.0</td>\n",
       "      <td>1.0</td>\n",
       "      <td>0.0</td>\n",
       "      <td>1035.0</td>\n",
       "      <td>...</td>\n",
       "      <td>خصوصي</td>\n",
       "      <td>42000</td>\n",
       "      <td>يد اولى</td>\n",
       "      <td>فلسطينية</td>\n",
       "      <td>اوتوماتيك</td>\n",
       "      <td>الكتروني</td>\n",
       "      <td>1400.0</td>\n",
       "      <td>4+1</td>\n",
       "      <td>نقدا فقط</td>\n",
       "      <td>للبيع أو التبديل</td>\n",
       "    </tr>\n",
       "    <tr>\n",
       "      <th>2</th>\n",
       "      <td>NaN</td>\n",
       "      <td>1.0</td>\n",
       "      <td>1.0</td>\n",
       "      <td>1.0</td>\n",
       "      <td>1.0</td>\n",
       "      <td>1.0</td>\n",
       "      <td>1.0</td>\n",
       "      <td>1.0</td>\n",
       "      <td>1.0</td>\n",
       "      <td>1340.0</td>\n",
       "      <td>...</td>\n",
       "      <td>خصوصي</td>\n",
       "      <td>85000</td>\n",
       "      <td>يد ثانيه</td>\n",
       "      <td>فلسطينية</td>\n",
       "      <td>نصف اوتوماتيك</td>\n",
       "      <td>الكتروني</td>\n",
       "      <td>2000.0</td>\n",
       "      <td>4+1</td>\n",
       "      <td>إمكانية التقسيط</td>\n",
       "      <td>للبيع فقط</td>\n",
       "    </tr>\n",
       "    <tr>\n",
       "      <th>3</th>\n",
       "      <td>NaN</td>\n",
       "      <td>1.0</td>\n",
       "      <td>1.0</td>\n",
       "      <td>1.0</td>\n",
       "      <td>1.0</td>\n",
       "      <td>1.0</td>\n",
       "      <td>1.0</td>\n",
       "      <td>1.0</td>\n",
       "      <td>0.0</td>\n",
       "      <td>1340.0</td>\n",
       "      <td>...</td>\n",
       "      <td>خصوصي</td>\n",
       "      <td>30000</td>\n",
       "      <td>3</td>\n",
       "      <td>فلسطينية</td>\n",
       "      <td>عادي</td>\n",
       "      <td>الكتروني</td>\n",
       "      <td>1900.0</td>\n",
       "      <td>4+1</td>\n",
       "      <td>إمكانية التقسيط</td>\n",
       "      <td>للبيع أو التبديل</td>\n",
       "    </tr>\n",
       "    <tr>\n",
       "      <th>4</th>\n",
       "      <td>NaN</td>\n",
       "      <td>1.0</td>\n",
       "      <td>1.0</td>\n",
       "      <td>1.0</td>\n",
       "      <td>1.0</td>\n",
       "      <td>0.0</td>\n",
       "      <td>1.0</td>\n",
       "      <td>1.0</td>\n",
       "      <td>0.0</td>\n",
       "      <td>670.0</td>\n",
       "      <td>...</td>\n",
       "      <td>خصوصي</td>\n",
       "      <td>NaN</td>\n",
       "      <td>NaN</td>\n",
       "      <td>فلسطينية</td>\n",
       "      <td>عادي</td>\n",
       "      <td>الكتروني</td>\n",
       "      <td>1600.0</td>\n",
       "      <td>4+1</td>\n",
       "      <td>نقدا فقط</td>\n",
       "      <td>للبيع فقط</td>\n",
       "    </tr>\n",
       "  </tbody>\n",
       "</table>\n",
       "<p>5 rows × 27 columns</p>\n",
       "</div>"
      ],
      "text/plain": [
       "  الدفع  air_conditioner  central_closing  alarm_devise  CD_recorder  \\\n",
       "0   NaN              1.0              1.0           1.0          1.0   \n",
       "1   NaN              1.0              1.0           1.0          0.0   \n",
       "2   NaN              1.0              1.0           1.0          1.0   \n",
       "3   NaN              1.0              1.0           1.0          1.0   \n",
       "4   NaN              1.0              1.0           1.0          1.0   \n",
       "\n",
       "   leather_upholstery  air_cushion  magnesium_rims  sunroof  \\\n",
       "0                 1.0          1.0             0.0      0.0   \n",
       "1                 1.0          1.0             1.0      0.0   \n",
       "2                 1.0          1.0             1.0      1.0   \n",
       "3                 1.0          1.0             1.0      0.0   \n",
       "4                 0.0          1.0             1.0      0.0   \n",
       "\n",
       "   التكميلي (جسم المركبة)  ...  origin_car  car_speedometer ex_owners  \\\n",
       "0                  1340.0  ...       خصوصي           ١٨٣٠٠٠   يد اولى   \n",
       "1                  1035.0  ...       خصوصي            42000   يد اولى   \n",
       "2                  1340.0  ...       خصوصي            85000  يد ثانيه   \n",
       "3                  1340.0  ...       خصوصي            30000         3   \n",
       "4                   670.0  ...       خصوصي              NaN       NaN   \n",
       "\n",
       "  car_license      lime_type     glass motor_power passengers  \\\n",
       "0    فلسطينية      اوتوماتيك  الكتروني      1600.0        NaN   \n",
       "1    فلسطينية      اوتوماتيك  الكتروني      1400.0        4+1   \n",
       "2    فلسطينية  نصف اوتوماتيك  الكتروني      2000.0        4+1   \n",
       "3    فلسطينية           عادي  الكتروني      1900.0        4+1   \n",
       "4    فلسطينية           عادي  الكتروني      1600.0        4+1   \n",
       "\n",
       "    payment_method         displayed  \n",
       "0  إمكانية التقسيط         للبيع فقط  \n",
       "1         نقدا فقط  للبيع أو التبديل  \n",
       "2  إمكانية التقسيط         للبيع فقط  \n",
       "3  إمكانية التقسيط  للبيع أو التبديل  \n",
       "4         نقدا فقط         للبيع فقط  \n",
       "\n",
       "[5 rows x 27 columns]"
      ]
     },
     "execution_count": 7351,
     "metadata": {},
     "output_type": "execute_result"
    }
   ],
   "source": [
    "df.head()\n",
    "#print the first 5 row "
   ]
  },
  {
   "cell_type": "code",
   "execution_count": 7352,
   "metadata": {},
   "outputs": [
    {
     "name": "stdout",
     "output_type": "stream",
     "text": [
      "<class 'pandas.core.frame.DataFrame'>\n",
      "RangeIndex: 7777 entries, 0 to 7776\n",
      "Data columns (total 27 columns):\n",
      " #   Column                  Non-Null Count  Dtype  \n",
      "---  ------                  --------------  -----  \n",
      " 0   الدفع                   1431 non-null   object \n",
      " 1   air_conditioner         6864 non-null   float64\n",
      " 2   central_closing         6864 non-null   float64\n",
      " 3   alarm_devise            6864 non-null   float64\n",
      " 4   CD_recorder             6864 non-null   float64\n",
      " 5   leather_upholstery      6864 non-null   float64\n",
      " 6   air_cushion             6864 non-null   float64\n",
      " 7   magnesium_rims          6864 non-null   float64\n",
      " 8   sunroof                 6864 non-null   float64\n",
      " 9   التكميلي (جسم المركبة)  6853 non-null   float64\n",
      " 10  طرف ثالث                6853 non-null   float64\n",
      " 11  المجموع                 6853 non-null   float64\n",
      " 12  name_car                6864 non-null   object \n",
      " 13  model_car               6864 non-null   object \n",
      " 14  price_car               6864 non-null   float64\n",
      " 15  color                   6864 non-null   object \n",
      " 16  fuel_type               6864 non-null   object \n",
      " 17  origin_car              6864 non-null   object \n",
      " 18  car_speedometer         4923 non-null   object \n",
      " 19  ex_owners               5214 non-null   object \n",
      " 20  car_license             6864 non-null   object \n",
      " 21  lime_type               6864 non-null   object \n",
      " 22  glass                   6864 non-null   object \n",
      " 23  motor_power             6864 non-null   float64\n",
      " 24  passengers              6087 non-null   object \n",
      " 25  payment_method          6864 non-null   object \n",
      " 26  displayed               6864 non-null   object \n",
      "dtypes: float64(13), object(14)\n",
      "memory usage: 1.6+ MB\n"
     ]
    }
   ],
   "source": [
    "df.info()\n",
    "#print information data "
   ]
  },
  {
   "cell_type": "markdown",
   "metadata": {},
   "source": [
    "-----"
   ]
  },
  {
   "cell_type": "markdown",
   "metadata": {},
   "source": [
    "\n",
    "</p>\n",
    "<div style=\"padding: 10px; background-color: #808080; margin: 0 auto; color: #e7d954; font-family: newtimeroman; font-size: 150%; text-align: center; border-radius: 15px; overflow: hidden; font-weight: 1000; width: 60%;\">chake if have missing data </div>\n",
    "\n",
    "\n"
   ]
  },
  {
   "cell_type": "code",
   "execution_count": 7353,
   "metadata": {},
   "outputs": [
    {
     "data": {
      "text/plain": [
       "الدفع                     6346\n",
       "air_conditioner            913\n",
       "central_closing            913\n",
       "alarm_devise               913\n",
       "CD_recorder                913\n",
       "leather_upholstery         913\n",
       "air_cushion                913\n",
       "magnesium_rims             913\n",
       "sunroof                    913\n",
       "التكميلي (جسم المركبة)     924\n",
       "طرف ثالث                   924\n",
       "المجموع                    924\n",
       "name_car                   913\n",
       "model_car                  913\n",
       "price_car                  913\n",
       "color                      913\n",
       "fuel_type                  913\n",
       "origin_car                 913\n",
       "car_speedometer           2854\n",
       "ex_owners                 2563\n",
       "car_license                913\n",
       "lime_type                  913\n",
       "glass                      913\n",
       "motor_power                913\n",
       "passengers                1690\n",
       "payment_method             913\n",
       "displayed                  913\n",
       "dtype: int64"
      ]
     },
     "execution_count": 7353,
     "metadata": {},
     "output_type": "execute_result"
    }
   ],
   "source": [
    "df.isna().sum()"
   ]
  },
  {
   "cell_type": "markdown",
   "metadata": {},
   "source": [
    "----"
   ]
  },
  {
   "cell_type": "markdown",
   "metadata": {},
   "source": [
    "\n",
    "\n",
    "\n",
    "<p style=\"text-align: center;\">\n",
    "    <img src=\" https://media.giphy.com/media/5WAdRevloGjuw/giphy.gif\" style=\"width: 200px; height: 100px;\">\n",
    "</p>\n",
    "<div style=\"padding: 10px; background-color: #808080; margin: 0 auto; color: #e7d954; font-family: newtimeroman; font-size: 150%; text-align: center; border-radius: 15px; overflow: hidden; font-weight: 1000; width: 60%;\">now handling missing data </div>\n",
    "\n",
    "\n"
   ]
  },
  {
   "cell_type": "markdown",
   "metadata": {},
   "source": [
    "<div style=\"padding: 10px; background-color: #E4317F; margin: 0; color: #e7d954; font-family: newtimeroman; font-size: 150%; text-align: left; border-radius: 15px; overflow: hidden; font-weight: 1000; width: 60%; float: left;\"> Firstly We will delete the samples that contain lost data because there is a problem with the pages from which the data is collected and the pages have empty content.\n",
    "</div>\n"
   ]
  },
  {
   "cell_type": "code",
   "execution_count": 7354,
   "metadata": {},
   "outputs": [],
   "source": [
    "column_names = ['color', 'fuel_type', 'origin_car','ex_owners', 'glass', 'car_license',  \"lime_type\", 'glass', 'motor_power', 'passengers', 'payment_method', 'displayed', 'sunroof']\n",
    "df = df.dropna(subset=column_names, how='all') \n",
    "\n",
    "#drop all null data from column ['color', 'fuel_type', 'origin_car','ex_owners', 'glass', 'car_license',  \"lime_type\", 'glass', 'motor_power', 'passengers', 'payment_method', 'displayed', 'sunroof']\n"
   ]
  },
  {
   "cell_type": "code",
   "execution_count": 7355,
   "metadata": {},
   "outputs": [
    {
     "data": {
      "text/html": [
       "<div>\n",
       "<style scoped>\n",
       "    .dataframe tbody tr th:only-of-type {\n",
       "        vertical-align: middle;\n",
       "    }\n",
       "\n",
       "    .dataframe tbody tr th {\n",
       "        vertical-align: top;\n",
       "    }\n",
       "\n",
       "    .dataframe thead th {\n",
       "        text-align: right;\n",
       "    }\n",
       "</style>\n",
       "<table border=\"1\" class=\"dataframe\">\n",
       "  <thead>\n",
       "    <tr style=\"text-align: right;\">\n",
       "      <th></th>\n",
       "      <th>الدفع</th>\n",
       "      <th>air_conditioner</th>\n",
       "      <th>central_closing</th>\n",
       "      <th>alarm_devise</th>\n",
       "      <th>CD_recorder</th>\n",
       "      <th>leather_upholstery</th>\n",
       "      <th>air_cushion</th>\n",
       "      <th>magnesium_rims</th>\n",
       "      <th>sunroof</th>\n",
       "      <th>التكميلي (جسم المركبة)</th>\n",
       "      <th>...</th>\n",
       "      <th>origin_car</th>\n",
       "      <th>car_speedometer</th>\n",
       "      <th>ex_owners</th>\n",
       "      <th>car_license</th>\n",
       "      <th>lime_type</th>\n",
       "      <th>glass</th>\n",
       "      <th>motor_power</th>\n",
       "      <th>passengers</th>\n",
       "      <th>payment_method</th>\n",
       "      <th>displayed</th>\n",
       "    </tr>\n",
       "  </thead>\n",
       "  <tbody>\n",
       "    <tr>\n",
       "      <th>23</th>\n",
       "      <td>NaN</td>\n",
       "      <td>1.0</td>\n",
       "      <td>1.0</td>\n",
       "      <td>1.0</td>\n",
       "      <td>1.0</td>\n",
       "      <td>1.0</td>\n",
       "      <td>1.0</td>\n",
       "      <td>1.0</td>\n",
       "      <td>1.0</td>\n",
       "      <td>1690.0</td>\n",
       "      <td>...</td>\n",
       "      <td>خصوصي</td>\n",
       "      <td>129100</td>\n",
       "      <td>3</td>\n",
       "      <td>فلسطينية</td>\n",
       "      <td>اوتوماتيك</td>\n",
       "      <td>الكتروني</td>\n",
       "      <td>2200.0</td>\n",
       "      <td>4+1</td>\n",
       "      <td>نقدا فقط</td>\n",
       "      <td>للبيع فقط</td>\n",
       "    </tr>\n",
       "    <tr>\n",
       "      <th>27</th>\n",
       "      <td>NaN</td>\n",
       "      <td>0.0</td>\n",
       "      <td>0.0</td>\n",
       "      <td>0.0</td>\n",
       "      <td>1.0</td>\n",
       "      <td>0.0</td>\n",
       "      <td>0.0</td>\n",
       "      <td>1.0</td>\n",
       "      <td>0.0</td>\n",
       "      <td>670.0</td>\n",
       "      <td>...</td>\n",
       "      <td>خصوصي</td>\n",
       "      <td>75000</td>\n",
       "      <td>يد 4</td>\n",
       "      <td>فلسطينية</td>\n",
       "      <td>عادي</td>\n",
       "      <td>الكتروني</td>\n",
       "      <td>1600.0</td>\n",
       "      <td>4+1</td>\n",
       "      <td>إمكانية التقسيط</td>\n",
       "      <td>للبيع فقط</td>\n",
       "    </tr>\n",
       "    <tr>\n",
       "      <th>29</th>\n",
       "      <td>NaN</td>\n",
       "      <td>0.0</td>\n",
       "      <td>0.0</td>\n",
       "      <td>1.0</td>\n",
       "      <td>1.0</td>\n",
       "      <td>1.0</td>\n",
       "      <td>0.0</td>\n",
       "      <td>0.0</td>\n",
       "      <td>0.0</td>\n",
       "      <td>1035.0</td>\n",
       "      <td>...</td>\n",
       "      <td>خصوصي</td>\n",
       "      <td>NaN</td>\n",
       "      <td>NaN</td>\n",
       "      <td>فلسطينية</td>\n",
       "      <td>عادي</td>\n",
       "      <td>الكتروني</td>\n",
       "      <td>1400.0</td>\n",
       "      <td>4+1</td>\n",
       "      <td>نقدا فقط</td>\n",
       "      <td>للبيع فقط</td>\n",
       "    </tr>\n",
       "    <tr>\n",
       "      <th>32</th>\n",
       "      <td>NaN</td>\n",
       "      <td>1.0</td>\n",
       "      <td>1.0</td>\n",
       "      <td>0.0</td>\n",
       "      <td>1.0</td>\n",
       "      <td>1.0</td>\n",
       "      <td>1.0</td>\n",
       "      <td>1.0</td>\n",
       "      <td>1.0</td>\n",
       "      <td>1340.0</td>\n",
       "      <td>...</td>\n",
       "      <td>خصوصي</td>\n",
       "      <td>NaN</td>\n",
       "      <td>يد اولى</td>\n",
       "      <td>فلسطينية</td>\n",
       "      <td>اوتوماتيك</td>\n",
       "      <td>الكتروني</td>\n",
       "      <td>2000.0</td>\n",
       "      <td>4+1</td>\n",
       "      <td>نقدا فقط</td>\n",
       "      <td>للبيع فقط</td>\n",
       "    </tr>\n",
       "    <tr>\n",
       "      <th>52</th>\n",
       "      <td>دفع أمامي</td>\n",
       "      <td>1.0</td>\n",
       "      <td>1.0</td>\n",
       "      <td>0.0</td>\n",
       "      <td>1.0</td>\n",
       "      <td>0.0</td>\n",
       "      <td>1.0</td>\n",
       "      <td>1.0</td>\n",
       "      <td>1.0</td>\n",
       "      <td>1035.0</td>\n",
       "      <td>...</td>\n",
       "      <td>خصوصي</td>\n",
       "      <td>70000</td>\n",
       "      <td>٢</td>\n",
       "      <td>فلسطينية</td>\n",
       "      <td>عادي</td>\n",
       "      <td>الكتروني</td>\n",
       "      <td>1400.0</td>\n",
       "      <td>4+1</td>\n",
       "      <td>إمكانية التقسيط</td>\n",
       "      <td>للبيع فقط</td>\n",
       "    </tr>\n",
       "    <tr>\n",
       "      <th>...</th>\n",
       "      <td>...</td>\n",
       "      <td>...</td>\n",
       "      <td>...</td>\n",
       "      <td>...</td>\n",
       "      <td>...</td>\n",
       "      <td>...</td>\n",
       "      <td>...</td>\n",
       "      <td>...</td>\n",
       "      <td>...</td>\n",
       "      <td>...</td>\n",
       "      <td>...</td>\n",
       "      <td>...</td>\n",
       "      <td>...</td>\n",
       "      <td>...</td>\n",
       "      <td>...</td>\n",
       "      <td>...</td>\n",
       "      <td>...</td>\n",
       "      <td>...</td>\n",
       "      <td>...</td>\n",
       "      <td>...</td>\n",
       "      <td>...</td>\n",
       "    </tr>\n",
       "    <tr>\n",
       "      <th>6839</th>\n",
       "      <td>NaN</td>\n",
       "      <td>1.0</td>\n",
       "      <td>1.0</td>\n",
       "      <td>0.0</td>\n",
       "      <td>1.0</td>\n",
       "      <td>1.0</td>\n",
       "      <td>1.0</td>\n",
       "      <td>1.0</td>\n",
       "      <td>0.0</td>\n",
       "      <td>1035.0</td>\n",
       "      <td>...</td>\n",
       "      <td>خصوصي</td>\n",
       "      <td>١٣٠٠٠٠</td>\n",
       "      <td>يد اولى</td>\n",
       "      <td>فلسطينية</td>\n",
       "      <td>عادي</td>\n",
       "      <td>الكتروني</td>\n",
       "      <td>1600.0</td>\n",
       "      <td>4+1</td>\n",
       "      <td>نقدا فقط</td>\n",
       "      <td>للبيع فقط</td>\n",
       "    </tr>\n",
       "    <tr>\n",
       "      <th>6854</th>\n",
       "      <td>NaN</td>\n",
       "      <td>1.0</td>\n",
       "      <td>0.0</td>\n",
       "      <td>1.0</td>\n",
       "      <td>1.0</td>\n",
       "      <td>1.0</td>\n",
       "      <td>1.0</td>\n",
       "      <td>0.0</td>\n",
       "      <td>0.0</td>\n",
       "      <td>NaN</td>\n",
       "      <td>...</td>\n",
       "      <td>تجاري</td>\n",
       "      <td>100000</td>\n",
       "      <td>9</td>\n",
       "      <td>فلسطينية</td>\n",
       "      <td>عادي</td>\n",
       "      <td>يدوي</td>\n",
       "      <td>1900.0</td>\n",
       "      <td>7+1</td>\n",
       "      <td>نقدا فقط</td>\n",
       "      <td>للبيع أو التبديل</td>\n",
       "    </tr>\n",
       "    <tr>\n",
       "      <th>6859</th>\n",
       "      <td>NaN</td>\n",
       "      <td>0.0</td>\n",
       "      <td>0.0</td>\n",
       "      <td>0.0</td>\n",
       "      <td>1.0</td>\n",
       "      <td>1.0</td>\n",
       "      <td>0.0</td>\n",
       "      <td>0.0</td>\n",
       "      <td>0.0</td>\n",
       "      <td>NaN</td>\n",
       "      <td>...</td>\n",
       "      <td>خصوصي</td>\n",
       "      <td>50000</td>\n",
       "      <td>NaN</td>\n",
       "      <td>فلسطينية</td>\n",
       "      <td>عادي</td>\n",
       "      <td>يدوي</td>\n",
       "      <td>1800.0</td>\n",
       "      <td>NaN</td>\n",
       "      <td>نقدا فقط</td>\n",
       "      <td>للبيع فقط</td>\n",
       "    </tr>\n",
       "    <tr>\n",
       "      <th>6861</th>\n",
       "      <td>NaN</td>\n",
       "      <td>1.0</td>\n",
       "      <td>1.0</td>\n",
       "      <td>1.0</td>\n",
       "      <td>1.0</td>\n",
       "      <td>1.0</td>\n",
       "      <td>1.0</td>\n",
       "      <td>1.0</td>\n",
       "      <td>0.0</td>\n",
       "      <td>NaN</td>\n",
       "      <td>...</td>\n",
       "      <td>خصوصي</td>\n",
       "      <td>40</td>\n",
       "      <td>1</td>\n",
       "      <td>فلسطينية</td>\n",
       "      <td>اوتوماتيك</td>\n",
       "      <td>الكتروني</td>\n",
       "      <td>1400.0</td>\n",
       "      <td>4+1</td>\n",
       "      <td>نقدا فقط</td>\n",
       "      <td>للبيع فقط</td>\n",
       "    </tr>\n",
       "    <tr>\n",
       "      <th>6862</th>\n",
       "      <td>NaN</td>\n",
       "      <td>1.0</td>\n",
       "      <td>1.0</td>\n",
       "      <td>1.0</td>\n",
       "      <td>1.0</td>\n",
       "      <td>0.0</td>\n",
       "      <td>1.0</td>\n",
       "      <td>1.0</td>\n",
       "      <td>0.0</td>\n",
       "      <td>NaN</td>\n",
       "      <td>...</td>\n",
       "      <td>خصوصي</td>\n",
       "      <td>60 الف</td>\n",
       "      <td>2</td>\n",
       "      <td>فلسطينية</td>\n",
       "      <td>اوتوماتيك</td>\n",
       "      <td>الكتروني</td>\n",
       "      <td>1200.0</td>\n",
       "      <td>4+1</td>\n",
       "      <td>نقدا فقط</td>\n",
       "      <td>للبيع أو التبديل</td>\n",
       "    </tr>\n",
       "  </tbody>\n",
       "</table>\n",
       "<p>808 rows × 27 columns</p>\n",
       "</div>"
      ],
      "text/plain": [
       "          الدفع  air_conditioner  central_closing  alarm_devise  CD_recorder  \\\n",
       "23          NaN              1.0              1.0           1.0          1.0   \n",
       "27          NaN              0.0              0.0           0.0          1.0   \n",
       "29          NaN              0.0              0.0           1.0          1.0   \n",
       "32          NaN              1.0              1.0           0.0          1.0   \n",
       "52    دفع أمامي              1.0              1.0           0.0          1.0   \n",
       "...         ...              ...              ...           ...          ...   \n",
       "6839        NaN              1.0              1.0           0.0          1.0   \n",
       "6854        NaN              1.0              0.0           1.0          1.0   \n",
       "6859        NaN              0.0              0.0           0.0          1.0   \n",
       "6861        NaN              1.0              1.0           1.0          1.0   \n",
       "6862        NaN              1.0              1.0           1.0          1.0   \n",
       "\n",
       "      leather_upholstery  air_cushion  magnesium_rims  sunroof  \\\n",
       "23                   1.0          1.0             1.0      1.0   \n",
       "27                   0.0          0.0             1.0      0.0   \n",
       "29                   1.0          0.0             0.0      0.0   \n",
       "32                   1.0          1.0             1.0      1.0   \n",
       "52                   0.0          1.0             1.0      1.0   \n",
       "...                  ...          ...             ...      ...   \n",
       "6839                 1.0          1.0             1.0      0.0   \n",
       "6854                 1.0          1.0             0.0      0.0   \n",
       "6859                 1.0          0.0             0.0      0.0   \n",
       "6861                 1.0          1.0             1.0      0.0   \n",
       "6862                 0.0          1.0             1.0      0.0   \n",
       "\n",
       "      التكميلي (جسم المركبة)  ...  origin_car  car_speedometer ex_owners  \\\n",
       "23                    1690.0  ...       خصوصي           129100         3   \n",
       "27                     670.0  ...       خصوصي            75000      يد 4   \n",
       "29                    1035.0  ...       خصوصي              NaN       NaN   \n",
       "32                    1340.0  ...       خصوصي              NaN   يد اولى   \n",
       "52                    1035.0  ...       خصوصي            70000         ٢   \n",
       "...                      ...  ...         ...              ...       ...   \n",
       "6839                  1035.0  ...       خصوصي           ١٣٠٠٠٠   يد اولى   \n",
       "6854                     NaN  ...       تجاري           100000         9   \n",
       "6859                     NaN  ...       خصوصي            50000       NaN   \n",
       "6861                     NaN  ...       خصوصي               40         1   \n",
       "6862                     NaN  ...       خصوصي           60 الف         2   \n",
       "\n",
       "     car_license  lime_type     glass motor_power passengers   payment_method  \\\n",
       "23      فلسطينية  اوتوماتيك  الكتروني      2200.0        4+1         نقدا فقط   \n",
       "27      فلسطينية       عادي  الكتروني      1600.0        4+1  إمكانية التقسيط   \n",
       "29      فلسطينية       عادي  الكتروني      1400.0        4+1         نقدا فقط   \n",
       "32      فلسطينية  اوتوماتيك  الكتروني      2000.0        4+1         نقدا فقط   \n",
       "52      فلسطينية       عادي  الكتروني      1400.0        4+1  إمكانية التقسيط   \n",
       "...          ...        ...       ...         ...        ...              ...   \n",
       "6839    فلسطينية       عادي  الكتروني      1600.0        4+1         نقدا فقط   \n",
       "6854    فلسطينية       عادي      يدوي      1900.0        7+1         نقدا فقط   \n",
       "6859    فلسطينية       عادي      يدوي      1800.0        NaN         نقدا فقط   \n",
       "6861    فلسطينية  اوتوماتيك  الكتروني      1400.0        4+1         نقدا فقط   \n",
       "6862    فلسطينية  اوتوماتيك  الكتروني      1200.0        4+1         نقدا فقط   \n",
       "\n",
       "             displayed  \n",
       "23           للبيع فقط  \n",
       "27           للبيع فقط  \n",
       "29           للبيع فقط  \n",
       "32           للبيع فقط  \n",
       "52           للبيع فقط  \n",
       "...                ...  \n",
       "6839         للبيع فقط  \n",
       "6854  للبيع أو التبديل  \n",
       "6859         للبيع فقط  \n",
       "6861         للبيع فقط  \n",
       "6862  للبيع أو التبديل  \n",
       "\n",
       "[808 rows x 27 columns]"
      ]
     },
     "execution_count": 7355,
     "metadata": {},
     "output_type": "execute_result"
    }
   ],
   "source": [
    "rows_with_name_nan = df[df['name_car'].isna()]\n",
    "rows_with_name_nan"
   ]
  },
  {
   "cell_type": "code",
   "execution_count": 7356,
   "metadata": {},
   "outputs": [],
   "source": [
    "column_names=['model_car', 'name_car' , 'fuel_type', 'lime_type', 'motor_power']\n",
    "df = df.dropna(subset=column_names, how='all')\n",
    "#drop all null data from ['model_car', 'name_car' , 'fuel_type', 'lime_type', 'motor_power']"
   ]
  },
  {
   "cell_type": "code",
   "execution_count": 7357,
   "metadata": {},
   "outputs": [],
   "source": [
    "column_names=['model_car', 'name_car',\"price_car\"]\n",
    "df = df.dropna(subset=column_names, how='all')\n",
    "#drop all null data from ['model_car', 'name_car',\"price_car\"]"
   ]
  },
  {
   "cell_type": "code",
   "execution_count": 7358,
   "metadata": {},
   "outputs": [
    {
     "data": {
      "text/html": [
       "<div>\n",
       "<style scoped>\n",
       "    .dataframe tbody tr th:only-of-type {\n",
       "        vertical-align: middle;\n",
       "    }\n",
       "\n",
       "    .dataframe tbody tr th {\n",
       "        vertical-align: top;\n",
       "    }\n",
       "\n",
       "    .dataframe thead th {\n",
       "        text-align: right;\n",
       "    }\n",
       "</style>\n",
       "<table border=\"1\" class=\"dataframe\">\n",
       "  <thead>\n",
       "    <tr style=\"text-align: right;\">\n",
       "      <th></th>\n",
       "      <th>الدفع</th>\n",
       "      <th>air_conditioner</th>\n",
       "      <th>central_closing</th>\n",
       "      <th>alarm_devise</th>\n",
       "      <th>CD_recorder</th>\n",
       "      <th>leather_upholstery</th>\n",
       "      <th>air_cushion</th>\n",
       "      <th>magnesium_rims</th>\n",
       "      <th>sunroof</th>\n",
       "      <th>التكميلي (جسم المركبة)</th>\n",
       "      <th>...</th>\n",
       "      <th>origin_car</th>\n",
       "      <th>car_speedometer</th>\n",
       "      <th>ex_owners</th>\n",
       "      <th>car_license</th>\n",
       "      <th>lime_type</th>\n",
       "      <th>glass</th>\n",
       "      <th>motor_power</th>\n",
       "      <th>passengers</th>\n",
       "      <th>payment_method</th>\n",
       "      <th>displayed</th>\n",
       "    </tr>\n",
       "  </thead>\n",
       "  <tbody>\n",
       "  </tbody>\n",
       "</table>\n",
       "<p>0 rows × 27 columns</p>\n",
       "</div>"
      ],
      "text/plain": [
       "Empty DataFrame\n",
       "Columns: [الدفع, air_conditioner, central_closing, alarm_devise, CD_recorder, leather_upholstery, air_cushion, magnesium_rims, sunroof, التكميلي (جسم المركبة), طرف ثالث, المجموع, name_car, model_car, price_car, color, fuel_type, origin_car, car_speedometer, ex_owners, car_license, lime_type, glass, motor_power, passengers, payment_method, displayed]\n",
       "Index: []\n",
       "\n",
       "[0 rows x 27 columns]"
      ]
     },
     "execution_count": 7358,
     "metadata": {},
     "output_type": "execute_result"
    }
   ],
   "source": [
    "df[df['name_car'].isna()]"
   ]
  },
  {
   "cell_type": "code",
   "execution_count": 7359,
   "metadata": {},
   "outputs": [
    {
     "data": {
      "text/plain": [
       "الدفع                     4798\n",
       "air_conditioner              0\n",
       "central_closing              0\n",
       "alarm_devise                 0\n",
       "CD_recorder                  0\n",
       "leather_upholstery           0\n",
       "air_cushion                  0\n",
       "magnesium_rims               0\n",
       "sunroof                      0\n",
       "التكميلي (جسم المركبة)       7\n",
       "طرف ثالث                     7\n",
       "المجموع                      7\n",
       "name_car                     0\n",
       "model_car                    0\n",
       "price_car                    0\n",
       "color                        0\n",
       "fuel_type                    0\n",
       "origin_car                   0\n",
       "car_speedometer           1711\n",
       "ex_owners                 1454\n",
       "car_license                  0\n",
       "lime_type                    0\n",
       "glass                        0\n",
       "motor_power                  0\n",
       "passengers                 674\n",
       "payment_method               0\n",
       "displayed                    0\n",
       "dtype: int64"
      ]
     },
     "execution_count": 7359,
     "metadata": {},
     "output_type": "execute_result"
    }
   ],
   "source": [
    "rows_with_name_nan = df[df['name_car'].isna()]\n",
    "rows_with_name_nan\n",
    "df.isna().sum()\n",
    "#check if we have missing data "
   ]
  },
  {
   "cell_type": "code",
   "execution_count": 7360,
   "metadata": {},
   "outputs": [
    {
     "data": {
      "text/plain": [
       "الدفع                     79.227213\n",
       "air_conditioner            0.000000\n",
       "central_closing            0.000000\n",
       "alarm_devise               0.000000\n",
       "CD_recorder                0.000000\n",
       "leather_upholstery         0.000000\n",
       "air_cushion                0.000000\n",
       "magnesium_rims             0.000000\n",
       "sunroof                    0.000000\n",
       "التكميلي (جسم المركبة)     0.115588\n",
       "طرف ثالث                   0.115588\n",
       "المجموع                    0.115588\n",
       "name_car                   0.000000\n",
       "model_car                  0.000000\n",
       "price_car                  0.000000\n",
       "color                      0.000000\n",
       "fuel_type                  0.000000\n",
       "origin_car                 0.000000\n",
       "car_speedometer           28.252972\n",
       "ex_owners                 24.009247\n",
       "car_license                0.000000\n",
       "lime_type                  0.000000\n",
       "glass                      0.000000\n",
       "motor_power                0.000000\n",
       "passengers                11.129458\n",
       "payment_method             0.000000\n",
       "displayed                  0.000000\n",
       "dtype: float64"
      ]
     },
     "execution_count": 7360,
     "metadata": {},
     "output_type": "execute_result"
    }
   ],
   "source": [
    "missing_percentage = (df.isnull().sum() / len(df)) * 100\n",
    "missing_percentage"
   ]
  },
  {
   "cell_type": "markdown",
   "metadata": {},
   "source": [
    "<div style=\"padding: 10px; background-color: #F52887; margin: 0; color: #e7d954; font-family: newtimeroman; font-size: 150%; text-align: left; border-radius: 15px; overflow: hidden; font-weight: 1000; width: 60%; float: left;\"> Because it contains more than 70% of missing values, the column must be deleted (\"الدفع\" )\n",
    "</div>\n"
   ]
  },
  {
   "cell_type": "code",
   "execution_count": 7361,
   "metadata": {},
   "outputs": [],
   "source": [
    "df = df.drop(\"الدفع\" , axis=1)"
   ]
  },
  {
   "cell_type": "markdown",
   "metadata": {},
   "source": [
    "-----"
   ]
  },
  {
   "cell_type": "markdown",
   "metadata": {},
   "source": [
    "\n",
    "<p style=\"text-align: center;\">\n",
    "    <img src=\"https://media.giphy.com/media/cjbfyJrICOaKIXBWyG/giphy.gif\" style=\"width: 200px; height: 100px;\">\n",
    "</p>\n",
    "<div style=\"padding: 10px; background-color: #808080; margin: 0 auto; color: #e7d954; font-family: newtimeroman; font-size: 150%; text-align: center; border-radius: 15px; overflow: hidden; font-weight: 1000; width: 60%;\">maping column </div>\n",
    "\n",
    "\n"
   ]
  },
  {
   "cell_type": "code",
   "execution_count": 7362,
   "metadata": {},
   "outputs": [],
   "source": [
    "df[\"lime_type\"] = df[\"lime_type\"].map(Limeـtype_mapping)\n",
    "#convert colume  from arbic to english "
   ]
  },
  {
   "cell_type": "code",
   "execution_count": 7363,
   "metadata": {},
   "outputs": [],
   "source": [
    "df[\"car_license\"] = df[\"car_license\"].map(drivingـlicense)\n",
    "#convert colume  from arbic to english "
   ]
  },
  {
   "cell_type": "code",
   "execution_count": 7364,
   "metadata": {},
   "outputs": [],
   "source": [
    "#df[\"fuel_type\"] = df[\"fuel_type\"].map(fuel_type_mapping)\n",
    "#df[\"fuel_type\"].fillna(1, inplace=True)\n",
    "#df[\"fuel_type\"].unique()\n"
   ]
  },
  {
   "cell_type": "code",
   "execution_count": 7365,
   "metadata": {},
   "outputs": [],
   "source": [
    "df[\"displayed\"] = df[\"displayed\"].map(displayed_mapping)\n",
    "#convert colume  from arbic to english "
   ]
  },
  {
   "cell_type": "code",
   "execution_count": 7366,
   "metadata": {},
   "outputs": [],
   "source": [
    "df[\"payment_method\"] = df[\"payment_method\"].map(payment_method_map)\n",
    "#convert colume  from arbic to english "
   ]
  },
  {
   "cell_type": "code",
   "execution_count": 7367,
   "metadata": {},
   "outputs": [],
   "source": [
    "df[\"glass\"] = df[\"glass\"].map(glass_map)\n",
    "#convert colume  from arbic to english \n"
   ]
  },
  {
   "cell_type": "code",
   "execution_count": 7368,
   "metadata": {},
   "outputs": [],
   "source": [
    "df['passengers'] = df['passengers'].map(results_dict)\n",
    "#convert colume  from arbic to english "
   ]
  },
  {
   "cell_type": "code",
   "execution_count": 7369,
   "metadata": {},
   "outputs": [
    {
     "data": {
      "text/plain": [
       "0       4\n",
       "1       4\n",
       "2       4\n",
       "3       4\n",
       "4       4\n",
       "       ..\n",
       "6856    4\n",
       "6857    5\n",
       "6858    4\n",
       "6860    4\n",
       "6863    4\n",
       "Name: origin_car, Length: 6056, dtype: int64"
      ]
     },
     "execution_count": 7369,
     "metadata": {},
     "output_type": "execute_result"
    }
   ],
   "source": [
    "df['origin_car'] = df['origin_car'].map(car_type_mapping)\n",
    "df['origin_car']\n",
    "#convert colume  from arbic to english "
   ]
  },
  {
   "cell_type": "code",
   "execution_count": 7370,
   "metadata": {},
   "outputs": [],
   "source": [
    "df[\"alarm_devise\"]= df[\"alarm_devise\"].astype(int)\n",
    "df[\"air_conditioner\"]= df[\"air_conditioner\"].astype(int)\n",
    "df[\"CD_recorder\"]= df[\"CD_recorder\"].astype(int)\n",
    "df[\"sunroof\"]= df[\"sunroof\"].astype(int)\n",
    "df[\"leather_upholstery\"]= df[\"central_closing\"].astype(int)\n",
    "df[\"magnesium_rims\"]= df[\"magnesium_rims\"].astype(int)\n",
    "df[\"air_cushion\"]= df[\"air_cushion\"].astype(int)\n"
   ]
  },
  {
   "cell_type": "markdown",
   "metadata": {},
   "source": [
    "# Assuming you have a DataFrame named df\n",
    "df['price_binary'] = (((df['alarm_devise'].fillna(0).astype(int) & df['air_conditioner'].fillna(0).astype(int) & \n",
    "                      df['CD_recorder'].fillna(0).astype(int) & df['sunroof'].fillna(0).astype(int) & \n",
    "                      df['leather_upholstery'].fillna(0).astype(int) & df['central_closing'].fillna(0).astype(int) & \n",
    "                      df['magnesium_rims'].fillna(0).astype(int) & df['air_cushion'].fillna(0).astype(int)) > 0) & \n",
    "                      (df['price_car'] > 62000)).astype(int)\n"
   ]
  },
  {
   "cell_type": "markdown",
   "metadata": {},
   "source": [
    "----"
   ]
  },
  {
   "cell_type": "markdown",
   "metadata": {},
   "source": [
    "\n",
    "<p style=\"text-align: center;\">\n",
    "    <img src=\"https://media.giphy.com/media/XGNafjOYE7g88/giphy.gif\" style=\"width: 200px; height: 100px;\">\n",
    "</p>\n",
    "<div style=\"padding: 10px; background-color: #808080; margin: 0 auto; color: #e7d954; font-family: newtimeroman; font-size: 150%; text-align: center; border-radius: 15px; overflow: hidden; font-weight: 1000; width: 60%;\">droping column </div>\n",
    "\n",
    "\n"
   ]
  },
  {
   "cell_type": "code",
   "execution_count": 7371,
   "metadata": {},
   "outputs": [],
   "source": [
    "df = df.drop(\"المجموع\" , axis=1)\n",
    "df = df.drop(\"طرف ثالث\" , axis=1)\n",
    "df = df.drop(\"التكميلي (جسم المركبة)\" , axis=1)\n",
    "df=df.drop(\"car_speedometer\",axis=1)\n",
    "df=df.drop(\"color\", axis = 1 )\n",
    "#df = df.drop(\"alarm_devise\" , axis=1)\n",
    "#df = df.drop(\"central_closing\" , axis=1)\n",
    "#df = df.drop(\"CD_recorder\" , axis=1)\n",
    "#df = df.drop(\"leather_upholstery\" , axis=1)\n",
    "#df = df.drop(\"air_cushion\" , axis=1) \n",
    "#df = df.drop(\"magnesium_rims\", axis=1)\n",
    "#df = df.drop(\"air_conditioner\", axis=1)\n",
    "\n",
    "#Delete columns that negatively affect or distort the model\n"
   ]
  },
  {
   "cell_type": "markdown",
   "metadata": {},
   "source": [
    "------"
   ]
  },
  {
   "cell_type": "markdown",
   "metadata": {},
   "source": [
    "<div style=\"padding: 10px; background-color: #808080; margin: 0 auto; color: #e7d954; font-family: newtimeroman; font-size: 150%; text-align: center; border-radius: 15px; overflow: hidden; font-weight: 1000; width: 60%;\">Firstly you must processing the columns in data To make predict with missing data more accurate </div>\n",
    "\n"
   ]
  },
  {
   "cell_type": "markdown",
   "metadata": {},
   "source": [
    "---"
   ]
  },
  {
   "cell_type": "markdown",
   "metadata": {},
   "source": [
    "<div style=\"padding: 10px; background-color: #808080; margin: 0; color: #e7d954; font-family: newtimeroman; font-size: 150%; text-align: left; border-radius: 15px; overflow: hidden; font-weight: 1000; width: 60%; float: left;\">    processing model cars \n",
    "</div>\n",
    "<p style=\"text-align: center;\">\n",
    "    <img src=\"https://media.giphy.com/media/xBq8N1Opc2FEeQZVcY/giphy.gif\" style=\"width: 200px; height: 100px;\">\n",
    "</p>\n"
   ]
  },
  {
   "cell_type": "code",
   "execution_count": 7372,
   "metadata": {},
   "outputs": [
    {
     "data": {
      "text/plain": [
       "count               6056\n",
       "unique                53\n",
       "top       موديل سنة 2014\n",
       "freq                 500\n",
       "Name: model_car, dtype: object"
      ]
     },
     "execution_count": 7372,
     "metadata": {},
     "output_type": "execute_result"
    }
   ],
   "source": [
    "df[\"model_car\"].describe()"
   ]
  },
  {
   "cell_type": "code",
   "execution_count": 7373,
   "metadata": {},
   "outputs": [],
   "source": [
    "df['model_car'] = df['model_car'].str.extract('(\\d+)').astype(float)\n",
    "df['model_car'] = pd.to_numeric(df['model_car'], errors='coerce', downcast='integer')\n",
    "df['model_car'] = df['model_car'].astype('int64')\n",
    "# Converting a model from string  to int \n"
   ]
  },
  {
   "cell_type": "code",
   "execution_count": 7374,
   "metadata": {},
   "outputs": [
    {
     "data": {
      "text/plain": [
       "count    6056.000000\n",
       "mean     2008.704260\n",
       "std         8.607808\n",
       "min      1968.000000\n",
       "25%      2005.000000\n",
       "50%      2011.000000\n",
       "75%      2015.000000\n",
       "max      2022.000000\n",
       "Name: model_car, dtype: float64"
      ]
     },
     "execution_count": 7374,
     "metadata": {},
     "output_type": "execute_result"
    }
   ],
   "source": [
    "df['model_car'].describe()"
   ]
  },
  {
   "cell_type": "code",
   "execution_count": 7375,
   "metadata": {},
   "outputs": [],
   "source": [
    "def process_outliers(column):\n",
    "    z_scores = stats.zscore(df[column])\n",
    "    abs_z_scores = abs(z_scores)\n",
    "    outliers = (abs_z_scores > 3)\n",
    "    df[column] = np.where(outliers, df[column].median(), df[column])\n",
    "\n",
    "process_outliers('model_car')"
   ]
  },
  {
   "cell_type": "code",
   "execution_count": 7376,
   "metadata": {},
   "outputs": [
    {
     "data": {
      "text/plain": [
       "count    6056.000000\n",
       "mean     2009.049207\n",
       "std         8.053530\n",
       "min      1983.000000\n",
       "25%      2006.000000\n",
       "50%      2011.000000\n",
       "75%      2015.000000\n",
       "max      2022.000000\n",
       "Name: model_car, dtype: float64"
      ]
     },
     "execution_count": 7376,
     "metadata": {},
     "output_type": "execute_result"
    }
   ],
   "source": [
    "df[\"model_car\"].describe()"
   ]
  },
  {
   "cell_type": "code",
   "execution_count": 7377,
   "metadata": {},
   "outputs": [
    {
     "data": {
      "image/png": "[encoded data removed]",
      "text/plain": [
       "<Figure size 1200x600 with 1 Axes>"
      ]
     },
     "metadata": {},
     "output_type": "display_data"
    }
   ],
   "source": [
    "plt.figure(figsize=(12, 6))\n",
    "sns.histplot(df[\"model_car\"], kde=True, color='blue')\n",
    "plt.title('Density Plot for Large Sample')\n",
    "plt.xlabel('Value')\n",
    "plt.ylabel('Density')\n",
    "plt.show()"
   ]
  },
  {
   "cell_type": "markdown",
   "metadata": {},
   "source": [
    "        Explanation of the chart : \n",
    "        1- from 1983 to 1990 :this  models are fewer in number\n",
    "        2- from 1990 to 1995 : the number of cars fewer \n",
    "        3- from 1995 to 2005 : During this period, the number of cars increases \n",
    "        4- from 2005 to 2016 : These years have the largest number of car models\n"
   ]
  },
  {
   "cell_type": "code",
   "execution_count": 7378,
   "metadata": {},
   "outputs": [
    {
     "data": {
      "image/png": "[encoded data removed]",
      "text/plain": [
       "<Figure size 1200x600 with 1 Axes>"
      ]
     },
     "metadata": {},
     "output_type": "display_data"
    }
   ],
   "source": [
    "# print all model car and what the max value  model in data \n",
    "cars_count_by_model = df['model_car'].value_counts()\n",
    "max_count_model = cars_count_by_model.idxmax()\n",
    "plt.figure(figsize=(12, 6))\n",
    "cars_count_by_model.plot(kind='bar', color='skyblue')\n",
    "plt.title('Number of Cars for Each Model')\n",
    "plt.xlabel('Car Model')\n",
    "plt.ylabel('Number of Cars')\n",
    "plt.axhline(cars_count_by_model[max_count_model], color='red', linestyle='--', label=f'Max: {max_count_model}')#line max \n",
    "plt.text(len(cars_count_by_model) - 1, cars_count_by_model[max_count_model] + 1,f'Max: {max_count_model}', color='red')\n",
    "plt.show()\n"
   ]
  },
  {
   "cell_type": "markdown",
   "metadata": {},
   "source": [
    "<div style=\"padding: 10px; background-color: #808080; margin: 0; color: #e7d954; font-family: newtimeroman; font-size: 150%; text-align: left; border-radius: 15px; overflow: hidden; font-weight: 1000; width: 60%; float: left;\">the max number of car for each models is (2013,2014) = 500 cars and smaller 2022 \n",
    "</div>\n",
    " <p style=\"text-align: center;\">\n",
    "    <img src=\"https://media.giphy.com/media/xAOWuvXfkNvBjrRlfC/giphy.gif\" style=\"width: 200px; height: 100px;\">\n",
    "</p>\n"
   ]
  },
  {
   "cell_type": "markdown",
   "metadata": {},
   "source": [
    "--------"
   ]
  },
  {
   "cell_type": "markdown",
   "metadata": {},
   "source": [
    "<div style=\"padding: 10px; background-color: #808080; margin: 0; color: #e7d954; font-family: newtimeroman; font-size: 150%; text-align: left; border-radius: 15px; overflow: hidden; font-weight: 1000; width: 60%; float: left;\">    processing price cars \n",
    "</div>\n",
    "<p style=\"text-align: center;\">\n",
    "    <img src=\"https://media.giphy.com/media/xBq8N1Opc2FEeQZVcY/giphy.gif\" style=\"width: 200px; height: 100px;\">\n",
    "</p>\n"
   ]
  },
  {
   "cell_type": "code",
   "execution_count": 7379,
   "metadata": {},
   "outputs": [
    {
     "data": {
      "text/plain": [
       "count      6056.000000\n",
       "mean      67043.537318\n",
       "std       57129.686013\n",
       "min        1111.000000\n",
       "25%       36000.000000\n",
       "50%       55000.000000\n",
       "75%       82624.750000\n",
       "max      999999.000000\n",
       "Name: price_car, dtype: float64"
      ]
     },
     "execution_count": 7379,
     "metadata": {},
     "output_type": "execute_result"
    }
   ],
   "source": [
    "df['price_car'].describe()"
   ]
  },
  {
   "cell_type": "code",
   "execution_count": 7380,
   "metadata": {},
   "outputs": [
    {
     "name": "stdout",
     "output_type": "stream",
     "text": [
      "<class 'pandas.core.series.Series'>\n",
      "Int64Index: 6056 entries, 0 to 6863\n",
      "Series name: price_car\n",
      "Non-Null Count  Dtype  \n",
      "--------------  -----  \n",
      "6056 non-null   float64\n",
      "dtypes: float64(1)\n",
      "memory usage: 94.6 KB\n"
     ]
    }
   ],
   "source": [
    "df['price_car'].info()"
   ]
  },
  {
   "cell_type": "markdown",
   "metadata": {},
   "source": [
    "# chack if price(99999)is Outliers\n"
   ]
  },
  {
   "cell_type": "code",
   "execution_count": 7381,
   "metadata": {},
   "outputs": [
    {
     "name": "stdout",
     "output_type": "stream",
     "text": [
      "name car is :  سكودا اوكتافيا max price car  999999.0\n"
     ]
    }
   ],
   "source": [
    "\n",
    "highest_price_row = df.loc[df['price_car'].idxmax()]\n",
    "car_name = highest_price_row['name_car']\n",
    "car_price = highest_price_row['price_car']\n",
    "print(\"name car is : \" ,car_name , \"max price car \" , car_price  )\n"
   ]
  },
  {
   "cell_type": "code",
   "execution_count": 7382,
   "metadata": {},
   "outputs": [
    {
     "data": {
      "image/png": "[encoded data removed]",
      "text/plain": [
       "<Figure size 640x480 with 1 Axes>"
      ]
     },
     "metadata": {},
     "output_type": "display_data"
    }
   ],
   "source": [
    "plt.hist(df['price_car'], bins=20, color='skyblue')\n",
    "plt.title('Distribution of Car Prices before Removing Outliers')\n",
    "plt.xlabel('Car Price')\n",
    "plt.ylabel('Frequency')\n",
    "plt.show()"
   ]
  },
  {
   "cell_type": "code",
   "execution_count": 7383,
   "metadata": {},
   "outputs": [],
   "source": [
    "z_scores = stats.zscore(df['price_car'])\n",
    "threshold = 3\n",
    "outliers = df['price_car'][abs(z_scores) > threshold]\n",
    "df = df[abs(z_scores) <= threshold]"
   ]
  },
  {
   "cell_type": "code",
   "execution_count": 7384,
   "metadata": {},
   "outputs": [
    {
     "data": {
      "image/png": "[encoded data removed]",
      "text/plain": [
       "<Figure size 640x480 with 1 Axes>"
      ]
     },
     "metadata": {},
     "output_type": "display_data"
    }
   ],
   "source": [
    "\n",
    "plt.hist(df['price_car'], bins=20, color='skyblue')\n",
    "plt.title('Distribution of Car Prices after Removing Outliers')\n",
    "plt.xlabel('Car Price')\n",
    "plt.ylabel('Frequency')\n",
    "plt.show()"
   ]
  },
  {
   "cell_type": "code",
   "execution_count": 7385,
   "metadata": {},
   "outputs": [
    {
     "data": {
      "text/plain": [
       "count      5973.000000\n",
       "mean      62747.139796\n",
       "std       39460.523033\n",
       "min        1111.000000\n",
       "25%       36000.000000\n",
       "50%       55000.000000\n",
       "75%       80000.000000\n",
       "max      238000.000000\n",
       "Name: price_car, dtype: float64"
      ]
     },
     "execution_count": 7385,
     "metadata": {},
     "output_type": "execute_result"
    }
   ],
   "source": [
    "df['price_car'].describe()"
   ]
  },
  {
   "cell_type": "markdown",
   "metadata": {},
   "source": [
    "<div style=\"padding: 10px; background-color: #808080; margin: 0; color: #e7d954; font-family: newtimeroman; font-size: 150%; text-align: left; border-radius: 15px; overflow: hidden; font-weight: 1000; width: 60%; float: left;\">  We notice that there were irrational values ​​due to the price, and when we read the data, it turns out that the car offered is not at a price, and this is anomalous values.\n",
    "</div>\n",
    "<p style=\"text-align: center;\">\n",
    "    <img src=\"https://media.giphy.com/media/xBq8N1Opc2FEeQZVcY/giphy.gif\" style=\"width: 200px; height: 100px;\">\n",
    "</p>\n"
   ]
  },
  {
   "cell_type": "markdown",
   "metadata": {},
   "source": [
    "-------"
   ]
  },
  {
   "cell_type": "markdown",
   "metadata": {},
   "source": [
    "<div style=\"padding: 10px; background-color: #808080; margin: 0; color: #e7d954; font-family: newtimeroman; font-size: 150%; text-align: left; border-radius: 15px; overflow: hidden; font-weight: 1000; width: 60%; float: left;\">    processing name cars \n",
    "</div>\n",
    "<p style=\"text-align: center;\">\n",
    "    <img src=\"https://media.giphy.com/media/xBq8N1Opc2FEeQZVcY/giphy.gif\" style=\"width: 200px; height: 100px;\">\n",
    "</p>\n"
   ]
  },
  {
   "cell_type": "code",
   "execution_count": 7386,
   "metadata": {},
   "outputs": [
    {
     "data": {
      "text/plain": [
       "سكودا اوكتافيا    434\n",
       "هونداي اكسنت      230\n",
       "هونداي توسان      218\n",
       "فولكسفاجن جولف    212\n",
       "فولكسفاجن بولو    195\n",
       "                 ... \n",
       "اوبل استر           1\n",
       "تويوتا  تندر        1\n",
       "فيات 131 ستيشن      1\n",
       "مازدا 5             1\n",
       "بيجو 404            1\n",
       "Name: name_car, Length: 565, dtype: int64"
      ]
     },
     "execution_count": 7386,
     "metadata": {},
     "output_type": "execute_result"
    }
   ],
   "source": [
    "df[\"name_car\"].value_counts()"
   ]
  },
  {
   "cell_type": "code",
   "execution_count": 7387,
   "metadata": {},
   "outputs": [],
   "source": [
    "\n",
    "# إضافة عامودين جديدين\n",
    "df[['brand', 'type']] = df['name_car'].str.split(n=1, expand=True)\n",
    "\n"
   ]
  },
  {
   "cell_type": "code",
   "execution_count": 7388,
   "metadata": {},
   "outputs": [
    {
     "data": {
      "text/plain": [
       "0             كيا\n",
       "1          هونداي\n",
       "2            بيجو\n",
       "3           سكودا\n",
       "4          سوبارو\n",
       "          ...    \n",
       "6856         اوبل\n",
       "6857           بي\n",
       "6858          كيا\n",
       "6860       مرسيدس\n",
       "6863    فولكسفاجن\n",
       "Name: brand, Length: 5973, dtype: object"
      ]
     },
     "execution_count": 7388,
     "metadata": {},
     "output_type": "execute_result"
    }
   ],
   "source": [
    "\n",
    "df[\"brand\"]\n",
    "\n"
   ]
  },
  {
   "cell_type": "code",
   "execution_count": 7389,
   "metadata": {},
   "outputs": [
    {
     "data": {
      "text/plain": [
       "array(['برايد', 'اكسنت', '508', 'اوكتافيا', 'امبريزا', 'ليون', '220',\n",
       "       '80', 'كوبيه', 'كبينة', 'جولف', 'رام', 'قرطبة', 'جيتس', '208',\n",
       "       'رابيد', 'فيليسيا', 'تيجوان', '207', 'توسان', 'C250', 'E220',\n",
       "       '306', 'سبورتاج', 'اوبتيما', 'استرا', 'نملة', 'فابيا', 'بولو',\n",
       "       'بارتنر', 'سوبيرب', 'اوبترا', 'كرافيل', '2008', 'عريض', 'فوكس',\n",
       "       'ابيزا', 'كادي', 'كورسا', '2007', 'ريو', 'C4', 'فيرنا', 'سوناتا',\n",
       "       'C-Elysee', 'GTI', 'A4', '307', 'كودياك', 'سورينتو', 'سول',\n",
       "       'كرافتر', 'باسات', 'فورتي', 'كليك', 'ديماكس', 'بيرلينجو',\n",
       "       'ترانزيت', 'سانتافيه', 'كانجو', '3', 'اونو', 'ترانسبورتر', 'بونتو',\n",
       "       'فيستا', 'i10', 'ام دبليو 520', '١٩٩٨', 'توران', 'زافيرا',\n",
       "       'بيكانتو', 'اتوس', 'مورننغ', 'C1', 'ماجنتيس', 'جيتا', '305', '412',\n",
       "       'افانتي', 'E250', 'كوبرا', 'E230', 'i40', 'ام دبليو 525', 'i30',\n",
       "       'كروز', 'موستانغ', 'بيتل', 'اسكونا', 'دوبلو', 'ام دبليو 535',\n",
       "       '406', 'لانوس', 'باندا', 'كاديت', 'أماروك', '٢٣٠', 'ام دبليو 320',\n",
       "       'فيكترا', 'تيراكان', 'روميو جوليتا', 'ام دبليو 318', 'هيلاكس',\n",
       "       '65C18', 'ام دبليو X5', 'رومستر', 'لانسر', 'فلوانس', '١٩٨٣', '240',\n",
       "       'يونغ كيرون', 'ارونا', 'نارية 2016', 'نوبيرا', 'ام سي  فاندورا',\n",
       "       'أفيكو تنك مياه', '2014', 'تروبر', 'K3', '518', 'غواصة S320',\n",
       "       'كورولا', '608', '١٩٩٩', '416', 'كونا', 'افيو', 'E280', '205',\n",
       "       '1983', '410', 'ليجاسي', 'يتي', 'كليو', 'سيراتو', 'ام سي  سفانا',\n",
       "       'بورا', 'ستونك', '313', 'تعديل ار', 'جوالف', '200', 'Q5', 'سيفيك',\n",
       "       'Slin', 'داف', 'ام دبليو 335', 'كابتيفا', 'ام دبليو X4', 'FH 12',\n",
       "       'يونغ ركستون', 'ام دبليو 325', 'فيانو', '127', 'ام دبليو x1',\n",
       "       'C180', '1990', 'فينيو', 'الانترا', 'كاروك', 'H1', 'اوت لاندر',\n",
       "       'وينر', 'DS3', 'نارية ktm', 'H100', 'cx3', '55', 'ام دبليو x4',\n",
       "       'ماتيز', 'L200', 'لاند كروزر', '1524', 'أفيوو',\n",
       "       'روميو 2014 جوليتا', 'C220', '230', '250', 'كافلير', '2019', '323',\n",
       "       'C200', 'جولف بلس', '411', 'سبيرو', 'مونديو', 'GLA200', 'باجيرو',\n",
       "       'i25', 'يونغ اكتيون', 'كومباس', '206', 'A6',\n",
       "       'سبورتاج اصل الماني  بانوراما بصمه شاشه كاميرا', 'طوارق', 'L400',\n",
       "       'ام دبليو  330i', '914', '2000', 'ام دبليو 316',\n",
       "       'كيا K5/ ترخيص 2014', 'Renegade', 'R9', 'Q7', '300', 'Wrangler',\n",
       "       's400', 'كبينه', '190', 'نارية 2017', 'k3', 'فينتو', '2016',\n",
       "       'E220 D', 'ام دبليو 530', 'E270', 'LT', '515', 'رينو', 'ايونيك',\n",
       "       'اكسبرت', 'جوك', 'جالانت', 'تندر', 'بيكاسو C4', 'F 150',\n",
       "       'ام دبليو X3', '1997', '407', '308', 'ام دبليو 1988',\n",
       "       'ام دبليو 523', 'اكسنت كوري بصمه', 'IVIECO 50C15CH', 'سوبيربان',\n",
       "       '2010', '413', 'كاريزما', 'نارية  ياماها 2018', '88',\n",
       "       'ام دبليو 2005', 'S320', 'scania', 't-roc', 'I300', 'تيدا',\n",
       "       'كابتر', 'i20', 'كيوبو', '45', 'ام دبليو 2006', 'كشكاي', 'E200',\n",
       "       '170', 'اكورد', 'Tsi', 'كونيكت', 'ام دبليو 528', 'اورايون',\n",
       "       'نارية  ياماها', '٢٠١٥', 'باص 519', 'ix35', 'FL6', 'CC',\n",
       "       'سوبر لانسر', 'E350', 'اكسبرس', 'ستيب واي', 'سبيس ستار', 't-cross',\n",
       "       'Patriot', 'فيتو', 'Ds5', '350', '2004', '2009', 'I30', 'ديسكفري',\n",
       "       'C5', 'تراجيت', 'ديفندر', '5008', '1999', '2011', '301', 'باترول',\n",
       "       'B4', 'ماليبو', '٢٠١٩', 'برلنجو', 'Fl6', 'سكالا', 'شحن',\n",
       "       'سلندر 5 LT', 'ديلي', 'TT كوبيه', 'C 230', '6', 'باص 212', '280',\n",
       "       'ايدج', 'ميكرا', 'ماجنوم', 'تيرانو', 'tucan', 'فرينو', 'نارية SYM',\n",
       "       'مان', 'C3', '206+', '405', '2006', 'بيرلينجو مالتي سبيس',\n",
       "       'توليدو', 'باص', '709', 'الميرا', 'mbv', 'نارية KTM duke', 'S500',\n",
       "       'ستيشن', '2003', 'شيروكي', '2005', 'اكسبلورر', '5', '131 ستيشن',\n",
       "       'استر', '3008', 'اتراج', 'جامبي', 'اتكوا ١٢١٨', 'Spacetourer',\n",
       "       'داستر', '2001', 'سوبر رايسر', 'ام دبليو 420I coupe', 'C270',\n",
       "       'سييد', 'نارية Yamaha R3', 'لينيا', 'اكس اف راس تريلا', '180',\n",
       "       'اسكانيا', 'FM 7', 'كرايزلر', '150E25', 'باص تجاري 413', 'راف',\n",
       "       'بوكسر', 'بونتياك جراند بريكس', 'ألتيما', 'اسكورت', 'ام دبليو x3',\n",
       "       'أتيكا', 'FL 12', '6 ابواب', 'سبرنتر', 'نارية Sym wolf 250cc',\n",
       "       'نيرو هايبرد', 'FL 7', 'برادو', '1985', 'S40', '2020', 'موكا',\n",
       "       'نارية هيوسنج GTR', 'دوكر', 'c15', '1624', 'تيندرا', 'ترافرس',\n",
       "       'ام دبليو M3', 'ام دبليو BMW735', 'سبارك', 'B3', 'شيروكو', 'K5',\n",
       "       'ام دبليو i 116', 'اتيكو', 'كانتر', 'Kawasaki', 'ميغان', 'E300',\n",
       "       'ابلاوس', 'نارية sym xpro', 'هنتر', 'A8', '814', 'سبيس باك',\n",
       "       'كوجا', 'نارية Sym', 'ام دبليو ٣٣٠i', '٢٠١٦', '2018',\n",
       "       'ام دبليو 735i', 'نارية سيم جتا ١٤', 'باتريوت', '6 روس قلاب',\n",
       "       'بيكاسو C3', 'ليجانزا', 'ريكورد', 'w210', 'CLA180',\n",
       "       'كوووورسا بسعر ممتاز', 'كسارا', '99', '519', 'نيرو', 'سافانا',\n",
       "       '2012', 'CR-V', 'ام دبليو ميني كوبر', 'تيمبرا', '308 GT',\n",
       "       'اكس تريل', 'لودجي', 'رايسر', 'citigo', 'إنسيجنيا',\n",
       "       '50c18دبل كابينه', 'c', 'فورد', '1998', '٢٠١٠', 'كوننيت connect',\n",
       "       'BT50', 'لانتس', '1524 أتيكو', 'مرسيدس ٣٠٩', 'ام دبليو  x1',\n",
       "       'نارية ktm duke 390', 'همر H3', 'SL350', 'ام دبليو 330i e90',\n",
       "       '1993', 'ام دبليو Xdrive  X3..28i', 'قلاب ميرسيدس سنجل', 'سوداني',\n",
       "       'نارية 2018', 'اكس بلورر', 'نارية Sym wolf 250', 'موكا mokka',\n",
       "       'ڤيڤارو', 'توكسون', 'نارية هايسونق', 'اوتوبيانكي', 'A3', 'رمش',\n",
       "       'سيات', 'نارية 2015', '4800', 'R5',\n",
       "       'نارية Sym joui ride 200 evo 2016', 'اتيكو 10 17', 'C300',\n",
       "       'فيلوستر', 'بولو اتوماتيك', 'كرايسلر', 'نارية Joymax 2014',\n",
       "       'نارية 2013', 'نارية سيام', 'نارية جيو رايد', '614',\n",
       "       'ام دبليو ٢٠١٢', 'c3 diesel privat', 'ام دبليو Bmw e46', '107',\n",
       "       '2013', 'سويفت', '308 GTi', 'نارية 2012', '50C13', '607',\n",
       "       'تندر 2/4', 'ام دبليو بي ام 320', 'اوكتافيا بانوراما', 'اتكو',\n",
       "       'نارية Sym jet 14', 'lf.55.220.    مع باب خلفي', 'تيبو',\n",
       "       'يونغ Sym', 'نارية Kawasaki ninja', 'نارية سيم ٢٠١٦',\n",
       "       'ام دبليو 740', 'XE', 'سنتافيه', 'كاميك', 'Golf 2006', 'GLA 250',\n",
       "       'نارية SYM..Joyride', 'شبح', 'فولكس شتل ترانسبورتر', 'LV200',\n",
       "       'e270', 'Massey ferguson', 'نارية بولاريس', '٢٠٠٣', 'ام دبليو 735',\n",
       "       'نارية سيم جت 4', 'نارية Ktm', 'بارتنر Tepee', 'ام دبليو ٢٠٠٦',\n",
       "       'نارية Tweet', 'نارية ٢٠١٦', 'فولفو  740 GL', 'A80', 'xf', '1713',\n",
       "       'جولف R', 'Compass', 'ام دبليو BMW/ D 218', 'Compas', 'E320',\n",
       "       'Tepee', '87', 'سبيس واجن', 'ام دبليو كوبرا', 'سكانيا', '12ستيشن',\n",
       "       'MPI', 'بيجيرو كنج', 'سنتانا', 'F350', '٢١٢', 'نوت', '404'],\n",
       "      dtype=object)"
      ]
     },
     "execution_count": 7389,
     "metadata": {},
     "output_type": "execute_result"
    }
   ],
   "source": [
    "\n",
    "df[\"type\"].unique()"
   ]
  },
  {
   "cell_type": "code",
   "execution_count": 7390,
   "metadata": {},
   "outputs": [],
   "source": [
    "\n",
    "df['type'] = df['type'].apply(lambda x: x.replace('أم', '').strip() if isinstance(x, str) else x)\n",
    "df['type'] = df['type'].apply(lambda x: x.replace('ام', '').strip() if isinstance(x, str) else x)\n",
    "df['type'] = df['type'].apply(lambda x: x.replace('دبل', '').strip() if isinstance(x, str) else x)\n",
    "df['type'] = df['type'].apply(lambda x: x.replace('يو', '').strip() if isinstance(x, str) else x)\n",
    "df['type'] = df['type'].apply(lambda x: x.replace('فل', '').strip() if isinstance(x, str) else x)\n",
    "df['type'] = df['type'].apply(lambda x: x.replace(' - مع بانورا وبصمه وشاشة - كيرا', '').strip() if isinstance(x, str) else x)\n",
    "df['type'] = df['type'].apply(lambda x: x.replace('اضافات', '').strip() if isinstance(x, str) else x)\n",
    "df['type'] = df['type'].apply(lambda x: x.replace('a', '').strip() if isinstance(x, str) else x)\n",
    "df['type'] = df['type'].apply(lambda x: x.replace('تعديل', '').strip() if isinstance(x, str) else x)\n",
    "df['type'] = df['type'].apply(lambda x: x.replace('اف', '').strip() if isinstance(x, str) else x)\n",
    "df['type'] = df['type'].apply(lambda x: x.replace('نارية', '').strip() if isinstance(x, str) else x)\n",
    "df['type'] = df['type'].apply(lambda x: x.replace('b', '').strip() if isinstance(x, str) else x)\n",
    "df['type'] = df['type'].apply(lambda x: x.replace('c', '').strip() if isinstance(x, str) else x)\n",
    "df['type'] = df['type'].apply(lambda x: x.replace('d', '').strip() if isinstance(x, str) else x)\n",
    "df['type'] = df['type'].apply(lambda x: x.replace('e', '').strip() if isinstance(x, str) else x)\n",
    "df['type'] = df['type'].apply(lambda x: x.replace('f', '').strip() if isinstance(x, str) else x)\n",
    "df['type'] = df['type'].apply(lambda x: x.replace('j', '').strip() if isinstance(x, str) else x)\n",
    "df['type'] = df['type'].apply(lambda x: x.replace('h', '').strip() if isinstance(x, str) else x)\n",
    "df['type'] = df['type'].apply(lambda x: x.replace('i', '').strip() if isinstance(x, str) else x)\n",
    "df['type'] = df['type'].apply(lambda x: x.replace('g', '').strip() if isinstance(x, str) else x)\n",
    "df['type'] = df['type'].apply(lambda x: x.replace('k', '').strip() if isinstance(x, str) else x)\n",
    "df['type'] = df['type'].apply(lambda x: x.replace('l', '').strip() if isinstance(x, str) else x)\n",
    "df['type'] = df['type'].apply(lambda x: x.replace('m', '').strip() if isinstance(x, str) else x)\n",
    "df['type'] = df['type'].apply(lambda x: x.replace('n', '').strip() if isinstance(x, str) else x)\n",
    "df['type'] = df['type'].apply(lambda x: x.replace('o', '').strip() if isinstance(x, str) else x)\n",
    "df['type'] = df['type'].apply(lambda x: x.replace('p', '').strip() if isinstance(x, str) else x)\n",
    "df['type'] = df['type'].apply(lambda x: x.replace('q', '').strip() if isinstance(x, str) else x)\n",
    "df['type'] = df['type'].apply(lambda x: x.replace('r', '').strip() if isinstance(x, str) else x)\n",
    "df['type'] = df['type'].apply(lambda x: x.replace('s', '').strip() if isinstance(x, str) else x)\n",
    "df['type'] = df['type'].apply(lambda x: x.replace('t', '').strip() if isinstance(x, str) else x)\n",
    "df['type'] = df['type'].apply(lambda x: x.replace('u', '').strip() if isinstance(x, str) else x)\n",
    "df['type'] = df['type'].apply(lambda x: x.replace('v', '').strip() if isinstance(x, str) else x)\n",
    "df['type'] = df['type'].apply(lambda x: x.replace('w', '').strip() if isinstance(x, str) else x)\n",
    "df['type'] = df['type'].apply(lambda x: x.replace('x', '').strip() if isinstance(x, str) else x)\n",
    "df['type'] = df['type'].apply(lambda x: x.replace('y', '').strip() if isinstance(x, str) else x)\n",
    "df['type'] = df['type'].apply(lambda x: x.replace('z', '').strip() if isinstance(x, str) else x)\n",
    " \n"
   ]
  },
  {
   "cell_type": "code",
   "execution_count": 7391,
   "metadata": {},
   "outputs": [
    {
     "data": {
      "text/plain": [
       "493"
      ]
     },
     "execution_count": 7391,
     "metadata": {},
     "output_type": "execute_result"
    }
   ],
   "source": [
    "df['type'].nunique()"
   ]
  },
  {
   "cell_type": "code",
   "execution_count": 7392,
   "metadata": {},
   "outputs": [
    {
     "data": {
      "text/plain": [
       "array(['برايد', 'اكسنت', '508', 'اوكتيا', 'بريزا', 'لن', '220', '80',\n",
       "       'كوبيه', 'كبينة', 'جولف', 'ر', 'قرطبة', 'جيتس', '208', 'رابيد',\n",
       "       'فيليسيا', 'تيجوان', '207', 'توسان', 'C250', 'E220', '306',\n",
       "       'سبورتاج', 'اوبتيما', 'استرا', 'نملة', 'فابيا', 'بولو', 'بارتنر',\n",
       "       'سوبيرب', 'اوبترا', 'كريل', '2008', 'عريض', 'فوكس', 'ابيزا',\n",
       "       'كادي', 'كورسا', '2007', 'C4', 'فيرنا', 'سوناتا', 'C-E', 'GTI',\n",
       "       'A4', '307', 'كودياك', 'سورينتو', 'سول', 'كرتر', 'باسات', 'فورتي',\n",
       "       'كليك', 'ديماكس', 'بيرلينجو', 'ترانزيت', 'سانتيه', 'كانجو', '3',\n",
       "       'اونو', 'ترانسبورتر', 'بونتو', 'فيستا', '10', '520', '١٩٩٨',\n",
       "       'توران', 'زيرا', 'بيكانتو', 'اتوس', 'مورننغ', 'C1', 'ماجنتيس',\n",
       "       'جيتا', '305', '412', 'انتي', 'E250', 'كوبرا', 'E230', '40', '525',\n",
       "       '30', 'كروز', 'موستانغ', 'بيتل', 'اسكونا', 'دوبلو', '535', '406',\n",
       "       'لانوس', 'باندا', 'كاديت', 'اروك', '٢٣٠', '320', 'فيكترا',\n",
       "       'تيراكان', 'روم جوليتا', '318', 'هيلاكس', '65C18', 'X5', 'رومستر',\n",
       "       'لانسر', 'وانس', '١٩٨٣', '240', 'نغ كيرون', 'ارونا', '2016',\n",
       "       'نوبيرا', 'سي  فاندورا', 'أفيكو تنك مياه', '2014', 'تروبر', 'K3',\n",
       "       '518', 'غواصة S320', 'كورولا', '608', '١٩٩٩', '416', 'كونا', '',\n",
       "       'E280', '205', '1983', '410', 'ليجاسي', 'يتي', 'كل', 'سيراتو',\n",
       "       'سي  سفانا', 'بورا', 'ستونك', '313', 'ار', 'جوالف', '200', 'Q5',\n",
       "       'سيفيك', 'S', 'د', '335', 'كابتيفا', 'X4', 'FH 12', 'نغ ركستون',\n",
       "       '325', 'فيانو', '127', '1', 'C180', '1990', 'فين', 'الانترا',\n",
       "       'كاروك', 'H1', 'اوت لاندر', 'وينر', 'DS3', 'H100', '55', '4',\n",
       "       'ماتيز', 'L200', 'لاند كروزر', '1524', 'أفو', 'روم 2014 جوليتا',\n",
       "       'C220', '230', '250', 'كاير', '2019', '323', 'C200', 'جولف بلس',\n",
       "       '411', 'سبيرو', 'موند', 'GLA200', 'باجيرو', '25', 'نغ اكتن',\n",
       "       'كومباس', '206', 'A6', 'سبورتاج اصل الماني  بانورا بصمه شاشه كيرا',\n",
       "       'طوارق', 'L400', '330', '914', '2000', '316', 'كيا K5/ ترخيص 2014',\n",
       "       'R', 'R9', 'Q7', '300', 'W', '400', 'كبينه', '190', '2017',\n",
       "       'فينتو', 'E220 D', '530', 'E270', 'LT', '515', 'رينو', 'انيك',\n",
       "       'اكسبرت', 'جوك', 'جالانت', 'تندر', 'بيكاسو C4', 'F 150', 'X3',\n",
       "       '1997', '407', '308', '1988', '523', 'اكسنت كوري بصمه',\n",
       "       'IVIECO 50C15CH', 'سوبيربان', '2010', '413', 'كاريزما',\n",
       "       'ياها 2018', '88', '2005', 'S320', '-', 'I300', 'تيدا', 'كابتر',\n",
       "       '20', 'كبو', '45', '2006', 'كشكاي', 'E200', '170', 'اكورد', 'T',\n",
       "       'كونيكت', '528', 'اوران', 'ياها', '٢٠١٥', 'باص 519', '35', 'FL6',\n",
       "       'CC', 'سوبر لانسر', 'E350', 'اكسبرس', 'ستيب واي', 'سبيس ستار', 'P',\n",
       "       'فيتو', 'D5', '350', '2004', '2009', 'I30', 'ديسكفري', 'C5',\n",
       "       'تراجيت', 'ديفندر', '5008', '1999', '2011', '301', 'باترول', 'B4',\n",
       "       'ماليبو', '٢٠١٩', 'برلنجو', 'F6', 'سكالا', 'شحن', 'سلندر 5 LT',\n",
       "       'ديلي', 'TT كوبيه', 'C 230', '6', 'باص 212', '280', 'ايدج',\n",
       "       'ميكرا', 'ماجنوم', 'تيرانو', 'فرينو', 'SYM', 'مان', 'C3', '206+',\n",
       "       '405', 'بيرلينجو مالتي سبيس', 'توليدو', 'باص', '709', 'الميرا',\n",
       "       'KTM', 'S500', 'ستيشن', '2003', 'شيروكي', 'اكسبلورر', '5',\n",
       "       '131 ستيشن', 'استر', '3008', 'اتراج', 'جبي', 'اتكوا ١٢١٨', 'داستر',\n",
       "       '2001', 'سوبر رايسر', '420I', 'C270', 'سييد', 'Y R3', 'لينيا',\n",
       "       'اكس  راس تريلا', '180', 'اسكانيا', 'FM 7', 'كرايزلر', '150E25',\n",
       "       'باص تجاري 413', 'بوكسر', 'بونتياك جراند بريكس', 'ألتيما',\n",
       "       'اسكورت', 'أتيكا', 'FL 12', '6 ابواب', 'سبرنتر', 'S  250',\n",
       "       'نيرو هايبرد', 'FL 7', 'برادو', '1985', 'S40', '2020', 'موكا',\n",
       "       'هسنج GTR', 'دوكر', '15', '1624', 'تيندرا', 'تررس', 'M3', 'BMW735',\n",
       "       'سبارك', 'B3', 'شيروكو', 'K5', '116', 'اتيكو', 'كانتر', 'K',\n",
       "       'ميغان', 'E300', 'ابلاوس', 'هنتر', 'A8', '814', 'سبيس باك', 'كوجا',\n",
       "       '٣٣٠', '٢٠١٦', '2018', '735', 'سيم جتا ١٤', 'باترت', '6 روس قلاب',\n",
       "       'بيكاسو C3', 'ليجانزا', 'ريكورد', '210', 'CLA180',\n",
       "       'كوووورسا بسعر ممتاز', 'كسارا', '99', '519', 'نيرو', 'سانا',\n",
       "       '2012', 'CR-V', 'ميني كوبر', 'تيمبرا', '308 GT', 'اكس تريل',\n",
       "       'لودجي', 'رايسر', 'إنسيجنيا', '5018 كابينه', 'فورد', '1998',\n",
       "       '٢٠١٠', 'كوننيت', 'BT50', 'لانتس', '1524 أتيكو', 'مرسيدس ٣٠٩',\n",
       "       '390', 'همر H3', 'SL350', '330 90', '1993', 'X  X3..28',\n",
       "       'قلاب ميرسيدس سنجل', 'سوداني', 'اكس بلورر', 'ڤيڤارو', 'توكسون',\n",
       "       'هايسونق', 'اوتوبيانكي', 'A3', 'رمش', 'سيات', '2015', '4800', 'R5',\n",
       "       'S   200  2016', 'اتيكو 10 17', 'C300', 'فيلوستر', 'بولو اتوماتيك',\n",
       "       'كرايسلر', 'J 2014', '2013', 'سي', 'ج رايد', '614', '٢٠١٢', 'B 46',\n",
       "       '107', 'سويفت', '50C13', '607', 'تندر 2/4', 'بي  320',\n",
       "       'اوكتيا بانورا', 'اتكو', 'S  14', '.55.220.    مع باب خلفي',\n",
       "       'تيبو', 'نغ S', 'سيم ٢٠١٦', '740', 'XE', 'سنتيه', 'كيك', 'G 2006',\n",
       "       'GLA 250', 'SYM..J', 'شبح', 'فولكس شتل ترانسبورتر', 'LV200', '270',\n",
       "       'M', 'بولاريس', '٢٠٠٣', 'سيم جت 4', 'بارتنر T', '٢٠٠٦',\n",
       "       'فولفو  740 GL', 'A80', '1713', 'جولف R', 'C', 'BMW/ D 218',\n",
       "       'E320', '87', 'سبيس واجن', 'سكانيا', '12ستيشن', 'MPI',\n",
       "       'بيجيرو كنج', 'سنتانا', 'F350', '٢١٢', 'نوت', '404'], dtype=object)"
      ]
     },
     "execution_count": 7392,
     "metadata": {},
     "output_type": "execute_result"
    }
   ],
   "source": [
    " \n",
    "df['type'].unique()"
   ]
  },
  {
   "cell_type": "code",
   "execution_count": 7393,
   "metadata": {},
   "outputs": [
    {
     "data": {
      "text/plain": [
       "493"
      ]
     },
     "execution_count": 7393,
     "metadata": {},
     "output_type": "execute_result"
    }
   ],
   "source": [
    "\n",
    "df['type'].nunique()"
   ]
  },
  {
   "cell_type": "code",
   "execution_count": 7394,
   "metadata": {},
   "outputs": [
    {
     "data": {
      "text/html": [
       "<div>\n",
       "<style scoped>\n",
       "    .dataframe tbody tr th:only-of-type {\n",
       "        vertical-align: middle;\n",
       "    }\n",
       "\n",
       "    .dataframe tbody tr th {\n",
       "        vertical-align: top;\n",
       "    }\n",
       "\n",
       "    .dataframe thead th {\n",
       "        text-align: right;\n",
       "    }\n",
       "</style>\n",
       "<table border=\"1\" class=\"dataframe\">\n",
       "  <thead>\n",
       "    <tr style=\"text-align: right;\">\n",
       "      <th></th>\n",
       "      <th>air_conditioner</th>\n",
       "      <th>central_closing</th>\n",
       "      <th>alarm_devise</th>\n",
       "      <th>CD_recorder</th>\n",
       "      <th>leather_upholstery</th>\n",
       "      <th>air_cushion</th>\n",
       "      <th>magnesium_rims</th>\n",
       "      <th>sunroof</th>\n",
       "      <th>name_car</th>\n",
       "      <th>model_car</th>\n",
       "      <th>...</th>\n",
       "      <th>ex_owners</th>\n",
       "      <th>car_license</th>\n",
       "      <th>lime_type</th>\n",
       "      <th>glass</th>\n",
       "      <th>motor_power</th>\n",
       "      <th>passengers</th>\n",
       "      <th>payment_method</th>\n",
       "      <th>displayed</th>\n",
       "      <th>brand</th>\n",
       "      <th>type</th>\n",
       "    </tr>\n",
       "  </thead>\n",
       "  <tbody>\n",
       "    <tr>\n",
       "      <th>806</th>\n",
       "      <td>1</td>\n",
       "      <td>0.0</td>\n",
       "      <td>0</td>\n",
       "      <td>1</td>\n",
       "      <td>0</td>\n",
       "      <td>0</td>\n",
       "      <td>0</td>\n",
       "      <td>0</td>\n",
       "      <td>مرسيدس GLA200</td>\n",
       "      <td>2014.0</td>\n",
       "      <td>...</td>\n",
       "      <td>يد ثالثه</td>\n",
       "      <td>1</td>\n",
       "      <td>1</td>\n",
       "      <td>1</td>\n",
       "      <td>3500.0</td>\n",
       "      <td>3.0</td>\n",
       "      <td>1</td>\n",
       "      <td>1</td>\n",
       "      <td>مرسيدس</td>\n",
       "      <td>GLA200</td>\n",
       "    </tr>\n",
       "    <tr>\n",
       "      <th>1324</th>\n",
       "      <td>1</td>\n",
       "      <td>1.0</td>\n",
       "      <td>1</td>\n",
       "      <td>1</td>\n",
       "      <td>1</td>\n",
       "      <td>1</td>\n",
       "      <td>1</td>\n",
       "      <td>0</td>\n",
       "      <td>مرسيدس GLA200</td>\n",
       "      <td>2014.0</td>\n",
       "      <td>...</td>\n",
       "      <td>٢</td>\n",
       "      <td>1</td>\n",
       "      <td>3</td>\n",
       "      <td>2</td>\n",
       "      <td>1600.0</td>\n",
       "      <td>5.0</td>\n",
       "      <td>2</td>\n",
       "      <td>3</td>\n",
       "      <td>مرسيدس</td>\n",
       "      <td>GLA200</td>\n",
       "    </tr>\n",
       "  </tbody>\n",
       "</table>\n",
       "<p>2 rows × 23 columns</p>\n",
       "</div>"
      ],
      "text/plain": [
       "      air_conditioner  central_closing  alarm_devise  CD_recorder  \\\n",
       "806                 1              0.0             0            1   \n",
       "1324                1              1.0             1            1   \n",
       "\n",
       "      leather_upholstery  air_cushion  magnesium_rims  sunroof       name_car  \\\n",
       "806                    0            0               0        0  مرسيدس GLA200   \n",
       "1324                   1            1               1        0  مرسيدس GLA200   \n",
       "\n",
       "      model_car  ...  ex_owners car_license  lime_type glass  motor_power  \\\n",
       "806      2014.0  ...   يد ثالثه           1          1     1       3500.0   \n",
       "1324     2014.0  ...          ٢           1          3     2       1600.0   \n",
       "\n",
       "      passengers  payment_method  displayed   brand    type  \n",
       "806          3.0               1          1  مرسيدس  GLA200  \n",
       "1324         5.0               2          3  مرسيدس  GLA200  \n",
       "\n",
       "[2 rows x 23 columns]"
      ]
     },
     "execution_count": 7394,
     "metadata": {},
     "output_type": "execute_result"
    }
   ],
   "source": [
    "\n",
    "df[df[\"type\"]=='GLA200']"
   ]
  },
  {
   "cell_type": "code",
   "execution_count": 7395,
   "metadata": {},
   "outputs": [
    {
     "data": {
      "text/plain": [
       "array(['كيا', 'هونداي', 'بيجو', 'سكودا', 'سوبارو', 'سيت', 'مرسيدس',\n",
       "       'اودي', 'فولكسفاجن', 'Dodge', 'اوبل', 'شفروليه', 'فورد', 'فولفو',\n",
       "       'ستروين', 'جييب', 'ايسوزو', 'رينو', 'مازدا', 'فيات', 'بي', 'دايو',\n",
       "       'أفيكو', 'الفا', 'تويوتا', 'ميتسوبيشي', 'سانغ', 'دراجة', 'جي',\n",
       "       'شاحنة', 'هوندا', 'نيسان', 'داف', 'روفر', 'داتشيا', 'لاندروفر',\n",
       "       'كاديلاك', 'باص', 'سوزوكي', 'ديهاتسو', 'جاجوار'], dtype=object)"
      ]
     },
     "execution_count": 7395,
     "metadata": {},
     "output_type": "execute_result"
    }
   ],
   "source": [
    "df['brand'].unique()"
   ]
  },
  {
   "cell_type": "code",
   "execution_count": 7396,
   "metadata": {},
   "outputs": [
    {
     "data": {
      "text/plain": [
       "41"
      ]
     },
     "execution_count": 7396,
     "metadata": {},
     "output_type": "execute_result"
    }
   ],
   "source": [
    "df['brand'].nunique()\n"
   ]
  },
  {
   "cell_type": "code",
   "execution_count": 7397,
   "metadata": {},
   "outputs": [
    {
     "data": {
      "text/plain": [
       "0              Kia\n",
       "1          Hyundai\n",
       "2          Peugeot\n",
       "3            Skoda\n",
       "4           Subaru\n",
       "           ...    \n",
       "6856          Opel\n",
       "6857           BMW\n",
       "6858           Kia\n",
       "6860      Mercedes\n",
       "6863    Volkswagen\n",
       "Name: brand, Length: 5973, dtype: object"
      ]
     },
     "execution_count": 7397,
     "metadata": {},
     "output_type": "execute_result"
    }
   ],
   "source": [
    "df['brand'] = df['brand'].replace(brand_dict)\n",
    "df['brand'] "
   ]
  },
  {
   "cell_type": "code",
   "execution_count": 7398,
   "metadata": {},
   "outputs": [
    {
     "data": {
      "text/plain": [
       "41"
      ]
     },
     "execution_count": 7398,
     "metadata": {},
     "output_type": "execute_result"
    }
   ],
   "source": [
    "df['brand'].nunique()\n"
   ]
  },
  {
   "cell_type": "code",
   "execution_count": 7399,
   "metadata": {},
   "outputs": [
    {
     "data": {
      "text/plain": [
       "493"
      ]
     },
     "execution_count": 7399,
     "metadata": {},
     "output_type": "execute_result"
    }
   ],
   "source": [
    "df[\"type\"].nunique()"
   ]
  },
  {
   "cell_type": "code",
   "execution_count": 7400,
   "metadata": {},
   "outputs": [
    {
     "data": {
      "text/plain": [
       "array(['برايد', 'اكسنت', '508', 'اوكتيا', 'بريزا', 'لن', '220', '80',\n",
       "       'كوبيه', 'كبينة', 'جولف', 'ر', 'قرطبة', 'جيتس', '208', 'رابيد',\n",
       "       'فيليسيا', 'تيجوان', '207', 'توسان', 'C250', 'E220', '306',\n",
       "       'سبورتاج', 'اوبتيما', 'استرا', 'نملة', 'فابيا', 'بولو', 'بارتنر',\n",
       "       'سوبيرب', 'اوبترا', 'كريل', '2008', 'عريض', 'فوكس', 'ابيزا',\n",
       "       'كادي', 'كورسا', '2007', 'C4', 'فيرنا', 'سوناتا', 'C-E', 'GTI',\n",
       "       'A4', '307', 'كودياك', 'سورينتو', 'سول', 'كرتر', 'باسات', 'فورتي',\n",
       "       'كليك', 'ديماكس', 'بيرلينجو', 'ترانزيت', 'سانتيه', 'كانجو', '3',\n",
       "       'اونو', 'ترانسبورتر', 'بونتو', 'فيستا', '10', '520', '١٩٩٨',\n",
       "       'توران', 'زيرا', 'بيكانتو', 'اتوس', 'مورننغ', 'C1', 'ماجنتيس',\n",
       "       'جيتا', '305', '412', 'انتي', 'E250', 'كوبرا', 'E230', '40', '525',\n",
       "       '30', 'كروز', 'موستانغ', 'بيتل', 'اسكونا', 'دوبلو', '535', '406',\n",
       "       'لانوس', 'باندا', 'كاديت', 'اروك', '٢٣٠', '320', 'فيكترا',\n",
       "       'تيراكان', 'روم جوليتا', '318', 'هيلاكس', '65C18', 'X5', 'رومستر',\n",
       "       'لانسر', 'وانس', '١٩٨٣', '240', 'نغ كيرون', 'ارونا', '2016',\n",
       "       'نوبيرا', 'سي  فاندورا', 'أفيكو تنك مياه', '2014', 'تروبر', 'K3',\n",
       "       '518', 'غواصة S320', 'كورولا', '608', '١٩٩٩', '416', 'كونا', '',\n",
       "       'E280', '205', '1983', '410', 'ليجاسي', 'يتي', 'كل', 'سيراتو',\n",
       "       'سي  سفانا', 'بورا', 'ستونك', '313', 'ار', 'جوالف', '200', 'Q5',\n",
       "       'سيفيك', 'S', 'د', '335', 'كابتيفا', 'X4', 'FH 12', 'نغ ركستون',\n",
       "       '325', 'فيانو', '127', '1', 'C180', '1990', 'فين', 'الانترا',\n",
       "       'كاروك', 'H1', 'اوت لاندر', 'وينر', 'DS3', 'H100', '55', '4',\n",
       "       'ماتيز', 'L200', 'لاند كروزر', '1524', 'أفو', 'روم 2014 جوليتا',\n",
       "       'C220', '230', '250', 'كاير', '2019', '323', 'C200', 'جولف بلس',\n",
       "       '411', 'سبيرو', 'موند', 'GLA200', 'باجيرو', '25', 'نغ اكتن',\n",
       "       'كومباس', '206', 'A6', 'سبورتاج اصل الماني  بانورا بصمه شاشه كيرا',\n",
       "       'طوارق', 'L400', '330', '914', '2000', '316', 'كيا K5/ ترخيص 2014',\n",
       "       'R', 'R9', 'Q7', '300', 'W', '400', 'كبينه', '190', '2017',\n",
       "       'فينتو', 'E220 D', '530', 'E270', 'LT', '515', 'رينو', 'انيك',\n",
       "       'اكسبرت', 'جوك', 'جالانت', 'تندر', 'بيكاسو C4', 'F 150', 'X3',\n",
       "       '1997', '407', '308', '1988', '523', 'اكسنت كوري بصمه',\n",
       "       'IVIECO 50C15CH', 'سوبيربان', '2010', '413', 'كاريزما',\n",
       "       'ياها 2018', '88', '2005', 'S320', '-', 'I300', 'تيدا', 'كابتر',\n",
       "       '20', 'كبو', '45', '2006', 'كشكاي', 'E200', '170', 'اكورد', 'T',\n",
       "       'كونيكت', '528', 'اوران', 'ياها', '٢٠١٥', 'باص 519', '35', 'FL6',\n",
       "       'CC', 'سوبر لانسر', 'E350', 'اكسبرس', 'ستيب واي', 'سبيس ستار', 'P',\n",
       "       'فيتو', 'D5', '350', '2004', '2009', 'I30', 'ديسكفري', 'C5',\n",
       "       'تراجيت', 'ديفندر', '5008', '1999', '2011', '301', 'باترول', 'B4',\n",
       "       'ماليبو', '٢٠١٩', 'برلنجو', 'F6', 'سكالا', 'شحن', 'سلندر 5 LT',\n",
       "       'ديلي', 'TT كوبيه', 'C 230', '6', 'باص 212', '280', 'ايدج',\n",
       "       'ميكرا', 'ماجنوم', 'تيرانو', 'فرينو', 'SYM', 'مان', 'C3', '206+',\n",
       "       '405', 'بيرلينجو مالتي سبيس', 'توليدو', 'باص', '709', 'الميرا',\n",
       "       'KTM', 'S500', 'ستيشن', '2003', 'شيروكي', 'اكسبلورر', '5',\n",
       "       '131 ستيشن', 'استر', '3008', 'اتراج', 'جبي', 'اتكوا ١٢١٨', 'داستر',\n",
       "       '2001', 'سوبر رايسر', '420I', 'C270', 'سييد', 'Y R3', 'لينيا',\n",
       "       'اكس  راس تريلا', '180', 'اسكانيا', 'FM 7', 'كرايزلر', '150E25',\n",
       "       'باص تجاري 413', 'بوكسر', 'بونتياك جراند بريكس', 'ألتيما',\n",
       "       'اسكورت', 'أتيكا', 'FL 12', '6 ابواب', 'سبرنتر', 'S  250',\n",
       "       'نيرو هايبرد', 'FL 7', 'برادو', '1985', 'S40', '2020', 'موكا',\n",
       "       'هسنج GTR', 'دوكر', '15', '1624', 'تيندرا', 'تررس', 'M3', 'BMW735',\n",
       "       'سبارك', 'B3', 'شيروكو', 'K5', '116', 'اتيكو', 'كانتر', 'K',\n",
       "       'ميغان', 'E300', 'ابلاوس', 'هنتر', 'A8', '814', 'سبيس باك', 'كوجا',\n",
       "       '٣٣٠', '٢٠١٦', '2018', '735', 'سيم جتا ١٤', 'باترت', '6 روس قلاب',\n",
       "       'بيكاسو C3', 'ليجانزا', 'ريكورد', '210', 'CLA180',\n",
       "       'كوووورسا بسعر ممتاز', 'كسارا', '99', '519', 'نيرو', 'سانا',\n",
       "       '2012', 'CR-V', 'ميني كوبر', 'تيمبرا', '308 GT', 'اكس تريل',\n",
       "       'لودجي', 'رايسر', 'إنسيجنيا', '5018 كابينه', 'فورد', '1998',\n",
       "       '٢٠١٠', 'كوننيت', 'BT50', 'لانتس', '1524 أتيكو', 'مرسيدس ٣٠٩',\n",
       "       '390', 'همر H3', 'SL350', '330 90', '1993', 'X  X3..28',\n",
       "       'قلاب ميرسيدس سنجل', 'سوداني', 'اكس بلورر', 'ڤيڤارو', 'توكسون',\n",
       "       'هايسونق', 'اوتوبيانكي', 'A3', 'رمش', 'سيات', '2015', '4800', 'R5',\n",
       "       'S   200  2016', 'اتيكو 10 17', 'C300', 'فيلوستر', 'بولو اتوماتيك',\n",
       "       'كرايسلر', 'J 2014', '2013', 'سي', 'ج رايد', '614', '٢٠١٢', 'B 46',\n",
       "       '107', 'سويفت', '50C13', '607', 'تندر 2/4', 'بي  320',\n",
       "       'اوكتيا بانورا', 'اتكو', 'S  14', '.55.220.    مع باب خلفي',\n",
       "       'تيبو', 'نغ S', 'سيم ٢٠١٦', '740', 'XE', 'سنتيه', 'كيك', 'G 2006',\n",
       "       'GLA 250', 'SYM..J', 'شبح', 'فولكس شتل ترانسبورتر', 'LV200', '270',\n",
       "       'M', 'بولاريس', '٢٠٠٣', 'سيم جت 4', 'بارتنر T', '٢٠٠٦',\n",
       "       'فولفو  740 GL', 'A80', '1713', 'جولف R', 'C', 'BMW/ D 218',\n",
       "       'E320', '87', 'سبيس واجن', 'سكانيا', '12ستيشن', 'MPI',\n",
       "       'بيجيرو كنج', 'سنتانا', 'F350', '٢١٢', 'نوت', '404'], dtype=object)"
      ]
     },
     "execution_count": 7400,
     "metadata": {},
     "output_type": "execute_result"
    }
   ],
   "source": [
    "df[\"type\"].unique()"
   ]
  },
  {
   "cell_type": "code",
   "execution_count": 7401,
   "metadata": {},
   "outputs": [
    {
     "data": {
      "text/plain": [
       "'Hyundai'"
      ]
     },
     "execution_count": 7401,
     "metadata": {},
     "output_type": "execute_result"
    }
   ],
   "source": [
    "df['brand'].iloc[1002]"
   ]
  },
  {
   "cell_type": "code",
   "execution_count": 7402,
   "metadata": {},
   "outputs": [
    {
     "data": {
      "text/plain": [
       "'هونداي سانتافيه'"
      ]
     },
     "execution_count": 7402,
     "metadata": {},
     "output_type": "execute_result"
    }
   ],
   "source": [
    "df[\"name_car\"].iloc[1002]"
   ]
  },
  {
   "cell_type": "code",
   "execution_count": 7403,
   "metadata": {},
   "outputs": [
    {
     "data": {
      "text/plain": [
       "array(['Kia', 'Hyundai', 'Peugeot', 'Skoda', 'Subaru', 'Seat', 'Mercedes',\n",
       "       'Audi', 'Volkswagen', 'Dodge', 'Opel', 'Chevrolet', 'Ford',\n",
       "       'Volvo', 'Citroen', 'Jeep', 'Isuzu', 'Renault', 'Mazda', 'Fiat',\n",
       "       'BMW', 'Daewoo', 'Iveco', 'Alfa Romeo', 'Toyota', 'Mitsubishi',\n",
       "       'SsangYong', 'Motorcycle', 'GMC', 'Truck', 'Honda', 'Nissan',\n",
       "       'DAF', 'Rover', 'Dacia', 'Land Rover', 'Cadillac', 'Bus', 'Suzuki',\n",
       "       'Daihatsu', 'Jaguar'], dtype=object)"
      ]
     },
     "execution_count": 7403,
     "metadata": {},
     "output_type": "execute_result"
    }
   ],
   "source": [
    "df['brand'].unique()"
   ]
  },
  {
   "cell_type": "code",
   "execution_count": 7404,
   "metadata": {},
   "outputs": [
    {
     "data": {
      "text/plain": [
       "1036      تويوتا كورولا\n",
       "1037     فولكسفاجن بولو\n",
       "1038     شفروليه اوبترا\n",
       "1039     فولكسفاجن جولف\n",
       "1041          كيا برايد\n",
       "             ...       \n",
       "1146    بي ام دبليو 325\n",
       "1147           بيجو 306\n",
       "1148         كيا مورننغ\n",
       "1149            رينو R9\n",
       "1150         فورد فيستا\n",
       "Name: name_car, Length: 100, dtype: object"
      ]
     },
     "execution_count": 7404,
     "metadata": {},
     "output_type": "execute_result"
    }
   ],
   "source": [
    "df['name_car'].iloc[900:1000]"
   ]
  },
  {
   "cell_type": "code",
   "execution_count": 7405,
   "metadata": {},
   "outputs": [
    {
     "data": {
      "text/plain": [
       "1036        Toyota\n",
       "1037    Volkswagen\n",
       "1038     Chevrolet\n",
       "1039    Volkswagen\n",
       "1041           Kia\n",
       "           ...    \n",
       "1146           BMW\n",
       "1147       Peugeot\n",
       "1148           Kia\n",
       "1149       Renault\n",
       "1150          Ford\n",
       "Name: brand, Length: 100, dtype: object"
      ]
     },
     "execution_count": 7405,
     "metadata": {},
     "output_type": "execute_result"
    }
   ],
   "source": [
    "df['brand'].iloc[900:1000]"
   ]
  },
  {
   "cell_type": "code",
   "execution_count": 7406,
   "metadata": {},
   "outputs": [
    {
     "data": {
      "application/vnd.plotly.v1+json": {
       "config": {
        "plotlyServerURL": "https://plot.ly"
       },
       "data": [
        {
         "branchvalues": "total",
         "domain": {
          "x": [
           0,
           1
          ],
          "y": [
           0,
           1
          ]
         },
         "hovertemplate": "labels=%{label}<br>count=%{value}<br>parent=%{parent}<br>id=%{id}<extra></extra>",
         "ids": [
          "Alfa Romeo",
          "Audi",
          "BMW",
          "Bus",
          "Cadillac",
          "Chevrolet",
          "Citroen",
          "DAF",
          "Dacia",
          "Daewoo",
          "Daihatsu",
          "Dodge",
          "Fiat",
          "Ford",
          "GMC",
          "Honda",
          "Hyundai",
          "Isuzu",
          "Iveco",
          "Jaguar",
          "Jeep",
          "Kia",
          "Land Rover",
          "Mazda",
          "Mercedes",
          "Mitsubishi",
          "Motorcycle",
          "Nissan",
          "Opel",
          "Peugeot",
          "Renault",
          "Rover",
          "Seat",
          "Skoda",
          "SsangYong",
          "Subaru",
          "Suzuki",
          "Toyota",
          "Truck",
          "Volkswagen",
          "Volvo"
         ],
         "labels": [
          "Alfa Romeo",
          "Audi",
          "BMW",
          "Bus",
          "Cadillac",
          "Chevrolet",
          "Citroen",
          "DAF",
          "Dacia",
          "Daewoo",
          "Daihatsu",
          "Dodge",
          "Fiat",
          "Ford",
          "GMC",
          "Honda",
          "Hyundai",
          "Isuzu",
          "Iveco",
          "Jaguar",
          "Jeep",
          "Kia",
          "Land Rover",
          "Mazda",
          "Mercedes",
          "Mitsubishi",
          "Motorcycle",
          "Nissan",
          "Opel",
          "Peugeot",
          "Renault",
          "Rover",
          "Seat",
          "Skoda",
          "SsangYong",
          "Subaru",
          "Suzuki",
          "Toyota",
          "Truck",
          "Volkswagen",
          "Volvo"
         ],
         "name": "",
         "parents": [
          "",
          "",
          "",
          "",
          "",
          "",
          "",
          "",
          "",
          "",
          "",
          "",
          "",
          "",
          "",
          "",
          "",
          "",
          "",
          "",
          "",
          "",
          "",
          "",
          "",
          "",
          "",
          "",
          "",
          "",
          "",
          "",
          "",
          "",
          "",
          "",
          "",
          "",
          "",
          "",
          ""
         ],
         "type": "treemap",
         "values": [
          2,
          67,
          174,
          7,
          1,
          79,
          85,
          12,
          12,
          76,
          1,
          3,
          127,
          202,
          5,
          40,
          920,
          18,
          22,
          3,
          23,
          732,
          10,
          28,
          298,
          85,
          39,
          42,
          433,
          293,
          49,
          3,
          235,
          668,
          13,
          73,
          2,
          37,
          10,
          1025,
          19
         ]
        }
       ],
       "layout": {
        "legend": {
         "tracegroupgap": 0
        },
        "template": {
         "data": {
          "bar": [
           {
            "error_x": {
             "color": "#2a3f5f"
            },
            "error_y": {
             "color": "#2a3f5f"
            },
            "marker": {
             "line": {
              "color": "#E5ECF6",
              "width": 0.5
             },
             "pattern": {
              "fillmode": "overlay",
              "size": 10,
              "solidity": 0.2
             }
            },
            "type": "bar"
           }
          ],
          "barpolar": [
           {
            "marker": {
             "line": {
              "color": "#E5ECF6",
              "width": 0.5
             },
             "pattern": {
              "fillmode": "overlay",
              "size": 10,
              "solidity": 0.2
             }
            },
            "type": "barpolar"
           }
          ],
          "carpet": [
           {
            "aaxis": {
             "endlinecolor": "#2a3f5f",
             "gridcolor": "white",
             "linecolor": "white",
             "minorgridcolor": "white",
             "startlinecolor": "#2a3f5f"
            },
            "baxis": {
             "endlinecolor": "#2a3f5f",
             "gridcolor": "white",
             "linecolor": "white",
             "minorgridcolor": "white",
             "startlinecolor": "#2a3f5f"
            },
            "type": "carpet"
           }
          ],
          "choropleth": [
           {
            "colorbar": {
             "outlinewidth": 0,
             "ticks": ""
            },
            "type": "choropleth"
           }
          ],
          "contour": [
           {
            "colorbar": {
             "outlinewidth": 0,
             "ticks": ""
            },
            "colorscale": [
             [
              0,
              "#0d0887"
             ],
             [
              0.1111111111111111,
              "#46039f"
             ],
             [
              0.2222222222222222,
              "#7201a8"
             ],
             [
              0.3333333333333333,
              "#9c179e"
             ],
             [
              0.4444444444444444,
              "#bd3786"
             ],
             [
              0.5555555555555556,
              "#d8576b"
             ],
             [
              0.6666666666666666,
              "#ed7953"
             ],
             [
              0.7777777777777778,
              "#fb9f3a"
             ],
             [
              0.8888888888888888,
              "#fdca26"
             ],
             [
              1,
              "#f0f921"
             ]
            ],
            "type": "contour"
           }
          ],
          "contourcarpet": [
           {
            "colorbar": {
             "outlinewidth": 0,
             "ticks": ""
            },
            "type": "contourcarpet"
           }
          ],
          "heatmap": [
           {
            "colorbar": {
             "outlinewidth": 0,
             "ticks": ""
            },
            "colorscale": [
             [
              0,
              "#0d0887"
             ],
             [
              0.1111111111111111,
              "#46039f"
             ],
             [
              0.2222222222222222,
              "#7201a8"
             ],
             [
              0.3333333333333333,
              "#9c179e"
             ],
             [
              0.4444444444444444,
              "#bd3786"
             ],
             [
              0.5555555555555556,
              "#d8576b"
             ],
             [
              0.6666666666666666,
              "#ed7953"
             ],
             [
              0.7777777777777778,
              "#fb9f3a"
             ],
             [
              0.8888888888888888,
              "#fdca26"
             ],
             [
              1,
              "#f0f921"
             ]
            ],
            "type": "heatmap"
           }
          ],
          "heatmapgl": [
           {
            "colorbar": {
             "outlinewidth": 0,
             "ticks": ""
            },
            "colorscale": [
             [
              0,
              "#0d0887"
             ],
             [
              0.1111111111111111,
              "#46039f"
             ],
             [
              0.2222222222222222,
              "#7201a8"
             ],
             [
              0.3333333333333333,
              "#9c179e"
             ],
             [
              0.4444444444444444,
              "#bd3786"
             ],
             [
              0.5555555555555556,
              "#d8576b"
             ],
             [
              0.6666666666666666,
              "#ed7953"
             ],
             [
              0.7777777777777778,
              "#fb9f3a"
             ],
             [
              0.8888888888888888,
              "#fdca26"
             ],
             [
              1,
              "#f0f921"
             ]
            ],
            "type": "heatmapgl"
           }
          ],
          "histogram": [
           {
            "marker": {
             "pattern": {
              "fillmode": "overlay",
              "size": 10,
              "solidity": 0.2
             }
            },
            "type": "histogram"
           }
          ],
          "histogram2d": [
           {
            "colorbar": {
             "outlinewidth": 0,
             "ticks": ""
            },
            "colorscale": [
             [
              0,
              "#0d0887"
             ],
             [
              0.1111111111111111,
              "#46039f"
             ],
             [
              0.2222222222222222,
              "#7201a8"
             ],
             [
              0.3333333333333333,
              "#9c179e"
             ],
             [
              0.4444444444444444,
              "#bd3786"
             ],
             [
              0.5555555555555556,
              "#d8576b"
             ],
             [
              0.6666666666666666,
              "#ed7953"
             ],
             [
              0.7777777777777778,
              "#fb9f3a"
             ],
             [
              0.8888888888888888,
              "#fdca26"
             ],
             [
              1,
              "#f0f921"
             ]
            ],
            "type": "histogram2d"
           }
          ],
          "histogram2dcontour": [
           {
            "colorbar": {
             "outlinewidth": 0,
             "ticks": ""
            },
            "colorscale": [
             [
              0,
              "#0d0887"
             ],
             [
              0.1111111111111111,
              "#46039f"
             ],
             [
              0.2222222222222222,
              "#7201a8"
             ],
             [
              0.3333333333333333,
              "#9c179e"
             ],
             [
              0.4444444444444444,
              "#bd3786"
             ],
             [
              0.5555555555555556,
              "#d8576b"
             ],
             [
              0.6666666666666666,
              "#ed7953"
             ],
             [
              0.7777777777777778,
              "#fb9f3a"
             ],
             [
              0.8888888888888888,
              "#fdca26"
             ],
             [
              1,
              "#f0f921"
             ]
            ],
            "type": "histogram2dcontour"
           }
          ],
          "mesh3d": [
           {
            "colorbar": {
             "outlinewidth": 0,
             "ticks": ""
            },
            "type": "mesh3d"
           }
          ],
          "parcoords": [
           {
            "line": {
             "colorbar": {
              "outlinewidth": 0,
              "ticks": ""
             }
            },
            "type": "parcoords"
           }
          ],
          "pie": [
           {
            "automargin": true,
            "type": "pie"
           }
          ],
          "scatter": [
           {
            "fillpattern": {
             "fillmode": "overlay",
             "size": 10,
             "solidity": 0.2
            },
            "type": "scatter"
           }
          ],
          "scatter3d": [
           {
            "line": {
             "colorbar": {
              "outlinewidth": 0,
              "ticks": ""
             }
            },
            "marker": {
             "colorbar": {
              "outlinewidth": 0,
              "ticks": ""
             }
            },
            "type": "scatter3d"
           }
          ],
          "scattercarpet": [
           {
            "marker": {
             "colorbar": {
              "outlinewidth": 0,
              "ticks": ""
             }
            },
            "type": "scattercarpet"
           }
          ],
          "scattergeo": [
           {
            "marker": {
             "colorbar": {
              "outlinewidth": 0,
              "ticks": ""
             }
            },
            "type": "scattergeo"
           }
          ],
          "scattergl": [
           {
            "marker": {
             "colorbar": {
              "outlinewidth": 0,
              "ticks": ""
             }
            },
            "type": "scattergl"
           }
          ],
          "scattermapbox": [
           {
            "marker": {
             "colorbar": {
              "outlinewidth": 0,
              "ticks": ""
             }
            },
            "type": "scattermapbox"
           }
          ],
          "scatterpolar": [
           {
            "marker": {
             "colorbar": {
              "outlinewidth": 0,
              "ticks": ""
             }
            },
            "type": "scatterpolar"
           }
          ],
          "scatterpolargl": [
           {
            "marker": {
             "colorbar": {
              "outlinewidth": 0,
              "ticks": ""
             }
            },
            "type": "scatterpolargl"
           }
          ],
          "scatterternary": [
           {
            "marker": {
             "colorbar": {
              "outlinewidth": 0,
              "ticks": ""
             }
            },
            "type": "scatterternary"
           }
          ],
          "surface": [
           {
            "colorbar": {
             "outlinewidth": 0,
             "ticks": ""
            },
            "colorscale": [
             [
              0,
              "#0d0887"
             ],
             [
              0.1111111111111111,
              "#46039f"
             ],
             [
              0.2222222222222222,
              "#7201a8"
             ],
             [
              0.3333333333333333,
              "#9c179e"
             ],
             [
              0.4444444444444444,
              "#bd3786"
             ],
             [
              0.5555555555555556,
              "#d8576b"
             ],
             [
              0.6666666666666666,
              "#ed7953"
             ],
             [
              0.7777777777777778,
              "#fb9f3a"
             ],
             [
              0.8888888888888888,
              "#fdca26"
             ],
             [
              1,
              "#f0f921"
             ]
            ],
            "type": "surface"
           }
          ],
          "table": [
           {
            "cells": {
             "fill": {
              "color": "#EBF0F8"
             },
             "line": {
              "color": "white"
             }
            },
            "header": {
             "fill": {
              "color": "#C8D4E3"
             },
             "line": {
              "color": "white"
             }
            },
            "type": "table"
           }
          ]
         },
         "layout": {
          "annotationdefaults": {
           "arrowcolor": "#2a3f5f",
           "arrowhead": 0,
           "arrowwidth": 1
          },
          "autotypenumbers": "strict",
          "coloraxis": {
           "colorbar": {
            "outlinewidth": 0,
            "ticks": ""
           }
          },
          "colorscale": {
           "diverging": [
            [
             0,
             "#8e0152"
            ],
            [
             0.1,
             "#c51b7d"
            ],
            [
             0.2,
             "#de77ae"
            ],
            [
             0.3,
             "#f1b6da"
            ],
            [
             0.4,
             "#fde0ef"
            ],
            [
             0.5,
             "#f7f7f7"
            ],
            [
             0.6,
             "#e6f5d0"
            ],
            [
             0.7,
             "#b8e186"
            ],
            [
             0.8,
             "#7fbc41"
            ],
            [
             0.9,
             "#4d9221"
            ],
            [
             1,
             "#276419"
            ]
           ],
           "sequential": [
            [
             0,
             "#0d0887"
            ],
            [
             0.1111111111111111,
             "#46039f"
            ],
            [
             0.2222222222222222,
             "#7201a8"
            ],
            [
             0.3333333333333333,
             "#9c179e"
            ],
            [
             0.4444444444444444,
             "#bd3786"
            ],
            [
             0.5555555555555556,
             "#d8576b"
            ],
            [
             0.6666666666666666,
             "#ed7953"
            ],
            [
             0.7777777777777778,
             "#fb9f3a"
            ],
            [
             0.8888888888888888,
             "#fdca26"
            ],
            [
             1,
             "#f0f921"
            ]
           ],
           "sequentialminus": [
            [
             0,
             "#0d0887"
            ],
            [
             0.1111111111111111,
             "#46039f"
            ],
            [
             0.2222222222222222,
             "#7201a8"
            ],
            [
             0.3333333333333333,
             "#9c179e"
            ],
            [
             0.4444444444444444,
             "#bd3786"
            ],
            [
             0.5555555555555556,
             "#d8576b"
            ],
            [
             0.6666666666666666,
             "#ed7953"
            ],
            [
             0.7777777777777778,
             "#fb9f3a"
            ],
            [
             0.8888888888888888,
             "#fdca26"
            ],
            [
             1,
             "#f0f921"
            ]
           ]
          },
          "colorway": [
           "#636efa",
           "#EF553B",
           "#00cc96",
           "#ab63fa",
           "#FFA15A",
           "#19d3f3",
           "#FF6692",
           "#B6E880",
           "#FF97FF",
           "#FECB52"
          ],
          "font": {
           "color": "#2a3f5f"
          },
          "geo": {
           "bgcolor": "white",
           "lakecolor": "white",
           "landcolor": "#E5ECF6",
           "showlakes": true,
           "showland": true,
           "subunitcolor": "white"
          },
          "hoverlabel": {
           "align": "left"
          },
          "hovermode": "closest",
          "mapbox": {
           "style": "light"
          },
          "paper_bgcolor": "white",
          "plot_bgcolor": "#E5ECF6",
          "polar": {
           "angularaxis": {
            "gridcolor": "white",
            "linecolor": "white",
            "ticks": ""
           },
           "bgcolor": "#E5ECF6",
           "radialaxis": {
            "gridcolor": "white",
            "linecolor": "white",
            "ticks": ""
           }
          },
          "scene": {
           "xaxis": {
            "backgroundcolor": "#E5ECF6",
            "gridcolor": "white",
            "gridwidth": 2,
            "linecolor": "white",
            "showbackground": true,
            "ticks": "",
            "zerolinecolor": "white"
           },
           "yaxis": {
            "backgroundcolor": "#E5ECF6",
            "gridcolor": "white",
            "gridwidth": 2,
            "linecolor": "white",
            "showbackground": true,
            "ticks": "",
            "zerolinecolor": "white"
           },
           "zaxis": {
            "backgroundcolor": "#E5ECF6",
            "gridcolor": "white",
            "gridwidth": 2,
            "linecolor": "white",
            "showbackground": true,
            "ticks": "",
            "zerolinecolor": "white"
           }
          },
          "shapedefaults": {
           "line": {
            "color": "#2a3f5f"
           }
          },
          "ternary": {
           "aaxis": {
            "gridcolor": "white",
            "linecolor": "white",
            "ticks": ""
           },
           "baxis": {
            "gridcolor": "white",
            "linecolor": "white",
            "ticks": ""
           },
           "bgcolor": "#E5ECF6",
           "caxis": {
            "gridcolor": "white",
            "linecolor": "white",
            "ticks": ""
           }
          },
          "title": {
           "x": 0.05
          },
          "xaxis": {
           "automargin": true,
           "gridcolor": "white",
           "linecolor": "white",
           "ticks": "",
           "title": {
            "standoff": 15
           },
           "zerolinecolor": "white",
           "zerolinewidth": 2
          },
          "yaxis": {
           "automargin": true,
           "gridcolor": "white",
           "linecolor": "white",
           "ticks": "",
           "title": {
            "standoff": 15
           },
           "zerolinecolor": "white",
           "zerolinewidth": 2
          }
         }
        },
        "title": {
         "text": "Popularity of the bought car brand:"
        }
       }
      }
     },
     "metadata": {},
     "output_type": "display_data"
    }
   ],
   "source": [
    "BRAND_count=df\n",
    "ax2= px.treemap(BRAND_count,path=[\"brand\"],title=\"Popularity of the bought car brand:\")\n",
    "ax2.show()"
   ]
  },
  {
   "cell_type": "code",
   "execution_count": 7407,
   "metadata": {},
   "outputs": [
    {
     "data": {
      "application/vnd.plotly.v1+json": {
       "config": {
        "plotlyServerURL": "https://plot.ly"
       },
       "data": [
        {
         "branchvalues": "total",
         "domain": {
          "x": [
           0,
           1
          ],
          "y": [
           0,
           1
          ]
         },
         "hovertemplate": "<b>%{label}</b><br>Average Model Year: %{value:.2f}",
         "ids": [
          "Alfa Romeo",
          "Audi",
          "BMW",
          "Bus",
          "Cadillac",
          "Chevrolet",
          "Citroen",
          "DAF",
          "Dacia",
          "Daewoo",
          "Daihatsu",
          "Dodge",
          "Fiat",
          "Ford",
          "GMC",
          "Honda",
          "Hyundai",
          "Isuzu",
          "Iveco",
          "Jaguar",
          "Jeep",
          "Kia",
          "Land Rover",
          "Mazda",
          "Mercedes",
          "Mitsubishi",
          "Motorcycle",
          "Nissan",
          "Opel",
          "Peugeot",
          "Renault",
          "Rover",
          "Seat",
          "Skoda",
          "SsangYong",
          "Subaru",
          "Suzuki",
          "Toyota",
          "Truck",
          "Volkswagen",
          "Volvo"
         ],
         "labels": [
          "Alfa Romeo",
          "Audi",
          "BMW",
          "Bus",
          "Cadillac",
          "Chevrolet",
          "Citroen",
          "DAF",
          "Dacia",
          "Daewoo",
          "Daihatsu",
          "Dodge",
          "Fiat",
          "Ford",
          "GMC",
          "Honda",
          "Hyundai",
          "Isuzu",
          "Iveco",
          "Jaguar",
          "Jeep",
          "Kia",
          "Land Rover",
          "Mazda",
          "Mercedes",
          "Mitsubishi",
          "Motorcycle",
          "Nissan",
          "Opel",
          "Peugeot",
          "Renault",
          "Rover",
          "Seat",
          "Skoda",
          "SsangYong",
          "Subaru",
          "Suzuki",
          "Toyota",
          "Truck",
          "Volkswagen",
          "Volvo"
         ],
         "name": "",
         "parents": [
          "",
          "",
          "",
          "",
          "",
          "",
          "",
          "",
          "",
          "",
          "",
          "",
          "",
          "",
          "",
          "",
          "",
          "",
          "",
          "",
          "",
          "",
          "",
          "",
          "",
          "",
          "",
          "",
          "",
          "",
          "",
          "",
          "",
          "",
          "",
          "",
          "",
          "",
          "",
          "",
          ""
         ],
         "type": "treemap",
         "values": [
          2017.5,
          2004.4328358208954,
          2004.287356321839,
          1997.142857142857,
          2011,
          2007.3417721518988,
          2012.8470588235293,
          2002.75,
          2016.0833333333333,
          1999.8026315789473,
          2000,
          2013.3333333333333,
          2001.8976377952756,
          2010.4554455445545,
          2002.4,
          2006.2,
          2011.595652173913,
          2002.5555555555557,
          2007.5454545454545,
          2015.6666666666667,
          2010.5652173913043,
          2013.4535519125684,
          2003.9,
          2004.7857142857142,
          2002.1610738255033,
          2005.3529411764705,
          2016.2820512820513,
          2010,
          2003.7736720554271,
          2008.3378839590443,
          2002.2857142857142,
          1999.6666666666667,
          2014.0340425531915,
          2012.4446107784431,
          2011.2307692307693,
          1993.7945205479452,
          2004,
          2003.4324324324325,
          2005,
          2008.769756097561,
          2001.3684210526317
         ]
        }
       ],
       "layout": {
        "legend": {
         "tracegroupgap": 0
        },
        "template": {
         "data": {
          "bar": [
           {
            "error_x": {
             "color": "#2a3f5f"
            },
            "error_y": {
             "color": "#2a3f5f"
            },
            "marker": {
             "line": {
              "color": "#E5ECF6",
              "width": 0.5
             },
             "pattern": {
              "fillmode": "overlay",
              "size": 10,
              "solidity": 0.2
             }
            },
            "type": "bar"
           }
          ],
          "barpolar": [
           {
            "marker": {
             "line": {
              "color": "#E5ECF6",
              "width": 0.5
             },
             "pattern": {
              "fillmode": "overlay",
              "size": 10,
              "solidity": 0.2
             }
            },
            "type": "barpolar"
           }
          ],
          "carpet": [
           {
            "aaxis": {
             "endlinecolor": "#2a3f5f",
             "gridcolor": "white",
             "linecolor": "white",
             "minorgridcolor": "white",
             "startlinecolor": "#2a3f5f"
            },
            "baxis": {
             "endlinecolor": "#2a3f5f",
             "gridcolor": "white",
             "linecolor": "white",
             "minorgridcolor": "white",
             "startlinecolor": "#2a3f5f"
            },
            "type": "carpet"
           }
          ],
          "choropleth": [
           {
            "colorbar": {
             "outlinewidth": 0,
             "ticks": ""
            },
            "type": "choropleth"
           }
          ],
          "contour": [
           {
            "colorbar": {
             "outlinewidth": 0,
             "ticks": ""
            },
            "colorscale": [
             [
              0,
              "#0d0887"
             ],
             [
              0.1111111111111111,
              "#46039f"
             ],
             [
              0.2222222222222222,
              "#7201a8"
             ],
             [
              0.3333333333333333,
              "#9c179e"
             ],
             [
              0.4444444444444444,
              "#bd3786"
             ],
             [
              0.5555555555555556,
              "#d8576b"
             ],
             [
              0.6666666666666666,
              "#ed7953"
             ],
             [
              0.7777777777777778,
              "#fb9f3a"
             ],
             [
              0.8888888888888888,
              "#fdca26"
             ],
             [
              1,
              "#f0f921"
             ]
            ],
            "type": "contour"
           }
          ],
          "contourcarpet": [
           {
            "colorbar": {
             "outlinewidth": 0,
             "ticks": ""
            },
            "type": "contourcarpet"
           }
          ],
          "heatmap": [
           {
            "colorbar": {
             "outlinewidth": 0,
             "ticks": ""
            },
            "colorscale": [
             [
              0,
              "#0d0887"
             ],
             [
              0.1111111111111111,
              "#46039f"
             ],
             [
              0.2222222222222222,
              "#7201a8"
             ],
             [
              0.3333333333333333,
              "#9c179e"
             ],
             [
              0.4444444444444444,
              "#bd3786"
             ],
             [
              0.5555555555555556,
              "#d8576b"
             ],
             [
              0.6666666666666666,
              "#ed7953"
             ],
             [
              0.7777777777777778,
              "#fb9f3a"
             ],
             [
              0.8888888888888888,
              "#fdca26"
             ],
             [
              1,
              "#f0f921"
             ]
            ],
            "type": "heatmap"
           }
          ],
          "heatmapgl": [
           {
            "colorbar": {
             "outlinewidth": 0,
             "ticks": ""
            },
            "colorscale": [
             [
              0,
              "#0d0887"
             ],
             [
              0.1111111111111111,
              "#46039f"
             ],
             [
              0.2222222222222222,
              "#7201a8"
             ],
             [
              0.3333333333333333,
              "#9c179e"
             ],
             [
              0.4444444444444444,
              "#bd3786"
             ],
             [
              0.5555555555555556,
              "#d8576b"
             ],
             [
              0.6666666666666666,
              "#ed7953"
             ],
             [
              0.7777777777777778,
              "#fb9f3a"
             ],
             [
              0.8888888888888888,
              "#fdca26"
             ],
             [
              1,
              "#f0f921"
             ]
            ],
            "type": "heatmapgl"
           }
          ],
          "histogram": [
           {
            "marker": {
             "pattern": {
              "fillmode": "overlay",
              "size": 10,
              "solidity": 0.2
             }
            },
            "type": "histogram"
           }
          ],
          "histogram2d": [
           {
            "colorbar": {
             "outlinewidth": 0,
             "ticks": ""
            },
            "colorscale": [
             [
              0,
              "#0d0887"
             ],
             [
              0.1111111111111111,
              "#46039f"
             ],
             [
              0.2222222222222222,
              "#7201a8"
             ],
             [
              0.3333333333333333,
              "#9c179e"
             ],
             [
              0.4444444444444444,
              "#bd3786"
             ],
             [
              0.5555555555555556,
              "#d8576b"
             ],
             [
              0.6666666666666666,
              "#ed7953"
             ],
             [
              0.7777777777777778,
              "#fb9f3a"
             ],
             [
              0.8888888888888888,
              "#fdca26"
             ],
             [
              1,
              "#f0f921"
             ]
            ],
            "type": "histogram2d"
           }
          ],
          "histogram2dcontour": [
           {
            "colorbar": {
             "outlinewidth": 0,
             "ticks": ""
            },
            "colorscale": [
             [
              0,
              "#0d0887"
             ],
             [
              0.1111111111111111,
              "#46039f"
             ],
             [
              0.2222222222222222,
              "#7201a8"
             ],
             [
              0.3333333333333333,
              "#9c179e"
             ],
             [
              0.4444444444444444,
              "#bd3786"
             ],
             [
              0.5555555555555556,
              "#d8576b"
             ],
             [
              0.6666666666666666,
              "#ed7953"
             ],
             [
              0.7777777777777778,
              "#fb9f3a"
             ],
             [
              0.8888888888888888,
              "#fdca26"
             ],
             [
              1,
              "#f0f921"
             ]
            ],
            "type": "histogram2dcontour"
           }
          ],
          "mesh3d": [
           {
            "colorbar": {
             "outlinewidth": 0,
             "ticks": ""
            },
            "type": "mesh3d"
           }
          ],
          "parcoords": [
           {
            "line": {
             "colorbar": {
              "outlinewidth": 0,
              "ticks": ""
             }
            },
            "type": "parcoords"
           }
          ],
          "pie": [
           {
            "automargin": true,
            "type": "pie"
           }
          ],
          "scatter": [
           {
            "fillpattern": {
             "fillmode": "overlay",
             "size": 10,
             "solidity": 0.2
            },
            "type": "scatter"
           }
          ],
          "scatter3d": [
           {
            "line": {
             "colorbar": {
              "outlinewidth": 0,
              "ticks": ""
             }
            },
            "marker": {
             "colorbar": {
              "outlinewidth": 0,
              "ticks": ""
             }
            },
            "type": "scatter3d"
           }
          ],
          "scattercarpet": [
           {
            "marker": {
             "colorbar": {
              "outlinewidth": 0,
              "ticks": ""
             }
            },
            "type": "scattercarpet"
           }
          ],
          "scattergeo": [
           {
            "marker": {
             "colorbar": {
              "outlinewidth": 0,
              "ticks": ""
             }
            },
            "type": "scattergeo"
           }
          ],
          "scattergl": [
           {
            "marker": {
             "colorbar": {
              "outlinewidth": 0,
              "ticks": ""
             }
            },
            "type": "scattergl"
           }
          ],
          "scattermapbox": [
           {
            "marker": {
             "colorbar": {
              "outlinewidth": 0,
              "ticks": ""
             }
            },
            "type": "scattermapbox"
           }
          ],
          "scatterpolar": [
           {
            "marker": {
             "colorbar": {
              "outlinewidth": 0,
              "ticks": ""
             }
            },
            "type": "scatterpolar"
           }
          ],
          "scatterpolargl": [
           {
            "marker": {
             "colorbar": {
              "outlinewidth": 0,
              "ticks": ""
             }
            },
            "type": "scatterpolargl"
           }
          ],
          "scatterternary": [
           {
            "marker": {
             "colorbar": {
              "outlinewidth": 0,
              "ticks": ""
             }
            },
            "type": "scatterternary"
           }
          ],
          "surface": [
           {
            "colorbar": {
             "outlinewidth": 0,
             "ticks": ""
            },
            "colorscale": [
             [
              0,
              "#0d0887"
             ],
             [
              0.1111111111111111,
              "#46039f"
             ],
             [
              0.2222222222222222,
              "#7201a8"
             ],
             [
              0.3333333333333333,
              "#9c179e"
             ],
             [
              0.4444444444444444,
              "#bd3786"
             ],
             [
              0.5555555555555556,
              "#d8576b"
             ],
             [
              0.6666666666666666,
              "#ed7953"
             ],
             [
              0.7777777777777778,
              "#fb9f3a"
             ],
             [
              0.8888888888888888,
              "#fdca26"
             ],
             [
              1,
              "#f0f921"
             ]
            ],
            "type": "surface"
           }
          ],
          "table": [
           {
            "cells": {
             "fill": {
              "color": "#EBF0F8"
             },
             "line": {
              "color": "white"
             }
            },
            "header": {
             "fill": {
              "color": "#C8D4E3"
             },
             "line": {
              "color": "white"
             }
            },
            "type": "table"
           }
          ]
         },
         "layout": {
          "annotationdefaults": {
           "arrowcolor": "#2a3f5f",
           "arrowhead": 0,
           "arrowwidth": 1
          },
          "autotypenumbers": "strict",
          "coloraxis": {
           "colorbar": {
            "outlinewidth": 0,
            "ticks": ""
           }
          },
          "colorscale": {
           "diverging": [
            [
             0,
             "#8e0152"
            ],
            [
             0.1,
             "#c51b7d"
            ],
            [
             0.2,
             "#de77ae"
            ],
            [
             0.3,
             "#f1b6da"
            ],
            [
             0.4,
             "#fde0ef"
            ],
            [
             0.5,
             "#f7f7f7"
            ],
            [
             0.6,
             "#e6f5d0"
            ],
            [
             0.7,
             "#b8e186"
            ],
            [
             0.8,
             "#7fbc41"
            ],
            [
             0.9,
             "#4d9221"
            ],
            [
             1,
             "#276419"
            ]
           ],
           "sequential": [
            [
             0,
             "#0d0887"
            ],
            [
             0.1111111111111111,
             "#46039f"
            ],
            [
             0.2222222222222222,
             "#7201a8"
            ],
            [
             0.3333333333333333,
             "#9c179e"
            ],
            [
             0.4444444444444444,
             "#bd3786"
            ],
            [
             0.5555555555555556,
             "#d8576b"
            ],
            [
             0.6666666666666666,
             "#ed7953"
            ],
            [
             0.7777777777777778,
             "#fb9f3a"
            ],
            [
             0.8888888888888888,
             "#fdca26"
            ],
            [
             1,
             "#f0f921"
            ]
           ],
           "sequentialminus": [
            [
             0,
             "#0d0887"
            ],
            [
             0.1111111111111111,
             "#46039f"
            ],
            [
             0.2222222222222222,
             "#7201a8"
            ],
            [
             0.3333333333333333,
             "#9c179e"
            ],
            [
             0.4444444444444444,
             "#bd3786"
            ],
            [
             0.5555555555555556,
             "#d8576b"
            ],
            [
             0.6666666666666666,
             "#ed7953"
            ],
            [
             0.7777777777777778,
             "#fb9f3a"
            ],
            [
             0.8888888888888888,
             "#fdca26"
            ],
            [
             1,
             "#f0f921"
            ]
           ]
          },
          "colorway": [
           "#636efa",
           "#EF553B",
           "#00cc96",
           "#ab63fa",
           "#FFA15A",
           "#19d3f3",
           "#FF6692",
           "#B6E880",
           "#FF97FF",
           "#FECB52"
          ],
          "font": {
           "color": "#2a3f5f"
          },
          "geo": {
           "bgcolor": "white",
           "lakecolor": "white",
           "landcolor": "#E5ECF6",
           "showlakes": true,
           "showland": true,
           "subunitcolor": "white"
          },
          "hoverlabel": {
           "align": "left"
          },
          "hovermode": "closest",
          "mapbox": {
           "style": "light"
          },
          "paper_bgcolor": "white",
          "plot_bgcolor": "#E5ECF6",
          "polar": {
           "angularaxis": {
            "gridcolor": "white",
            "linecolor": "white",
            "ticks": ""
           },
           "bgcolor": "#E5ECF6",
           "radialaxis": {
            "gridcolor": "white",
            "linecolor": "white",
            "ticks": ""
           }
          },
          "scene": {
           "xaxis": {
            "backgroundcolor": "#E5ECF6",
            "gridcolor": "white",
            "gridwidth": 2,
            "linecolor": "white",
            "showbackground": true,
            "ticks": "",
            "zerolinecolor": "white"
           },
           "yaxis": {
            "backgroundcolor": "#E5ECF6",
            "gridcolor": "white",
            "gridwidth": 2,
            "linecolor": "white",
            "showbackground": true,
            "ticks": "",
            "zerolinecolor": "white"
           },
           "zaxis": {
            "backgroundcolor": "#E5ECF6",
            "gridcolor": "white",
            "gridwidth": 2,
            "linecolor": "white",
            "showbackground": true,
            "ticks": "",
            "zerolinecolor": "white"
           }
          },
          "shapedefaults": {
           "line": {
            "color": "#2a3f5f"
           }
          },
          "ternary": {
           "aaxis": {
            "gridcolor": "white",
            "linecolor": "white",
            "ticks": ""
           },
           "baxis": {
            "gridcolor": "white",
            "linecolor": "white",
            "ticks": ""
           },
           "bgcolor": "#E5ECF6",
           "caxis": {
            "gridcolor": "white",
            "linecolor": "white",
            "ticks": ""
           }
          },
          "title": {
           "x": 0.05
          },
          "xaxis": {
           "automargin": true,
           "gridcolor": "white",
           "linecolor": "white",
           "ticks": "",
           "title": {
            "standoff": 15
           },
           "zerolinecolor": "white",
           "zerolinewidth": 2
          },
          "yaxis": {
           "automargin": true,
           "gridcolor": "white",
           "linecolor": "white",
           "ticks": "",
           "title": {
            "standoff": 15
           },
           "zerolinecolor": "white",
           "zerolinewidth": 2
          }
         }
        },
        "title": {
         "text": "Average Model Year by Car Brand:"
        }
       }
      }
     },
     "metadata": {},
     "output_type": "display_data"
    }
   ],
   "source": [
    "BRAND_avg = df.groupby('brand')['model_car'].mean().reset_index()\n",
    "fig = px.treemap(BRAND_avg, path=[\"brand\"], title=\"Average Model Year by Car Brand:\", values='model_car')\n",
    "fig.update_traces(hovertemplate='<b>%{label}</b><br>Average Model Year: %{value:.2f}')\n",
    "fig.show()\n"
   ]
  },
  {
   "cell_type": "code",
   "execution_count": 7408,
   "metadata": {},
   "outputs": [
    {
     "name": "stdout",
     "output_type": "stream",
     "text": [
      "Jaguar 147333.33333333334\n"
     ]
    }
   ],
   "source": [
    "mean_prices = df.groupby('brand')['price_car'].mean()\n",
    "max_mean_price_car_type = mean_prices.idxmax()\n",
    "max_mean_price_value = mean_prices.max()\n",
    "print(max_mean_price_car_type , max_mean_price_value)\n",
    "\n"
   ]
  },
  {
   "cell_type": "code",
   "execution_count": 7409,
   "metadata": {},
   "outputs": [
    {
     "data": {
      "text/html": [
       "<div>\n",
       "<style scoped>\n",
       "    .dataframe tbody tr th:only-of-type {\n",
       "        vertical-align: middle;\n",
       "    }\n",
       "\n",
       "    .dataframe tbody tr th {\n",
       "        vertical-align: top;\n",
       "    }\n",
       "\n",
       "    .dataframe thead th {\n",
       "        text-align: right;\n",
       "    }\n",
       "</style>\n",
       "<table border=\"1\" class=\"dataframe\">\n",
       "  <thead>\n",
       "    <tr style=\"text-align: right;\">\n",
       "      <th></th>\n",
       "      <th>air_conditioner</th>\n",
       "      <th>central_closing</th>\n",
       "      <th>alarm_devise</th>\n",
       "      <th>CD_recorder</th>\n",
       "      <th>leather_upholstery</th>\n",
       "      <th>air_cushion</th>\n",
       "      <th>magnesium_rims</th>\n",
       "      <th>sunroof</th>\n",
       "      <th>name_car</th>\n",
       "      <th>model_car</th>\n",
       "      <th>...</th>\n",
       "      <th>ex_owners</th>\n",
       "      <th>car_license</th>\n",
       "      <th>lime_type</th>\n",
       "      <th>glass</th>\n",
       "      <th>motor_power</th>\n",
       "      <th>passengers</th>\n",
       "      <th>payment_method</th>\n",
       "      <th>displayed</th>\n",
       "      <th>brand</th>\n",
       "      <th>type</th>\n",
       "    </tr>\n",
       "  </thead>\n",
       "  <tbody>\n",
       "    <tr>\n",
       "      <th>0</th>\n",
       "      <td>1</td>\n",
       "      <td>1.0</td>\n",
       "      <td>1</td>\n",
       "      <td>1</td>\n",
       "      <td>1</td>\n",
       "      <td>1</td>\n",
       "      <td>0</td>\n",
       "      <td>0</td>\n",
       "      <td>كيا برايد</td>\n",
       "      <td>2008.0</td>\n",
       "      <td>...</td>\n",
       "      <td>يد اولى</td>\n",
       "      <td>1</td>\n",
       "      <td>3</td>\n",
       "      <td>2</td>\n",
       "      <td>1600.0</td>\n",
       "      <td>NaN</td>\n",
       "      <td>2</td>\n",
       "      <td>1</td>\n",
       "      <td>Kia</td>\n",
       "      <td>برايد</td>\n",
       "    </tr>\n",
       "    <tr>\n",
       "      <th>1</th>\n",
       "      <td>1</td>\n",
       "      <td>1.0</td>\n",
       "      <td>1</td>\n",
       "      <td>0</td>\n",
       "      <td>1</td>\n",
       "      <td>1</td>\n",
       "      <td>1</td>\n",
       "      <td>0</td>\n",
       "      <td>هونداي اكسنت</td>\n",
       "      <td>2013.0</td>\n",
       "      <td>...</td>\n",
       "      <td>يد اولى</td>\n",
       "      <td>1</td>\n",
       "      <td>3</td>\n",
       "      <td>2</td>\n",
       "      <td>1400.0</td>\n",
       "      <td>5.0</td>\n",
       "      <td>1</td>\n",
       "      <td>3</td>\n",
       "      <td>Hyundai</td>\n",
       "      <td>اكسنت</td>\n",
       "    </tr>\n",
       "    <tr>\n",
       "      <th>2</th>\n",
       "      <td>1</td>\n",
       "      <td>1.0</td>\n",
       "      <td>1</td>\n",
       "      <td>1</td>\n",
       "      <td>1</td>\n",
       "      <td>1</td>\n",
       "      <td>1</td>\n",
       "      <td>1</td>\n",
       "      <td>بيجو 508</td>\n",
       "      <td>2013.0</td>\n",
       "      <td>...</td>\n",
       "      <td>يد ثانيه</td>\n",
       "      <td>1</td>\n",
       "      <td>2</td>\n",
       "      <td>2</td>\n",
       "      <td>2000.0</td>\n",
       "      <td>5.0</td>\n",
       "      <td>2</td>\n",
       "      <td>1</td>\n",
       "      <td>Peugeot</td>\n",
       "      <td>508</td>\n",
       "    </tr>\n",
       "    <tr>\n",
       "      <th>3</th>\n",
       "      <td>1</td>\n",
       "      <td>1.0</td>\n",
       "      <td>1</td>\n",
       "      <td>1</td>\n",
       "      <td>1</td>\n",
       "      <td>1</td>\n",
       "      <td>1</td>\n",
       "      <td>0</td>\n",
       "      <td>سكودا اوكتافيا</td>\n",
       "      <td>2010.0</td>\n",
       "      <td>...</td>\n",
       "      <td>3</td>\n",
       "      <td>1</td>\n",
       "      <td>1</td>\n",
       "      <td>2</td>\n",
       "      <td>1900.0</td>\n",
       "      <td>5.0</td>\n",
       "      <td>2</td>\n",
       "      <td>3</td>\n",
       "      <td>Skoda</td>\n",
       "      <td>اوكتيا</td>\n",
       "    </tr>\n",
       "    <tr>\n",
       "      <th>4</th>\n",
       "      <td>1</td>\n",
       "      <td>1.0</td>\n",
       "      <td>1</td>\n",
       "      <td>1</td>\n",
       "      <td>1</td>\n",
       "      <td>1</td>\n",
       "      <td>1</td>\n",
       "      <td>0</td>\n",
       "      <td>سوبارو امبريزا</td>\n",
       "      <td>1999.0</td>\n",
       "      <td>...</td>\n",
       "      <td>NaN</td>\n",
       "      <td>1</td>\n",
       "      <td>1</td>\n",
       "      <td>2</td>\n",
       "      <td>1600.0</td>\n",
       "      <td>5.0</td>\n",
       "      <td>1</td>\n",
       "      <td>1</td>\n",
       "      <td>Subaru</td>\n",
       "      <td>بريزا</td>\n",
       "    </tr>\n",
       "    <tr>\n",
       "      <th>...</th>\n",
       "      <td>...</td>\n",
       "      <td>...</td>\n",
       "      <td>...</td>\n",
       "      <td>...</td>\n",
       "      <td>...</td>\n",
       "      <td>...</td>\n",
       "      <td>...</td>\n",
       "      <td>...</td>\n",
       "      <td>...</td>\n",
       "      <td>...</td>\n",
       "      <td>...</td>\n",
       "      <td>...</td>\n",
       "      <td>...</td>\n",
       "      <td>...</td>\n",
       "      <td>...</td>\n",
       "      <td>...</td>\n",
       "      <td>...</td>\n",
       "      <td>...</td>\n",
       "      <td>...</td>\n",
       "      <td>...</td>\n",
       "      <td>...</td>\n",
       "    </tr>\n",
       "    <tr>\n",
       "      <th>6856</th>\n",
       "      <td>1</td>\n",
       "      <td>1.0</td>\n",
       "      <td>0</td>\n",
       "      <td>1</td>\n",
       "      <td>1</td>\n",
       "      <td>1</td>\n",
       "      <td>0</td>\n",
       "      <td>0</td>\n",
       "      <td>اوبل استرا</td>\n",
       "      <td>2006.0</td>\n",
       "      <td>...</td>\n",
       "      <td>1</td>\n",
       "      <td>1</td>\n",
       "      <td>3</td>\n",
       "      <td>2</td>\n",
       "      <td>1000.0</td>\n",
       "      <td>5.0</td>\n",
       "      <td>1</td>\n",
       "      <td>1</td>\n",
       "      <td>Opel</td>\n",
       "      <td>استرا</td>\n",
       "    </tr>\n",
       "    <tr>\n",
       "      <th>6857</th>\n",
       "      <td>1</td>\n",
       "      <td>1.0</td>\n",
       "      <td>0</td>\n",
       "      <td>1</td>\n",
       "      <td>1</td>\n",
       "      <td>1</td>\n",
       "      <td>0</td>\n",
       "      <td>0</td>\n",
       "      <td>بي ام دبليو X5</td>\n",
       "      <td>2015.0</td>\n",
       "      <td>...</td>\n",
       "      <td>يد أولى</td>\n",
       "      <td>1</td>\n",
       "      <td>1</td>\n",
       "      <td>2</td>\n",
       "      <td>1600.0</td>\n",
       "      <td>6.0</td>\n",
       "      <td>1</td>\n",
       "      <td>3</td>\n",
       "      <td>BMW</td>\n",
       "      <td>X5</td>\n",
       "    </tr>\n",
       "    <tr>\n",
       "      <th>6858</th>\n",
       "      <td>1</td>\n",
       "      <td>1.0</td>\n",
       "      <td>1</td>\n",
       "      <td>1</td>\n",
       "      <td>1</td>\n",
       "      <td>1</td>\n",
       "      <td>1</td>\n",
       "      <td>0</td>\n",
       "      <td>كيا سول</td>\n",
       "      <td>2012.0</td>\n",
       "      <td>...</td>\n",
       "      <td>٢</td>\n",
       "      <td>1</td>\n",
       "      <td>1</td>\n",
       "      <td>2</td>\n",
       "      <td>1200.0</td>\n",
       "      <td>5.0</td>\n",
       "      <td>2</td>\n",
       "      <td>1</td>\n",
       "      <td>Kia</td>\n",
       "      <td>سول</td>\n",
       "    </tr>\n",
       "    <tr>\n",
       "      <th>6860</th>\n",
       "      <td>1</td>\n",
       "      <td>1.0</td>\n",
       "      <td>1</td>\n",
       "      <td>0</td>\n",
       "      <td>1</td>\n",
       "      <td>1</td>\n",
       "      <td>1</td>\n",
       "      <td>1</td>\n",
       "      <td>مرسيدس E270</td>\n",
       "      <td>2001.0</td>\n",
       "      <td>...</td>\n",
       "      <td>NaN</td>\n",
       "      <td>1</td>\n",
       "      <td>3</td>\n",
       "      <td>2</td>\n",
       "      <td>2000.0</td>\n",
       "      <td>7.0</td>\n",
       "      <td>1</td>\n",
       "      <td>1</td>\n",
       "      <td>Mercedes</td>\n",
       "      <td>E270</td>\n",
       "    </tr>\n",
       "    <tr>\n",
       "      <th>6863</th>\n",
       "      <td>1</td>\n",
       "      <td>1.0</td>\n",
       "      <td>1</td>\n",
       "      <td>0</td>\n",
       "      <td>1</td>\n",
       "      <td>1</td>\n",
       "      <td>1</td>\n",
       "      <td>0</td>\n",
       "      <td>فولكسفاجن بولو</td>\n",
       "      <td>2014.0</td>\n",
       "      <td>...</td>\n",
       "      <td>1</td>\n",
       "      <td>1</td>\n",
       "      <td>1</td>\n",
       "      <td>2</td>\n",
       "      <td>1400.0</td>\n",
       "      <td>NaN</td>\n",
       "      <td>2</td>\n",
       "      <td>1</td>\n",
       "      <td>Volkswagen</td>\n",
       "      <td>بولو</td>\n",
       "    </tr>\n",
       "  </tbody>\n",
       "</table>\n",
       "<p>5973 rows × 23 columns</p>\n",
       "</div>"
      ],
      "text/plain": [
       "      air_conditioner  central_closing  alarm_devise  CD_recorder  \\\n",
       "0                   1              1.0             1            1   \n",
       "1                   1              1.0             1            0   \n",
       "2                   1              1.0             1            1   \n",
       "3                   1              1.0             1            1   \n",
       "4                   1              1.0             1            1   \n",
       "...               ...              ...           ...          ...   \n",
       "6856                1              1.0             0            1   \n",
       "6857                1              1.0             0            1   \n",
       "6858                1              1.0             1            1   \n",
       "6860                1              1.0             1            0   \n",
       "6863                1              1.0             1            0   \n",
       "\n",
       "      leather_upholstery  air_cushion  magnesium_rims  sunroof  \\\n",
       "0                      1            1               0        0   \n",
       "1                      1            1               1        0   \n",
       "2                      1            1               1        1   \n",
       "3                      1            1               1        0   \n",
       "4                      1            1               1        0   \n",
       "...                  ...          ...             ...      ...   \n",
       "6856                   1            1               0        0   \n",
       "6857                   1            1               0        0   \n",
       "6858                   1            1               1        0   \n",
       "6860                   1            1               1        1   \n",
       "6863                   1            1               1        0   \n",
       "\n",
       "            name_car  model_car  ...  ex_owners car_license  lime_type glass  \\\n",
       "0          كيا برايد     2008.0  ...    يد اولى           1          3     2   \n",
       "1       هونداي اكسنت     2013.0  ...    يد اولى           1          3     2   \n",
       "2           بيجو 508     2013.0  ...   يد ثانيه           1          2     2   \n",
       "3     سكودا اوكتافيا     2010.0  ...          3           1          1     2   \n",
       "4     سوبارو امبريزا     1999.0  ...        NaN           1          1     2   \n",
       "...              ...        ...  ...        ...         ...        ...   ...   \n",
       "6856      اوبل استرا     2006.0  ...          1           1          3     2   \n",
       "6857  بي ام دبليو X5     2015.0  ...    يد أولى           1          1     2   \n",
       "6858         كيا سول     2012.0  ...          ٢           1          1     2   \n",
       "6860     مرسيدس E270     2001.0  ...        NaN           1          3     2   \n",
       "6863  فولكسفاجن بولو     2014.0  ...          1           1          1     2   \n",
       "\n",
       "      motor_power  passengers  payment_method  displayed       brand    type  \n",
       "0          1600.0         NaN               2          1         Kia   برايد  \n",
       "1          1400.0         5.0               1          3     Hyundai   اكسنت  \n",
       "2          2000.0         5.0               2          1     Peugeot     508  \n",
       "3          1900.0         5.0               2          3       Skoda  اوكتيا  \n",
       "4          1600.0         5.0               1          1      Subaru   بريزا  \n",
       "...           ...         ...             ...        ...         ...     ...  \n",
       "6856       1000.0         5.0               1          1        Opel   استرا  \n",
       "6857       1600.0         6.0               1          3         BMW      X5  \n",
       "6858       1200.0         5.0               2          1         Kia     سول  \n",
       "6860       2000.0         7.0               1          1    Mercedes    E270  \n",
       "6863       1400.0         NaN               2          1  Volkswagen    بولو  \n",
       "\n",
       "[5973 rows x 23 columns]"
      ]
     },
     "execution_count": 7409,
     "metadata": {},
     "output_type": "execute_result"
    }
   ],
   "source": [
    "df"
   ]
  },
  {
   "cell_type": "markdown",
   "metadata": {},
   "source": [
    "<div style=\"padding: 10px; background-color: #F52887; margin: 0; color: #e7d954; font-family: newtimeroman; font-size: 150%; text-align: left; border-radius: 15px; overflow: hidden; font-weight: 1000; width: 60%; float: left;\">  there is no missing values\n",
    "</div>\n"
   ]
  },
  {
   "cell_type": "markdown",
   "metadata": {},
   "source": [
    "<div style=\"padding: 10px; background-color: #808080; margin: 0; color: #e7d954; font-family: newtimeroman; font-size: 150%; text-align: left; border-radius: 15px; overflow: hidden; font-weight: 1000; width: 60%; float: left;\"> The reason we changed the name of the car to the name of the company brand\n",
    "Because we will depend on the model\n",
    " of the car\n",
    "And other characteristics, for example, the power of the motor\n",
    "</div>\n",
    "<p style=\"text-align: center;\">\n",
    "    <img src=\"https://media.giphy.com/media/xBq8N1Opc2FEeQZVcY/giphy.gif\" style=\"width: 200px; height: 100px;\">\n",
    "</p>\n"
   ]
  },
  {
   "cell_type": "code",
   "execution_count": 7410,
   "metadata": {},
   "outputs": [],
   "source": [
    "df=df.drop('name_car' , axis=1)"
   ]
  },
  {
   "cell_type": "markdown",
   "metadata": {},
   "source": [
    "--------"
   ]
  },
  {
   "cell_type": "markdown",
   "metadata": {},
   "source": [
    "<div style=\"padding: 10px; background-color: #808080; margin: 0; color: #e7d954; font-family: newtimeroman; font-size: 150%; text-align: left; border-radius: 15px; overflow: hidden; font-weight: 1000; width: 60%; float: left;\">  origin_car \n",
    "</div>\n",
    "<p style=\"text-align: center;\">\n",
    "    <img src=\"https://media.giphy.com/media/xBq8N1Opc2FEeQZVcY/giphy.gif\" style=\"width: 200px; height: 100px;\">\n",
    "</p>\n",
    "\n"
   ]
  },
  {
   "cell_type": "code",
   "execution_count": 7411,
   "metadata": {},
   "outputs": [
    {
     "data": {
      "text/plain": [
       "0    4\n",
       "1    4\n",
       "2    4\n",
       "3    4\n",
       "4    4\n",
       "Name: origin_car, dtype: int64"
      ]
     },
     "execution_count": 7411,
     "metadata": {},
     "output_type": "execute_result"
    }
   ],
   "source": [
    "df['origin_car'].head(5)"
   ]
  },
  {
   "cell_type": "code",
   "execution_count": 7412,
   "metadata": {},
   "outputs": [
    {
     "data": {
      "text/plain": [
       "0"
      ]
     },
     "execution_count": 7412,
     "metadata": {},
     "output_type": "execute_result"
    }
   ],
   "source": [
    "df[\"origin_car\"].isna().sum()"
   ]
  },
  {
   "cell_type": "markdown",
   "metadata": {},
   "source": [
    "<div style=\"padding: 10px; background-color: #F52887; margin: 0; color: #e7d954; font-family: newtimeroman; font-size: 150%; text-align: left; border-radius: 15px; overflow: hidden; font-weight: 1000; width: 60%; float: left;\"> there is no missing values\n",
    "</div>\n"
   ]
  },
  {
   "cell_type": "markdown",
   "metadata": {},
   "source": [
    "\n",
    "\n",
    "\n",
    "----"
   ]
  },
  {
   "cell_type": "markdown",
   "metadata": {},
   "source": [
    "<div style=\"padding: 10px; background-color: #808080; margin: 0; color: #e7d954; font-family: newtimeroman; font-size: 150%; text-align: left; border-radius: 15px; overflow: hidden; font-weight: 1000; width: 60%; float: left;\">  \n",
    "ex_owners\n",
    "</div>\n",
    "<p style=\"text-align: center;\">\n",
    "    <img src=\"https://media.giphy.com/media/xBq8N1Opc2FEeQZVcY/giphy.gif\" style=\"width: 200px; height: 100px;\">\n",
    "</p>\n",
    "\n"
   ]
  },
  {
   "cell_type": "code",
   "execution_count": 7413,
   "metadata": {},
   "outputs": [
    {
     "data": {
      "text/plain": [
       "array(['يد اولى', 'يد ثانيه', '3', nan, 'ثالثه', '٣', '٤', '6',\n",
       "       'يد ثانية', '٢', 'اولى', '0', 'يد 5', '11', '2', 'ثانية',\n",
       "       'يد ثالثة', 'يد 2', 'يد تانيه', '1', 'يد أولى', 'يد٢', 'ايد اولى',\n",
       "       'يد 0', 'يد ثالثه', '---', 'ايد ثانيه', '000', '5', '،',\n",
       "       'يد أولئ أصحاب سابقون صفر', 'ايد ثانية', '١', 'يد اولي',\n",
       "       'يد رابعه', 'تانبه', '4', '03', 'يد تانية', '٥', 'أستيراد ألماني',\n",
       "       'يد اولى الماني', '00', '9', 'يد 8', '7',\n",
       "       'استيراد مباشر من اوروبا', 'يد عاشرة', 'يد خامساً', 'صفر', 'ثالثة',\n",
       "       'يد اوله', 'اربعة', 'يد صفر', '00000000', 'مستوردة غير منمرة',\n",
       "       '10', 'يد تالته', 'مستورد', '000000', 'مستوردة يد اولى',\n",
       "       'مستوردة غير مرخصة', '8', 'أولى', 'يد 3', 'استيراد مباشر', '.',\n",
       "       'تانيه', 'يد 4', 'يداولى', 'غير منمرمستوردة', 'E', '1000', 'صفرر',\n",
       "       'مش منمرة', 'يد خامسه', 'خصوصي', 'خامسة', 'ثانيه', 'يد ٢', 'رابعه',\n",
       "       'يدثانية', 'يد اةلي', '0000', '٠٠', 'مش منمره', 'يد أولئ',\n",
       "       'مش منمر', 'يد ثالث', 'استراد شخصي', 'يدثالثة', 'استيراد الماني',\n",
       "       'يد خامسة', 'يد اولا', 'يد رابعة', '٦', 'استيراد', 'يد اولة',\n",
       "       'يد واحد', 'غير منمر استيراد الماني', '11111', 'ثاني', 'مستوردة',\n",
       "       '**********', 'يد ٣', '٨', '-', 'رابعة', '٠٠٠٠٠',\n",
       "       'يد اولى صفر كيلو', 'يد اربعه', '٠', '12', 'خامسه', 'ايد رابعه',\n",
       "       '٧', '00000', 'يد التالته', '١١', 'غير منمرة',\n",
       "       'يد اولى، استيراد شخصي', '١٢', 'غير منمره', 'غير منمر', 'تالثه',\n",
       "       'ثالثى', 'ايد 2', 'يد ١', 'تالته', '15', 'وارد المانيا', '0000000',\n",
       "       'سحب شركة', '4 نفس الشخص', 'اثنان', '١٠', 'يد اول', '..',\n",
       "       'مستورده يد اولى', 'يد ثاني.', '......', 'يد2', '١٨',\n",
       "       'يد اولى ( شركة )', '?', 'اولى\\x89', 'O', 'يد اولى وكالة', 'اول',\n",
       "       'يد 6', '...', 'ياولى', 'يد ٤', 'استيراد مباشر من كوريا',\n",
       "       'يد سادسة', '٠٠٠٠٠٠٠٠٠', 'يد عاشره', 'يدو اولى', '؟', 'ايدثانيه',\n",
       "       'مستورده', 'يد اولئ', 'سابعه', '٠٠٠٠٠٠٠', 'يد اولىً', 'للبيع',\n",
       "       'يد ٥', 'يد ١٧', '2يد', '١٥', 'يد ثاني', 'منمره',\n",
       "       'اصحاب سابقون صفر', 'اشخاص', 'يد ثامنه', 'يدثالثه', 'اولا',\n",
       "       'يدثانيه', 'يدأولى', 'واحد', '0778244', 'استيراد كوريا', 'لا شيء',\n",
       "       'يداولا', '159000', 'يد سابعه', '******', '12345', 'ايد اوله',\n",
       "       'يد تاني', '78888877766', 'يدى اوله', 'بد اولى مستورد', 'لا يوجد',\n",
       "       'يد اولى من الشركة المتحدة', 'يد أولى استيراد', 'خمسة',\n",
       "       'ايد ثالثه', 'يداولى سحب شركه', '123423', 'يد ثانيا', '01',\n",
       "       'يد اولى اصحاب سابقون 0', 'يد اولى  اصل شركة', 'ايد أولى', 'تانية',\n",
       "       'يد4', 'من الشركه مباشر لا يوجد اصحاب سابقون',\n",
       "       'استيراد كوريا - جديد مش منمر', '.........', 'وارد كوريا يد اولى',\n",
       "       '@', 'خمس', 'انا', 'مستود غير منمر', 'يد واله', 'يد ولى', '04',\n",
       "       '0مستورد', '17', 'Zero', 'يد  ثانية', ',3', 'يد خمسة', '٩', 'يد',\n",
       "       'يد ثاتيه', 'يد تاسعة', 'شطب', '14', '0 استيراد كوري', 'يد اولي 1',\n",
       "       '170000', 'اصل تدريب سواقه', '٠٠٠٠', '٠٠٠٠٠٠', '1 أولى', 'الثانية',\n",
       "       'يد أولى بعد الاستيراد', 'يد اولى استيراد شخصي', 'يد ولا',\n",
       "       'يد أولى،...', '0 مستورده', 'يد6', 'يد سابعة', 'اوله',\n",
       "       'مش منمر . (صفر)', 'استراد', '19', '٤٤٤٤٤', 'يد٤', 'مش منمرا',\n",
       "       'يديانيه', '٠٠٠٠٩', 'فقط يد اولى', 'يدخامسه', 'يد اولى / استيراد',\n",
       "       '13', 'خمسه', '....', 'ايد 3', 'عدد٣', 'Ooo', 'لايوجد', 'يد أولي',\n",
       "       'اصل شركة', 'مشطوب', 'يد اولى شركة', 'يد 1', 'يد ثني',\n",
       "       'استيراد المانيا', 'ثمانيه', 'استيراد كوري', 'يد ٧', 'أيد تانية',\n",
       "       'يد ٩', 'يد٥', '16', 'تاني', 'يد أولى وكالة', 'ثانبه', 'يد أولى 1',\n",
       "       '٠٠٠٠٠٠٠٠'], dtype=object)"
      ]
     },
     "execution_count": 7413,
     "metadata": {},
     "output_type": "execute_result"
    }
   ],
   "source": [
    "df[\"ex_owners\"].unique()"
   ]
  },
  {
   "cell_type": "code",
   "execution_count": 7414,
   "metadata": {},
   "outputs": [],
   "source": [
    "def convert_arabic_to_numeric(text):\n",
    "    if pd.isna(text):   \n",
    "        return text\n",
    "    arabic_numerals = \"٠١٢٣٤٥٦٧٨٩\"\n",
    "    numeric_numerals = \"0123456789\"\n",
    "    translation_table = str.maketrans(arabic_numerals, numeric_numerals)\n",
    "    return text.translate(translation_table)\n",
    "df['ex_owners'] = df['ex_owners'].apply(convert_arabic_to_numeric)\n",
    " "
   ]
  },
  {
   "cell_type": "code",
   "execution_count": 7415,
   "metadata": {},
   "outputs": [
    {
     "name": "stderr",
     "output_type": "stream",
     "text": [
      "/var/folders/mt/p77p8b6n2sbdwdd7mqm0yz280000gp/T/ipykernel_19687/3781344383.py:5: SettingWithCopyWarning:\n",
      "\n",
      "\n",
      "A value is trying to be set on a copy of a slice from a DataFrame\n",
      "\n",
      "See the caveats in the documentation: https://pandas.pydata.org/pandas-docs/stable/user_guide/indexing.html#returning-a-view-versus-a-copy\n",
      "\n",
      "/var/folders/mt/p77p8b6n2sbdwdd7mqm0yz280000gp/T/ipykernel_19687/3781344383.py:8: SettingWithCopyWarning:\n",
      "\n",
      "\n",
      "A value is trying to be set on a copy of a slice from a DataFrame\n",
      "\n",
      "See the caveats in the documentation: https://pandas.pydata.org/pandas-docs/stable/user_guide/indexing.html#returning-a-view-versus-a-copy\n",
      "\n",
      "/var/folders/mt/p77p8b6n2sbdwdd7mqm0yz280000gp/T/ipykernel_19687/3781344383.py:11: SettingWithCopyWarning:\n",
      "\n",
      "\n",
      "A value is trying to be set on a copy of a slice from a DataFrame\n",
      "\n",
      "See the caveats in the documentation: https://pandas.pydata.org/pandas-docs/stable/user_guide/indexing.html#returning-a-view-versus-a-copy\n",
      "\n",
      "/var/folders/mt/p77p8b6n2sbdwdd7mqm0yz280000gp/T/ipykernel_19687/3781344383.py:14: SettingWithCopyWarning:\n",
      "\n",
      "\n",
      "A value is trying to be set on a copy of a slice from a DataFrame\n",
      "\n",
      "See the caveats in the documentation: https://pandas.pydata.org/pandas-docs/stable/user_guide/indexing.html#returning-a-view-versus-a-copy\n",
      "\n",
      "/var/folders/mt/p77p8b6n2sbdwdd7mqm0yz280000gp/T/ipykernel_19687/3781344383.py:17: SettingWithCopyWarning:\n",
      "\n",
      "\n",
      "A value is trying to be set on a copy of a slice from a DataFrame\n",
      "\n",
      "See the caveats in the documentation: https://pandas.pydata.org/pandas-docs/stable/user_guide/indexing.html#returning-a-view-versus-a-copy\n",
      "\n",
      "/var/folders/mt/p77p8b6n2sbdwdd7mqm0yz280000gp/T/ipykernel_19687/3781344383.py:20: SettingWithCopyWarning:\n",
      "\n",
      "\n",
      "A value is trying to be set on a copy of a slice from a DataFrame\n",
      "\n",
      "See the caveats in the documentation: https://pandas.pydata.org/pandas-docs/stable/user_guide/indexing.html#returning-a-view-versus-a-copy\n",
      "\n",
      "/var/folders/mt/p77p8b6n2sbdwdd7mqm0yz280000gp/T/ipykernel_19687/3781344383.py:23: SettingWithCopyWarning:\n",
      "\n",
      "\n",
      "A value is trying to be set on a copy of a slice from a DataFrame\n",
      "\n",
      "See the caveats in the documentation: https://pandas.pydata.org/pandas-docs/stable/user_guide/indexing.html#returning-a-view-versus-a-copy\n",
      "\n",
      "/var/folders/mt/p77p8b6n2sbdwdd7mqm0yz280000gp/T/ipykernel_19687/3781344383.py:26: SettingWithCopyWarning:\n",
      "\n",
      "\n",
      "A value is trying to be set on a copy of a slice from a DataFrame\n",
      "\n",
      "See the caveats in the documentation: https://pandas.pydata.org/pandas-docs/stable/user_guide/indexing.html#returning-a-view-versus-a-copy\n",
      "\n",
      "/var/folders/mt/p77p8b6n2sbdwdd7mqm0yz280000gp/T/ipykernel_19687/3781344383.py:29: SettingWithCopyWarning:\n",
      "\n",
      "\n",
      "A value is trying to be set on a copy of a slice from a DataFrame\n",
      "\n",
      "See the caveats in the documentation: https://pandas.pydata.org/pandas-docs/stable/user_guide/indexing.html#returning-a-view-versus-a-copy\n",
      "\n",
      "/var/folders/mt/p77p8b6n2sbdwdd7mqm0yz280000gp/T/ipykernel_19687/3781344383.py:32: SettingWithCopyWarning:\n",
      "\n",
      "\n",
      "A value is trying to be set on a copy of a slice from a DataFrame\n",
      "\n",
      "See the caveats in the documentation: https://pandas.pydata.org/pandas-docs/stable/user_guide/indexing.html#returning-a-view-versus-a-copy\n",
      "\n"
     ]
    }
   ],
   "source": [
    "import numpy as np\n",
    "\n",
    "def map_ex_owners(df_column):\n",
    "    minus = df_column.str.contains('شط', na=False)\n",
    "    df_column.loc[minus] = '-1'\n",
    "\n",
    "    new = df_column.str.contains('٠|Zero|00|O|0', na=False)\n",
    "    df_column.loc[new] = '0'\n",
    "\n",
    "    first = df_column.str.contains('١|صفر|ست|ا|وال|ول|1|منم', na=False)\n",
    "    df_column.loc[first] = '1'\n",
    "\n",
    "    sec = df_column.str.contains('تان|ثان|٢|2|ثن', case=False, na=False)\n",
    "    df_column.loc[sec] = '2'\n",
    "\n",
    "    third = df_column.str.contains('3|٣', case=False, na=False)\n",
    "    df_column.loc[third] = '3'\n",
    "\n",
    "    four = df_column.str.contains('4|٤', case=False, na=False)\n",
    "    df_column.loc[four] = '4'\n",
    "\n",
    "    five = df_column.str.contains('خمس|٥|5', case=False, na=False)\n",
    "    df_column.loc[five] = '5'\n",
    "\n",
    "    sixth = df_column.str.contains('6|٦', case=False, na=False)\n",
    "    df_column.loc[sixth] = '6'\n",
    "\n",
    "    seven = df_column.str.contains('7|٧', case=False, na=False)\n",
    "    df_column.loc[seven] = '7'\n",
    "\n",
    "    eight = df_column.str.contains('8|٨', case=False, na=False)\n",
    "    df_column.loc[eight] = '8'\n",
    "    ead = df_column.str.contains('8|٨', case=False, na=False)\n",
    "\n",
    "    values_to_replace = ['---', '،', '.', ' ', 'خصوصي', '**********', '-', 'سحب شركة', '..', '......',\n",
    "                         '?', '...', '؟', 'للبيع', '******', '.........', '@', 'يد', '....', 'يد 9', 'E', \"نعم\", \"********\"]\n",
    "    df_column = df_column.replace(values_to_replace, np.nan)\n",
    "\n",
    "    return df_column\n",
    "\n",
    "# Example usage:\n",
    "df['ex_owners'] = map_ex_owners(df['ex_owners'])\n"
   ]
  },
  {
   "cell_type": "code",
   "execution_count": 7416,
   "metadata": {},
   "outputs": [],
   "source": [
    "values_to_replace = ['---', '،', '.', ' ', 'خصوصي', '**********', '-', 'سحب شركة', '..', '......',\n",
    "                     '?', '...', '؟', 'للبيع', '******', '.........', '@', 'يد', '....', 'يد 9' , 'E' , \"نعم\" ,\"********\"]\n",
    "\n",
    "df['ex_owners'] = df['ex_owners'].replace(values_to_replace, np.nan)\n"
   ]
  },
  {
   "cell_type": "code",
   "execution_count": 7417,
   "metadata": {},
   "outputs": [
    {
     "data": {
      "text/plain": [
       "array(['1', '3', nan, '4', '6', '2', '0', '5', '9', '8', '7'],\n",
       "      dtype=object)"
      ]
     },
     "execution_count": 7417,
     "metadata": {},
     "output_type": "execute_result"
    }
   ],
   "source": [
    "df[\"ex_owners\"].unique()"
   ]
  },
  {
   "cell_type": "code",
   "execution_count": 7418,
   "metadata": {},
   "outputs": [],
   "source": [
    "df[\"ex_owners\"].replace({ np.nan: '9999'}, inplace=True)\n"
   ]
  },
  {
   "cell_type": "code",
   "execution_count": 7419,
   "metadata": {},
   "outputs": [
    {
     "data": {
      "text/plain": [
       "array(['1', '3', '9999', '4', '6', '2', '0', '5', '9', '8', '7'],\n",
       "      dtype=object)"
      ]
     },
     "execution_count": 7419,
     "metadata": {},
     "output_type": "execute_result"
    }
   ],
   "source": [
    "df[\"ex_owners\"].unique()"
   ]
  },
  {
   "cell_type": "code",
   "execution_count": 7420,
   "metadata": {},
   "outputs": [],
   "source": [
    "df['ex_owners'] = pd.to_numeric(df['ex_owners'], errors='coerce')"
   ]
  },
  {
   "cell_type": "code",
   "execution_count": 7421,
   "metadata": {},
   "outputs": [
    {
     "data": {
      "text/plain": [
       "0          1\n",
       "1          1\n",
       "2          1\n",
       "3          3\n",
       "4       9999\n",
       "        ... \n",
       "6856       1\n",
       "6857       1\n",
       "6858       2\n",
       "6860    9999\n",
       "6863       1\n",
       "Name: ex_owners, Length: 5973, dtype: int64"
      ]
     },
     "execution_count": 7421,
     "metadata": {},
     "output_type": "execute_result"
    }
   ],
   "source": [
    "df['ex_owners']"
   ]
  },
  {
   "cell_type": "code",
   "execution_count": 7422,
   "metadata": {},
   "outputs": [
    {
     "data": {
      "text/plain": [
       "array([   1,    3, 9999,    4,    6,    2,    0,    5,    9,    8,    7])"
      ]
     },
     "execution_count": 7422,
     "metadata": {},
     "output_type": "execute_result"
    }
   ],
   "source": [
    "df[\"ex_owners\"].unique()"
   ]
  },
  {
   "cell_type": "code",
   "execution_count": 7423,
   "metadata": {},
   "outputs": [
    {
     "data": {
      "text/plain": [
       "array([   1,    3, 9999,    4,    6,    2,    0,    5,    9,    8,    7])"
      ]
     },
     "execution_count": 7423,
     "metadata": {},
     "output_type": "execute_result"
    }
   ],
   "source": [
    "\n",
    "df['ex_owners'] = df['ex_owners'].astype(int)\n",
    "df[\"ex_owners\"].unique()"
   ]
  },
  {
   "cell_type": "code",
   "execution_count": 7424,
   "metadata": {},
   "outputs": [
    {
     "data": {
      "text/plain": [
       "0"
      ]
     },
     "execution_count": 7424,
     "metadata": {},
     "output_type": "execute_result"
    }
   ],
   "source": [
    "df[\"ex_owners\"].isna().sum()"
   ]
  },
  {
   "cell_type": "code",
   "execution_count": 7425,
   "metadata": {},
   "outputs": [
    {
     "data": {
      "text/plain": [
       "0          1\n",
       "1          1\n",
       "2          1\n",
       "3          3\n",
       "4       9999\n",
       "        ... \n",
       "6856       1\n",
       "6857       1\n",
       "6858       2\n",
       "6860    9999\n",
       "6863       1\n",
       "Name: ex_owners, Length: 5973, dtype: int64"
      ]
     },
     "execution_count": 7425,
     "metadata": {},
     "output_type": "execute_result"
    }
   ],
   "source": [
    "df[\"ex_owners\"]"
   ]
  },
  {
   "cell_type": "code",
   "execution_count": 7426,
   "metadata": {},
   "outputs": [],
   "source": [
    "df['ex_owners'] = df['ex_owners'].replace(9999, np.nan)\n"
   ]
  },
  {
   "cell_type": "code",
   "execution_count": 7427,
   "metadata": {},
   "outputs": [
    {
     "data": {
      "text/plain": [
       "array([ 1.,  3., nan,  4.,  6.,  2.,  0.,  5.,  9.,  8.,  7.])"
      ]
     },
     "execution_count": 7427,
     "metadata": {},
     "output_type": "execute_result"
    }
   ],
   "source": [
    "df[\"ex_owners\"].unique()"
   ]
  },
  {
   "cell_type": "code",
   "execution_count": 7428,
   "metadata": {},
   "outputs": [
    {
     "data": {
      "text/plain": [
       "count    4504.000000\n",
       "mean        1.813943\n",
       "std         1.600722\n",
       "min         0.000000\n",
       "25%         1.000000\n",
       "50%         1.000000\n",
       "75%         2.000000\n",
       "max         9.000000\n",
       "Name: ex_owners, dtype: float64"
      ]
     },
     "execution_count": 7428,
     "metadata": {},
     "output_type": "execute_result"
    }
   ],
   "source": [
    "df[\"ex_owners\"].describe()"
   ]
  },
  {
   "cell_type": "code",
   "execution_count": 7429,
   "metadata": {},
   "outputs": [
    {
     "name": "stdout",
     "output_type": "stream",
     "text": [
      "<class 'pandas.core.frame.DataFrame'>\n",
      "Int64Index: 5973 entries, 0 to 6863\n",
      "Data columns (total 22 columns):\n",
      " #   Column              Non-Null Count  Dtype  \n",
      "---  ------              --------------  -----  \n",
      " 0   air_conditioner     5973 non-null   int64  \n",
      " 1   central_closing     5973 non-null   float64\n",
      " 2   alarm_devise        5973 non-null   int64  \n",
      " 3   CD_recorder         5973 non-null   int64  \n",
      " 4   leather_upholstery  5973 non-null   int64  \n",
      " 5   air_cushion         5973 non-null   int64  \n",
      " 6   magnesium_rims      5973 non-null   int64  \n",
      " 7   sunroof             5973 non-null   int64  \n",
      " 8   model_car           5973 non-null   float64\n",
      " 9   price_car           5973 non-null   float64\n",
      " 10  fuel_type           5973 non-null   object \n",
      " 11  origin_car          5973 non-null   int64  \n",
      " 12  ex_owners           4504 non-null   float64\n",
      " 13  car_license         5973 non-null   int64  \n",
      " 14  lime_type           5973 non-null   int64  \n",
      " 15  glass               5973 non-null   int64  \n",
      " 16  motor_power         5973 non-null   float64\n",
      " 17  passengers          5228 non-null   float64\n",
      " 18  payment_method      5973 non-null   int64  \n",
      " 19  displayed           5973 non-null   int64  \n",
      " 20  brand               5973 non-null   object \n",
      " 21  type                5973 non-null   object \n",
      "dtypes: float64(6), int64(13), object(3)\n",
      "memory usage: 1.0+ MB\n"
     ]
    }
   ],
   "source": [
    "df.info()"
   ]
  },
  {
   "cell_type": "code",
   "execution_count": 7430,
   "metadata": {},
   "outputs": [],
   "source": [
    "#Predict missing values to colume [ex_owners]\n",
    "def impute_and_predict(df, target_column, columns_to_drop=['brand', 'fuel_type' , \"brand\" , \"type\"]):\n",
    "    df_without_null = df.dropna(subset=[target_column])\n",
    "    X = df_without_null.drop(columns=columns_to_drop + [target_column], axis=1)\n",
    "    y = df_without_null[target_column]\n",
    "    \n",
    "    X_train, X_test, y_train, y_test = train_test_split(X, y, test_size=0.2, random_state=42)\n",
    "    \n",
    "    imputer = SimpleImputer(strategy='mean')\n",
    "    X_train_imputed = pd.DataFrame(imputer.fit_transform(X_train), columns=X_train.columns)\n",
    "    \n",
    "    model = RandomForestRegressor()\n",
    "    model.fit(X_train_imputed, y_train)\n",
    "    \n",
    "    missing_values = df[df[target_column].isnull()].drop(columns=columns_to_drop + [target_column], axis=1)\n",
    "    \n",
    "    if not missing_values.empty:\n",
    "        missing_values_imputed = pd.DataFrame(imputer.transform(missing_values), columns=missing_values.columns)\n",
    "        predicted_values = model.predict(missing_values_imputed)\n",
    "        df.loc[df[target_column].isnull(), target_column] = predicted_values\n",
    "    else:\n",
    "        print(\"No missing data\")\n",
    "    \n",
    "    if not X_test.empty:\n",
    "        X_test_imputed = pd.DataFrame(imputer.transform(X_test), columns=X_test.columns)\n",
    "        y_pred = model.predict(X_test_imputed)\n",
    "        mae = mean_absolute_error(y_test, y_pred)\n",
    "        print(f\"Mean Absolute Error on the test set: {mae}\")\n"
   ]
  },
  {
   "cell_type": "code",
   "execution_count": 7431,
   "metadata": {},
   "outputs": [
    {
     "name": "stdout",
     "output_type": "stream",
     "text": [
      "Mean Absolute Error on the test set: 1.1639811056498073\n"
     ]
    }
   ],
   "source": [
    "impute_and_predict(df, 'ex_owners')"
   ]
  },
  {
   "cell_type": "code",
   "execution_count": 7432,
   "metadata": {},
   "outputs": [
    {
     "data": {
      "text/plain": [
       "count    5973.000000\n",
       "mean        1.865075\n",
       "std         1.445898\n",
       "min         0.000000\n",
       "25%         1.000000\n",
       "50%         1.145000\n",
       "75%         2.470000\n",
       "max         9.000000\n",
       "Name: ex_owners, dtype: float64"
      ]
     },
     "execution_count": 7432,
     "metadata": {},
     "output_type": "execute_result"
    }
   ],
   "source": [
    "df[\"ex_owners\"].describe()"
   ]
  },
  {
   "cell_type": "code",
   "execution_count": 7433,
   "metadata": {},
   "outputs": [
    {
     "data": {
      "text/plain": [
       "air_conditioner         0\n",
       "central_closing         0\n",
       "alarm_devise            0\n",
       "CD_recorder             0\n",
       "leather_upholstery      0\n",
       "air_cushion             0\n",
       "magnesium_rims          0\n",
       "sunroof                 0\n",
       "model_car               0\n",
       "price_car               0\n",
       "fuel_type               0\n",
       "origin_car              0\n",
       "ex_owners               0\n",
       "car_license             0\n",
       "lime_type               0\n",
       "glass                   0\n",
       "motor_power             0\n",
       "passengers            745\n",
       "payment_method          0\n",
       "displayed               0\n",
       "brand                   0\n",
       "type                    0\n",
       "dtype: int64"
      ]
     },
     "execution_count": 7433,
     "metadata": {},
     "output_type": "execute_result"
    }
   ],
   "source": [
    "df.isna().sum()"
   ]
  },
  {
   "cell_type": "code",
   "execution_count": 7434,
   "metadata": {},
   "outputs": [
    {
     "data": {
      "text/plain": [
       "array([1.        , 3.        , 2.25      , 4.3       , 3.38      ,\n",
       "       1.77      , 1.66      , 4.        , 6.        , 3.36      ,\n",
       "       2.        , 1.25      , 0.        , 5.        , 1.88      ,\n",
       "       1.5       , 1.79      , 1.73      , 1.37      , 2.005     ,\n",
       "       1.7375    , 2.31      , 2.21      , 1.7       , 1.32      ,\n",
       "       2.47      , 1.45      , 3.07      , 1.19      , 3.22      ,\n",
       "       1.86      , 2.44      , 2.42      , 1.12      , 2.01      ,\n",
       "       1.21      , 2.73      , 1.89      , 3.91      , 1.27      ,\n",
       "       2.78      , 1.8       , 1.93      , 0.9525    , 2.94      ,\n",
       "       9.        , 2.8       , 1.78      , 8.        , 1.39      ,\n",
       "       1.67      , 7.        , 1.54      , 1.24      , 2.18      ,\n",
       "       2.07      , 0.88      , 1.98      , 2.96      , 1.06      ,\n",
       "       2.5       , 3.05      , 1.145     , 2.23      , 1.3       ,\n",
       "       1.72      , 3.12      , 3.15      , 2.22      , 2.85      ,\n",
       "       2.16      , 1.94      , 0.98      , 0.91      , 2.59      ,\n",
       "       1.6       , 0.94      , 1.495     , 0.8       , 3.2       ,\n",
       "       1.97      , 1.49      , 1.59      , 1.04      , 3.21      ,\n",
       "       1.886     , 1.91      , 1.23      , 1.57      , 2.13      ,\n",
       "       0.72      , 2.05      , 2.56      , 3.06      , 1.08      ,\n",
       "       2.32      , 1.21666667, 1.74      , 3.72      , 2.14      ,\n",
       "       1.02      , 1.33      , 1.1       , 3.17      , 0.78      ,\n",
       "       0.61      , 1.11      , 1.92      , 2.09      , 1.62      ,\n",
       "       1.41      , 1.76      , 1.13      , 0.53      , 2.64      ,\n",
       "       2.3       , 1.09      , 2.89      , 2.62      , 2.52      ,\n",
       "       1.55      , 1.85      , 1.48      , 2.74      , 1.22      ,\n",
       "       1.18833333, 2.93      , 2.86      , 1.87      , 3.49      ,\n",
       "       1.96      , 1.15      , 2.55      , 1.84      , 2.6       ,\n",
       "       2.36      , 2.075     , 2.68      , 0.798     , 2.65      ,\n",
       "       1.63      , 3.26      , 3.02      , 2.88      , 3.23      ,\n",
       "       3.41      , 1.58      , 1.31      , 1.79166667, 2.67      ,\n",
       "       3.54      , 2.08      , 2.83      , 3.3       , 3.4       ,\n",
       "       2.91      , 0.34      , 0.86      , 1.95      , 1.65      ,\n",
       "       4.55      , 1.75      , 2.04      , 2.79      , 1.61      ,\n",
       "       2.41      , 3.85      , 3.18      , 4.16      , 3.9       ,\n",
       "       1.28      , 1.35      , 1.44      , 3.03      , 2.12      ,\n",
       "       3.19      , 1.26      , 0.97      , 0.98833333, 2.63      ,\n",
       "       1.15416667, 2.48      , 2.28      , 1.14      , 1.69      ,\n",
       "       2.54      , 0.93      , 2.69      , 2.29      , 1.46      ,\n",
       "       3.31      , 2.4       , 0.905     , 1.16      , 1.64      ,\n",
       "       2.11      , 2.87      , 3.68      , 2.03      , 3.66      ,\n",
       "       1.56      , 2.81      , 1.07      , 1.36      , 2.27      ,\n",
       "       2.06      , 2.34      , 1.52      , 2.45      , 3.48      ,\n",
       "       1.1875    , 2.75      , 1.29      , 1.621     , 1.5875    ,\n",
       "       2.35      , 2.19      , 3.09      , 3.57      , 2.58      ,\n",
       "       4.95      , 1.32416667, 1.8315    , 1.34      , 4.59      ,\n",
       "       1.82      , 1.031     , 1.25333333, 1.665     , 2.10666667,\n",
       "       1.735     , 1.42      , 1.47      , 0.99      , 3.98      ,\n",
       "       1.30333333, 1.30216667, 1.515     , 1.71      , 1.54666667,\n",
       "       1.01      , 3.37      , 4.21      , 2.76      , 1.51      ,\n",
       "       2.07533333, 2.49      , 3.13      , 3.74      , 2.82      ,\n",
       "       0.85      , 3.01      , 1.17      , 3.92      , 2.57      ,\n",
       "       3.83      , 2.17      , 1.83      , 3.14      , 1.4835    ,\n",
       "       1.74333333, 1.986     , 2.33      , 1.39833333, 3.5       ,\n",
       "       3.94      , 4.33      , 3.32      , 3.16      , 2.26      ,\n",
       "       2.1       , 2.20916667, 4.17      , 1.915     , 1.745     ,\n",
       "       0.98666667, 0.69      , 1.4       , 2.24      , 2.72      ,\n",
       "       1.5565    , 2.46      , 3.81      , 0.83      , 4.32      ,\n",
       "       2.02      , 3.88      , 1.2       , 2.2       , 0.45      ,\n",
       "       3.35      , 5.27      , 2.37      , 3.63      , 1.05      ,\n",
       "       2.38      , 1.99      , 2.15      , 2.97      , 0.95      ,\n",
       "       1.45166667, 0.62      , 3.56      , 2.39      , 1.525     ,\n",
       "       2.66      , 1.9       , 1.68      , 3.28      , 4.03      ,\n",
       "       1.19333333, 1.55333333, 2.9       , 1.096     , 1.821     ,\n",
       "       1.53      , 1.03      , 4.34      , 1.66516667, 1.22333333,\n",
       "       1.7535    , 2.95      , 3.08      , 2.53      , 3.27      ,\n",
       "       1.43      , 1.31333333, 1.075     , 3.685     , 1.048     ,\n",
       "       1.81      , 4.36      , 1.13833333, 3.6       , 0.84      ,\n",
       "       2.51      , 2.61      , 1.18      , 1.333     , 1.39916667,\n",
       "       3.82      , 3.73      , 1.53666667, 1.335     , 3.42      ,\n",
       "       2.98      , 3.45      , 2.99      , 1.103     , 2.43      ,\n",
       "       0.73      , 0.58      , 3.47      , 0.57      , 1.5625    ,\n",
       "       0.9       , 0.865     , 0.99366667, 0.92      , 0.9675    ,\n",
       "       1.38      , 3.61      , 1.08333333, 3.87      , 2.31333333,\n",
       "       3.34      , 1.5825    , 0.81      , 3.44      , 1.57333333,\n",
       "       3.25      , 2.71      , 1.71666667, 4.18      , 1.815     ,\n",
       "       3.75      , 0.79      , 0.68      , 0.66      , 0.55      ,\n",
       "       0.82      , 3.1       , 2.728     , 0.87      , 2.77      ,\n",
       "       3.99      , 4.56      , 3.69      , 1.405     , 2.32333333,\n",
       "       0.96      , 3.39      , 2.92      , 3.7       , 0.5       ,\n",
       "       3.04      , 2.16333333, 0.915     , 2.84      , 3.24      ,\n",
       "       3.86      , 5.04      , 3.43      , 0.77      , 0.89      ,\n",
       "       3.71      , 0.71      , 1.25166667, 4.02      , 1.065     ,\n",
       "       1.455     , 1.384     ])"
      ]
     },
     "execution_count": 7434,
     "metadata": {},
     "output_type": "execute_result"
    }
   ],
   "source": [
    "df[\"ex_owners\"].unique()\n"
   ]
  },
  {
   "cell_type": "code",
   "execution_count": 7435,
   "metadata": {},
   "outputs": [],
   "source": [
    "df['ex_owners'] = df['ex_owners'].astype(int)"
   ]
  },
  {
   "cell_type": "code",
   "execution_count": 7436,
   "metadata": {},
   "outputs": [
    {
     "data": {
      "text/plain": [
       "array([1, 3, 2, 4, 6, 0, 5, 9, 8, 7])"
      ]
     },
     "execution_count": 7436,
     "metadata": {},
     "output_type": "execute_result"
    }
   ],
   "source": [
    "df['ex_owners'].unique()"
   ]
  },
  {
   "cell_type": "code",
   "execution_count": 7437,
   "metadata": {},
   "outputs": [
    {
     "data": {
      "text/plain": [
       "1.4532930162339528"
      ]
     },
     "execution_count": 7437,
     "metadata": {},
     "output_type": "execute_result"
    }
   ],
   "source": [
    "df['ex_owners'].std()"
   ]
  },
  {
   "cell_type": "markdown",
   "metadata": {},
   "source": [
    "\n",
    "\n",
    "\n",
    "<div style=\"padding: 10px; background-color: #F52887; margin: 0; color: #e7d954; font-family: newtimeroman; font-size: 150%; text-align: left; border-radius: 15px; overflow: hidden; font-weight: 1000; width: 60%; float: left;\"> I used a model to predict the missing values, and I used the tree type to make the prediction more accurate.\n",
    "I predicted and took the average prediction so that the data would not be widely dispersed\n",
    "</div>\n"
   ]
  },
  {
   "cell_type": "markdown",
   "metadata": {},
   "source": [
    "------"
   ]
  },
  {
   "cell_type": "markdown",
   "metadata": {},
   "source": [
    "<div style=\"padding: 10px; background-color: #808080; margin: 0; color: #e7d954; font-family: newtimeroman; font-size: 150%; text-align: left; border-radius: 15px; overflow: hidden; font-weight: 1000; width: 60%; float: left;\">  passengers \n",
    "</div>\n",
    "<p style=\"text-align: center;\">\n",
    "    <img src=\"https://media.giphy.com/media/xBq8N1Opc2FEeQZVcY/giphy.gif\" style=\"width: 200px; height: 100px;\">\n",
    "</p>\n",
    "\n"
   ]
  },
  {
   "cell_type": "code",
   "execution_count": 7438,
   "metadata": {},
   "outputs": [
    {
     "data": {
      "text/plain": [
       "0       NaN\n",
       "1       5.0\n",
       "2       5.0\n",
       "3       5.0\n",
       "4       5.0\n",
       "       ... \n",
       "6856    5.0\n",
       "6857    6.0\n",
       "6858    5.0\n",
       "6860    7.0\n",
       "6863    NaN\n",
       "Name: passengers, Length: 5973, dtype: float64"
      ]
     },
     "execution_count": 7438,
     "metadata": {},
     "output_type": "execute_result"
    }
   ],
   "source": [
    "df['passengers']"
   ]
  },
  {
   "cell_type": "code",
   "execution_count": 7439,
   "metadata": {},
   "outputs": [
    {
     "data": {
      "text/plain": [
       "array([nan,  5.,  6.,  2.,  9.,  7.,  8.,  4.,  3., 10., 22.])"
      ]
     },
     "execution_count": 7439,
     "metadata": {},
     "output_type": "execute_result"
    }
   ],
   "source": [
    "df['passengers'].unique()\n",
    "num_of=df['passengers']\n",
    "num_of.unique()"
   ]
  },
  {
   "cell_type": "code",
   "execution_count": 7440,
   "metadata": {},
   "outputs": [
    {
     "name": "stdout",
     "output_type": "stream",
     "text": [
      "Std of passengers: 0.9618521782469912\n"
     ]
    }
   ],
   "source": [
    "std_passengers = df['passengers'].std()\n",
    "print(\"Std of passengers:\", std_passengers)\n"
   ]
  },
  {
   "cell_type": "code",
   "execution_count": 7441,
   "metadata": {},
   "outputs": [
    {
     "data": {
      "text/html": [
       "<div>\n",
       "<style scoped>\n",
       "    .dataframe tbody tr th:only-of-type {\n",
       "        vertical-align: middle;\n",
       "    }\n",
       "\n",
       "    .dataframe tbody tr th {\n",
       "        vertical-align: top;\n",
       "    }\n",
       "\n",
       "    .dataframe thead th {\n",
       "        text-align: right;\n",
       "    }\n",
       "</style>\n",
       "<table border=\"1\" class=\"dataframe\">\n",
       "  <thead>\n",
       "    <tr style=\"text-align: right;\">\n",
       "      <th></th>\n",
       "      <th>air_conditioner</th>\n",
       "      <th>central_closing</th>\n",
       "      <th>alarm_devise</th>\n",
       "      <th>CD_recorder</th>\n",
       "      <th>leather_upholstery</th>\n",
       "      <th>air_cushion</th>\n",
       "      <th>magnesium_rims</th>\n",
       "      <th>sunroof</th>\n",
       "      <th>model_car</th>\n",
       "      <th>price_car</th>\n",
       "      <th>...</th>\n",
       "      <th>ex_owners</th>\n",
       "      <th>car_license</th>\n",
       "      <th>lime_type</th>\n",
       "      <th>glass</th>\n",
       "      <th>motor_power</th>\n",
       "      <th>passengers</th>\n",
       "      <th>payment_method</th>\n",
       "      <th>displayed</th>\n",
       "      <th>brand</th>\n",
       "      <th>type</th>\n",
       "    </tr>\n",
       "  </thead>\n",
       "  <tbody>\n",
       "  </tbody>\n",
       "</table>\n",
       "<p>0 rows × 22 columns</p>\n",
       "</div>"
      ],
      "text/plain": [
       "Empty DataFrame\n",
       "Columns: [air_conditioner, central_closing, alarm_devise, CD_recorder, leather_upholstery, air_cushion, magnesium_rims, sunroof, model_car, price_car, fuel_type, origin_car, ex_owners, car_license, lime_type, glass, motor_power, passengers, payment_method, displayed, brand, type]\n",
       "Index: []\n",
       "\n",
       "[0 rows x 22 columns]"
      ]
     },
     "execution_count": 7441,
     "metadata": {},
     "output_type": "execute_result"
    }
   ],
   "source": [
    "rows_with_104_passengers = df[df['passengers'] == 104]\n",
    "rows_with_104_passengers"
   ]
  },
  {
   "cell_type": "code",
   "execution_count": 7442,
   "metadata": {},
   "outputs": [
    {
     "data": {
      "text/html": [
       "<div>\n",
       "<style scoped>\n",
       "    .dataframe tbody tr th:only-of-type {\n",
       "        vertical-align: middle;\n",
       "    }\n",
       "\n",
       "    .dataframe tbody tr th {\n",
       "        vertical-align: top;\n",
       "    }\n",
       "\n",
       "    .dataframe thead th {\n",
       "        text-align: right;\n",
       "    }\n",
       "</style>\n",
       "<table border=\"1\" class=\"dataframe\">\n",
       "  <thead>\n",
       "    <tr style=\"text-align: right;\">\n",
       "      <th></th>\n",
       "      <th>air_conditioner</th>\n",
       "      <th>central_closing</th>\n",
       "      <th>alarm_devise</th>\n",
       "      <th>CD_recorder</th>\n",
       "      <th>leather_upholstery</th>\n",
       "      <th>air_cushion</th>\n",
       "      <th>magnesium_rims</th>\n",
       "      <th>sunroof</th>\n",
       "      <th>model_car</th>\n",
       "      <th>price_car</th>\n",
       "      <th>...</th>\n",
       "      <th>ex_owners</th>\n",
       "      <th>car_license</th>\n",
       "      <th>lime_type</th>\n",
       "      <th>glass</th>\n",
       "      <th>motor_power</th>\n",
       "      <th>passengers</th>\n",
       "      <th>payment_method</th>\n",
       "      <th>displayed</th>\n",
       "      <th>brand</th>\n",
       "      <th>type</th>\n",
       "    </tr>\n",
       "  </thead>\n",
       "  <tbody>\n",
       "    <tr>\n",
       "      <th>4634</th>\n",
       "      <td>1</td>\n",
       "      <td>1.0</td>\n",
       "      <td>1</td>\n",
       "      <td>0</td>\n",
       "      <td>1</td>\n",
       "      <td>0</td>\n",
       "      <td>0</td>\n",
       "      <td>0</td>\n",
       "      <td>2005.0</td>\n",
       "      <td>27000.0</td>\n",
       "      <td>...</td>\n",
       "      <td>1</td>\n",
       "      <td>2</td>\n",
       "      <td>1</td>\n",
       "      <td>1</td>\n",
       "      <td>3000.0</td>\n",
       "      <td>22.0</td>\n",
       "      <td>1</td>\n",
       "      <td>1</td>\n",
       "      <td>Skoda</td>\n",
       "      <td>اوكتيا</td>\n",
       "    </tr>\n",
       "  </tbody>\n",
       "</table>\n",
       "<p>1 rows × 22 columns</p>\n",
       "</div>"
      ],
      "text/plain": [
       "      air_conditioner  central_closing  alarm_devise  CD_recorder  \\\n",
       "4634                1              1.0             1            0   \n",
       "\n",
       "      leather_upholstery  air_cushion  magnesium_rims  sunroof  model_car  \\\n",
       "4634                   1            0               0        0     2005.0   \n",
       "\n",
       "      price_car  ... ex_owners  car_license  lime_type  glass  motor_power  \\\n",
       "4634    27000.0  ...         1            2          1      1       3000.0   \n",
       "\n",
       "      passengers  payment_method  displayed  brand    type  \n",
       "4634        22.0               1          1  Skoda  اوكتيا  \n",
       "\n",
       "[1 rows x 22 columns]"
      ]
     },
     "execution_count": 7442,
     "metadata": {},
     "output_type": "execute_result"
    }
   ],
   "source": [
    "rows_with_104_passengers = df[df['passengers'] == 22]\n",
    "rows_with_104_passengers"
   ]
  },
  {
   "cell_type": "code",
   "execution_count": 7443,
   "metadata": {},
   "outputs": [
    {
     "data": {
      "text/plain": [
       "air_conditioner         0\n",
       "central_closing         0\n",
       "alarm_devise            0\n",
       "CD_recorder             0\n",
       "leather_upholstery      0\n",
       "air_cushion             0\n",
       "magnesium_rims          0\n",
       "sunroof                 0\n",
       "model_car               0\n",
       "price_car               0\n",
       "fuel_type               0\n",
       "origin_car              0\n",
       "ex_owners               0\n",
       "car_license             0\n",
       "lime_type               0\n",
       "glass                   0\n",
       "motor_power             0\n",
       "passengers            745\n",
       "payment_method          0\n",
       "displayed               0\n",
       "brand                   0\n",
       "type                    0\n",
       "dtype: int64"
      ]
     },
     "execution_count": 7443,
     "metadata": {},
     "output_type": "execute_result"
    }
   ],
   "source": [
    "df.isna().sum()"
   ]
  },
  {
   "cell_type": "code",
   "execution_count": 7444,
   "metadata": {},
   "outputs": [
    {
     "data": {
      "text/html": [
       "<div>\n",
       "<style scoped>\n",
       "    .dataframe tbody tr th:only-of-type {\n",
       "        vertical-align: middle;\n",
       "    }\n",
       "\n",
       "    .dataframe tbody tr th {\n",
       "        vertical-align: top;\n",
       "    }\n",
       "\n",
       "    .dataframe thead th {\n",
       "        text-align: right;\n",
       "    }\n",
       "</style>\n",
       "<table border=\"1\" class=\"dataframe\">\n",
       "  <thead>\n",
       "    <tr style=\"text-align: right;\">\n",
       "      <th></th>\n",
       "      <th>air_conditioner</th>\n",
       "      <th>central_closing</th>\n",
       "      <th>alarm_devise</th>\n",
       "      <th>CD_recorder</th>\n",
       "      <th>leather_upholstery</th>\n",
       "      <th>air_cushion</th>\n",
       "      <th>magnesium_rims</th>\n",
       "      <th>sunroof</th>\n",
       "      <th>model_car</th>\n",
       "      <th>price_car</th>\n",
       "      <th>...</th>\n",
       "      <th>ex_owners</th>\n",
       "      <th>car_license</th>\n",
       "      <th>lime_type</th>\n",
       "      <th>glass</th>\n",
       "      <th>motor_power</th>\n",
       "      <th>passengers</th>\n",
       "      <th>payment_method</th>\n",
       "      <th>displayed</th>\n",
       "      <th>brand</th>\n",
       "      <th>type</th>\n",
       "    </tr>\n",
       "  </thead>\n",
       "  <tbody>\n",
       "    <tr>\n",
       "      <th>0</th>\n",
       "      <td>1</td>\n",
       "      <td>1.0</td>\n",
       "      <td>1</td>\n",
       "      <td>1</td>\n",
       "      <td>1</td>\n",
       "      <td>1</td>\n",
       "      <td>0</td>\n",
       "      <td>0</td>\n",
       "      <td>2008.0</td>\n",
       "      <td>44000.0</td>\n",
       "      <td>...</td>\n",
       "      <td>1</td>\n",
       "      <td>1</td>\n",
       "      <td>3</td>\n",
       "      <td>2</td>\n",
       "      <td>1600.0</td>\n",
       "      <td>NaN</td>\n",
       "      <td>2</td>\n",
       "      <td>1</td>\n",
       "      <td>Kia</td>\n",
       "      <td>برايد</td>\n",
       "    </tr>\n",
       "    <tr>\n",
       "      <th>6</th>\n",
       "      <td>1</td>\n",
       "      <td>1.0</td>\n",
       "      <td>1</td>\n",
       "      <td>1</td>\n",
       "      <td>1</td>\n",
       "      <td>1</td>\n",
       "      <td>1</td>\n",
       "      <td>0</td>\n",
       "      <td>1999.0</td>\n",
       "      <td>50000.0</td>\n",
       "      <td>...</td>\n",
       "      <td>4</td>\n",
       "      <td>1</td>\n",
       "      <td>3</td>\n",
       "      <td>2</td>\n",
       "      <td>2200.0</td>\n",
       "      <td>NaN</td>\n",
       "      <td>2</td>\n",
       "      <td>3</td>\n",
       "      <td>Mercedes</td>\n",
       "      <td>220</td>\n",
       "    </tr>\n",
       "    <tr>\n",
       "      <th>12</th>\n",
       "      <td>1</td>\n",
       "      <td>1.0</td>\n",
       "      <td>1</td>\n",
       "      <td>1</td>\n",
       "      <td>1</td>\n",
       "      <td>1</td>\n",
       "      <td>0</td>\n",
       "      <td>0</td>\n",
       "      <td>2001.0</td>\n",
       "      <td>25000.0</td>\n",
       "      <td>...</td>\n",
       "      <td>4</td>\n",
       "      <td>1</td>\n",
       "      <td>1</td>\n",
       "      <td>2</td>\n",
       "      <td>1900.0</td>\n",
       "      <td>NaN</td>\n",
       "      <td>2</td>\n",
       "      <td>3</td>\n",
       "      <td>Seat</td>\n",
       "      <td>قرطبة</td>\n",
       "    </tr>\n",
       "    <tr>\n",
       "      <th>20</th>\n",
       "      <td>1</td>\n",
       "      <td>1.0</td>\n",
       "      <td>1</td>\n",
       "      <td>1</td>\n",
       "      <td>1</td>\n",
       "      <td>1</td>\n",
       "      <td>1</td>\n",
       "      <td>0</td>\n",
       "      <td>2012.0</td>\n",
       "      <td>68000.0</td>\n",
       "      <td>...</td>\n",
       "      <td>1</td>\n",
       "      <td>1</td>\n",
       "      <td>3</td>\n",
       "      <td>2</td>\n",
       "      <td>2000.0</td>\n",
       "      <td>NaN</td>\n",
       "      <td>2</td>\n",
       "      <td>3</td>\n",
       "      <td>Hyundai</td>\n",
       "      <td>توسان</td>\n",
       "    </tr>\n",
       "    <tr>\n",
       "      <th>22</th>\n",
       "      <td>1</td>\n",
       "      <td>1.0</td>\n",
       "      <td>1</td>\n",
       "      <td>1</td>\n",
       "      <td>1</td>\n",
       "      <td>1</td>\n",
       "      <td>1</td>\n",
       "      <td>1</td>\n",
       "      <td>2015.0</td>\n",
       "      <td>175000.0</td>\n",
       "      <td>...</td>\n",
       "      <td>0</td>\n",
       "      <td>1</td>\n",
       "      <td>3</td>\n",
       "      <td>2</td>\n",
       "      <td>2500.0</td>\n",
       "      <td>NaN</td>\n",
       "      <td>1</td>\n",
       "      <td>1</td>\n",
       "      <td>Mercedes</td>\n",
       "      <td>C250</td>\n",
       "    </tr>\n",
       "    <tr>\n",
       "      <th>...</th>\n",
       "      <td>...</td>\n",
       "      <td>...</td>\n",
       "      <td>...</td>\n",
       "      <td>...</td>\n",
       "      <td>...</td>\n",
       "      <td>...</td>\n",
       "      <td>...</td>\n",
       "      <td>...</td>\n",
       "      <td>...</td>\n",
       "      <td>...</td>\n",
       "      <td>...</td>\n",
       "      <td>...</td>\n",
       "      <td>...</td>\n",
       "      <td>...</td>\n",
       "      <td>...</td>\n",
       "      <td>...</td>\n",
       "      <td>...</td>\n",
       "      <td>...</td>\n",
       "      <td>...</td>\n",
       "      <td>...</td>\n",
       "      <td>...</td>\n",
       "    </tr>\n",
       "    <tr>\n",
       "      <th>6791</th>\n",
       "      <td>0</td>\n",
       "      <td>0.0</td>\n",
       "      <td>1</td>\n",
       "      <td>1</td>\n",
       "      <td>0</td>\n",
       "      <td>1</td>\n",
       "      <td>1</td>\n",
       "      <td>0</td>\n",
       "      <td>2018.0</td>\n",
       "      <td>110000.0</td>\n",
       "      <td>...</td>\n",
       "      <td>3</td>\n",
       "      <td>1</td>\n",
       "      <td>1</td>\n",
       "      <td>2</td>\n",
       "      <td>2200.0</td>\n",
       "      <td>NaN</td>\n",
       "      <td>1</td>\n",
       "      <td>3</td>\n",
       "      <td>Kia</td>\n",
       "      <td>سبورتاج</td>\n",
       "    </tr>\n",
       "    <tr>\n",
       "      <th>6794</th>\n",
       "      <td>0</td>\n",
       "      <td>1.0</td>\n",
       "      <td>0</td>\n",
       "      <td>0</td>\n",
       "      <td>1</td>\n",
       "      <td>0</td>\n",
       "      <td>1</td>\n",
       "      <td>0</td>\n",
       "      <td>1990.0</td>\n",
       "      <td>4500.0</td>\n",
       "      <td>...</td>\n",
       "      <td>3</td>\n",
       "      <td>1</td>\n",
       "      <td>1</td>\n",
       "      <td>1</td>\n",
       "      <td>1300.0</td>\n",
       "      <td>NaN</td>\n",
       "      <td>1</td>\n",
       "      <td>1</td>\n",
       "      <td>Mitsubishi</td>\n",
       "      <td>لانسر</td>\n",
       "    </tr>\n",
       "    <tr>\n",
       "      <th>6795</th>\n",
       "      <td>0</td>\n",
       "      <td>0.0</td>\n",
       "      <td>0</td>\n",
       "      <td>0</td>\n",
       "      <td>0</td>\n",
       "      <td>0</td>\n",
       "      <td>0</td>\n",
       "      <td>0</td>\n",
       "      <td>1997.0</td>\n",
       "      <td>27000.0</td>\n",
       "      <td>...</td>\n",
       "      <td>1</td>\n",
       "      <td>1</td>\n",
       "      <td>1</td>\n",
       "      <td>2</td>\n",
       "      <td>1500.0</td>\n",
       "      <td>NaN</td>\n",
       "      <td>2</td>\n",
       "      <td>1</td>\n",
       "      <td>Volkswagen</td>\n",
       "      <td>جولف</td>\n",
       "    </tr>\n",
       "    <tr>\n",
       "      <th>6843</th>\n",
       "      <td>0</td>\n",
       "      <td>0.0</td>\n",
       "      <td>0</td>\n",
       "      <td>0</td>\n",
       "      <td>0</td>\n",
       "      <td>0</td>\n",
       "      <td>1</td>\n",
       "      <td>0</td>\n",
       "      <td>2018.0</td>\n",
       "      <td>71990.0</td>\n",
       "      <td>...</td>\n",
       "      <td>3</td>\n",
       "      <td>1</td>\n",
       "      <td>1</td>\n",
       "      <td>2</td>\n",
       "      <td>1900.0</td>\n",
       "      <td>NaN</td>\n",
       "      <td>2</td>\n",
       "      <td>1</td>\n",
       "      <td>Seat</td>\n",
       "      <td>لن</td>\n",
       "    </tr>\n",
       "    <tr>\n",
       "      <th>6863</th>\n",
       "      <td>1</td>\n",
       "      <td>1.0</td>\n",
       "      <td>1</td>\n",
       "      <td>0</td>\n",
       "      <td>1</td>\n",
       "      <td>1</td>\n",
       "      <td>1</td>\n",
       "      <td>0</td>\n",
       "      <td>2014.0</td>\n",
       "      <td>60000.0</td>\n",
       "      <td>...</td>\n",
       "      <td>1</td>\n",
       "      <td>1</td>\n",
       "      <td>1</td>\n",
       "      <td>2</td>\n",
       "      <td>1400.0</td>\n",
       "      <td>NaN</td>\n",
       "      <td>2</td>\n",
       "      <td>1</td>\n",
       "      <td>Volkswagen</td>\n",
       "      <td>بولو</td>\n",
       "    </tr>\n",
       "  </tbody>\n",
       "</table>\n",
       "<p>745 rows × 22 columns</p>\n",
       "</div>"
      ],
      "text/plain": [
       "      air_conditioner  central_closing  alarm_devise  CD_recorder  \\\n",
       "0                   1              1.0             1            1   \n",
       "6                   1              1.0             1            1   \n",
       "12                  1              1.0             1            1   \n",
       "20                  1              1.0             1            1   \n",
       "22                  1              1.0             1            1   \n",
       "...               ...              ...           ...          ...   \n",
       "6791                0              0.0             1            1   \n",
       "6794                0              1.0             0            0   \n",
       "6795                0              0.0             0            0   \n",
       "6843                0              0.0             0            0   \n",
       "6863                1              1.0             1            0   \n",
       "\n",
       "      leather_upholstery  air_cushion  magnesium_rims  sunroof  model_car  \\\n",
       "0                      1            1               0        0     2008.0   \n",
       "6                      1            1               1        0     1999.0   \n",
       "12                     1            1               0        0     2001.0   \n",
       "20                     1            1               1        0     2012.0   \n",
       "22                     1            1               1        1     2015.0   \n",
       "...                  ...          ...             ...      ...        ...   \n",
       "6791                   0            1               1        0     2018.0   \n",
       "6794                   1            0               1        0     1990.0   \n",
       "6795                   0            0               0        0     1997.0   \n",
       "6843                   0            0               1        0     2018.0   \n",
       "6863                   1            1               1        0     2014.0   \n",
       "\n",
       "      price_car  ... ex_owners  car_license  lime_type  glass  motor_power  \\\n",
       "0       44000.0  ...         1            1          3      2       1600.0   \n",
       "6       50000.0  ...         4            1          3      2       2200.0   \n",
       "12      25000.0  ...         4            1          1      2       1900.0   \n",
       "20      68000.0  ...         1            1          3      2       2000.0   \n",
       "22     175000.0  ...         0            1          3      2       2500.0   \n",
       "...         ...  ...       ...          ...        ...    ...          ...   \n",
       "6791   110000.0  ...         3            1          1      2       2200.0   \n",
       "6794     4500.0  ...         3            1          1      1       1300.0   \n",
       "6795    27000.0  ...         1            1          1      2       1500.0   \n",
       "6843    71990.0  ...         3            1          1      2       1900.0   \n",
       "6863    60000.0  ...         1            1          1      2       1400.0   \n",
       "\n",
       "      passengers  payment_method  displayed       brand     type  \n",
       "0            NaN               2          1         Kia    برايد  \n",
       "6            NaN               2          3    Mercedes      220  \n",
       "12           NaN               2          3        Seat    قرطبة  \n",
       "20           NaN               2          3     Hyundai    توسان  \n",
       "22           NaN               1          1    Mercedes     C250  \n",
       "...          ...             ...        ...         ...      ...  \n",
       "6791         NaN               1          3         Kia  سبورتاج  \n",
       "6794         NaN               1          1  Mitsubishi    لانسر  \n",
       "6795         NaN               2          1  Volkswagen     جولف  \n",
       "6843         NaN               2          1        Seat       لن  \n",
       "6863         NaN               2          1  Volkswagen     بولو  \n",
       "\n",
       "[745 rows x 22 columns]"
      ]
     },
     "execution_count": 7444,
     "metadata": {},
     "output_type": "execute_result"
    }
   ],
   "source": [
    "missing_values = df[df[\"passengers\"].isna()]\n",
    "missing_values"
   ]
  },
  {
   "cell_type": "code",
   "execution_count": 7445,
   "metadata": {},
   "outputs": [
    {
     "data": {
      "text/plain": [
       "5"
      ]
     },
     "execution_count": 7445,
     "metadata": {},
     "output_type": "execute_result"
    }
   ],
   "source": [
    "int (df[df[\"origin_car\"]==1][\"passengers\"].mean())"
   ]
  },
  {
   "cell_type": "code",
   "execution_count": 7446,
   "metadata": {},
   "outputs": [
    {
     "data": {
      "text/plain": [
       "6"
      ]
     },
     "execution_count": 7446,
     "metadata": {},
     "output_type": "execute_result"
    }
   ],
   "source": [
    "df[df[\"origin_car\"]==1][\"passengers\"].isna().sum()"
   ]
  },
  {
   "cell_type": "markdown",
   "metadata": {},
   "source": [
    "<div style=\"padding: 10px; background-color: #F52887; margin: 0; color: #e7d954; font-family: newtimeroman; font-size: 150%; text-align: left; border-radius: 15px; overflow: hidden; font-weight: 1000; width: 60%; float: left;\"> when origin_car == 1  (حكومي)  , we have 6 missing value in columne passengers\n",
    "\n",
    "</div>\n"
   ]
  },
  {
   "cell_type": "code",
   "execution_count": 7447,
   "metadata": {},
   "outputs": [
    {
     "data": {
      "text/plain": [
       "4"
      ]
     },
     "execution_count": 7447,
     "metadata": {},
     "output_type": "execute_result"
    }
   ],
   "source": [
    "int (df[df[\"origin_car\"]==2][\"passengers\"].mean())"
   ]
  },
  {
   "cell_type": "code",
   "execution_count": 7448,
   "metadata": {},
   "outputs": [
    {
     "data": {
      "text/plain": [
       "15"
      ]
     },
     "execution_count": 7448,
     "metadata": {},
     "output_type": "execute_result"
    }
   ],
   "source": [
    "df[df[\"origin_car\"]==2][\"passengers\"].isna().sum()"
   ]
  },
  {
   "cell_type": "markdown",
   "metadata": {},
   "source": [
    "<div style=\"padding: 10px; background-color: #F52887; margin: 0; color: #e7d954; font-family: newtimeroman; font-size: 150%; text-align: left; border-radius: 15px; overflow: hidden; font-weight: 1000; width: 60%; float: left;\"> when origin_car == 2 (تأجير)  , we have 15 missing value in columne passengers \n",
    "\n",
    "\n",
    "</div>\n"
   ]
  },
  {
   "cell_type": "code",
   "execution_count": 7449,
   "metadata": {},
   "outputs": [
    {
     "data": {
      "text/plain": [
       "4"
      ]
     },
     "execution_count": 7449,
     "metadata": {},
     "output_type": "execute_result"
    }
   ],
   "source": [
    "int (df[df[\"origin_car\"]==3][\"passengers\"].mean())"
   ]
  },
  {
   "cell_type": "code",
   "execution_count": 7450,
   "metadata": {},
   "outputs": [
    {
     "data": {
      "text/plain": [
       "7"
      ]
     },
     "execution_count": 7450,
     "metadata": {},
     "output_type": "execute_result"
    }
   ],
   "source": [
    "df[df[\"origin_car\"]==3][\"passengers\"].isna().sum()"
   ]
  },
  {
   "cell_type": "markdown",
   "metadata": {},
   "source": [
    "<div style=\"padding: 10px; background-color: #F52887; margin: 0; color: #e7d954; font-family: newtimeroman; font-size: 150%; text-align: left; border-radius: 15px; overflow: hidden; font-weight: 1000; width: 60%; float: left;\">when origin_car == 3 (تدريب)  , we have 7 missing value in columne passengers \n",
    "\n",
    "\n",
    "</div>\n"
   ]
  },
  {
   "cell_type": "code",
   "execution_count": 7451,
   "metadata": {},
   "outputs": [
    {
     "data": {
      "text/plain": [
       "5"
      ]
     },
     "execution_count": 7451,
     "metadata": {},
     "output_type": "execute_result"
    }
   ],
   "source": [
    "int (df[df[\"origin_car\"]==4][\"passengers\"].mean())"
   ]
  },
  {
   "cell_type": "code",
   "execution_count": 7452,
   "metadata": {},
   "outputs": [
    {
     "data": {
      "text/plain": [
       "75"
      ]
     },
     "execution_count": 7452,
     "metadata": {},
     "output_type": "execute_result"
    }
   ],
   "source": [
    "df[df[\"origin_car\"]==5][\"passengers\"].isna().sum()"
   ]
  },
  {
   "cell_type": "markdown",
   "metadata": {},
   "source": [
    "\n",
    "<div style=\"padding: 10px; background-color: #F52887; margin: 0; color: #e7d954; font-family: newtimeroman; font-size: 150%; text-align: left; border-radius: 15px; overflow: hidden; font-weight: 1000; width: 60%; float: left;\">when origin_car == 4 (خصوصي)  , we have 571 missing value in columne passengers \n",
    "\n",
    "</div>\n",
    "\n"
   ]
  },
  {
   "cell_type": "code",
   "execution_count": 7453,
   "metadata": {},
   "outputs": [
    {
     "data": {
      "text/plain": [
       "4"
      ]
     },
     "execution_count": 7453,
     "metadata": {},
     "output_type": "execute_result"
    }
   ],
   "source": [
    "int (df[df[\"origin_car\"]==6][\"passengers\"].mean())"
   ]
  },
  {
   "cell_type": "markdown",
   "metadata": {},
   "source": [
    "<div style=\"padding: 10px; background-color: #F52887; margin: 0; color: #e7d954; font-family: newtimeroman; font-size: 150%; text-align: left; border-radius: 15px; overflow: hidden; font-weight: 1000; width: 60%; float: left;\">when origin_car == 5 (عمومي)  , we have 59 missing value in columne passengers \n",
    "</div>\n",
    "\n"
   ]
  },
  {
   "cell_type": "code",
   "execution_count": 7454,
   "metadata": {},
   "outputs": [
    {
     "data": {
      "text/plain": [
       "5"
      ]
     },
     "execution_count": 7454,
     "metadata": {},
     "output_type": "execute_result"
    }
   ],
   "source": [
    "int (df[df[\"origin_car\"]==5][\"passengers\"].mean())"
   ]
  },
  {
   "cell_type": "markdown",
   "metadata": {},
   "source": [
    "<div style=\"padding: 10px; background-color: #F52887; margin: 0; color: #e7d954; font-family: newtimeroman; font-size: 150%; text-align: left; border-radius: 15px; overflow: hidden; font-weight: 1000; width: 60%; float: left;\">when origin_car == 6 (تجاري)  , we have 26 missing value in columne passengers \n",
    "</div>\n",
    "\n"
   ]
  },
  {
   "cell_type": "code",
   "execution_count": 7455,
   "metadata": {},
   "outputs": [
    {
     "data": {
      "text/plain": [
       "4"
      ]
     },
     "execution_count": 7455,
     "metadata": {},
     "output_type": "execute_result"
    }
   ],
   "source": [
    "int (df[df[\"origin_car\"]==6][\"passengers\"].mean())"
   ]
  },
  {
   "cell_type": "code",
   "execution_count": 7456,
   "metadata": {},
   "outputs": [],
   "source": [
    "df[\"passengers\"].replace(4, 5, inplace=True)\n"
   ]
  },
  {
   "cell_type": "markdown",
   "metadata": {},
   "source": [
    "<div style=\"padding: 10px; background-color: #F52887; margin: 0; color: #e7d954; font-family: newtimeroman; font-size: 150%; text-align: left; border-radius: 15px; overflow: hidden; font-weight: 1000; width: 60%; float: left;\">There is no car with 4 passengers ,Rather, the number of passengers is 4 and one driver, so it becomes 5\n",
    "</div>\n",
    "\n"
   ]
  },
  {
   "cell_type": "code",
   "execution_count": 7457,
   "metadata": {},
   "outputs": [],
   "source": [
    "df[\"passengers\"].replace({22: 5, 104: 10}, inplace=True)\n"
   ]
  },
  {
   "cell_type": "markdown",
   "metadata": {},
   "source": [
    "<div style=\"padding: 10px; background-color: #F52887; margin: 0; color: #e7d954; font-family: newtimeroman; font-size: 150%; text-align: left; border-radius: 15px; overflow: hidden; font-weight: 1000; width: 60%; float: left;\"> this value is outlier [104 , 22 ]\n",
    "</div>\n",
    "\n"
   ]
  },
  {
   "cell_type": "code",
   "execution_count": 7458,
   "metadata": {},
   "outputs": [
    {
     "data": {
      "text/plain": [
       "5.0     4299\n",
       "7.0      535\n",
       "8.0      152\n",
       "3.0       94\n",
       "6.0       81\n",
       "2.0       42\n",
       "9.0       15\n",
       "10.0      10\n",
       "Name: passengers, dtype: int64"
      ]
     },
     "execution_count": 7458,
     "metadata": {},
     "output_type": "execute_result"
    }
   ],
   "source": [
    "df[\"passengers\"].value_counts()"
   ]
  },
  {
   "cell_type": "code",
   "execution_count": 7459,
   "metadata": {},
   "outputs": [],
   "source": [
    "df['passengers'].fillna(5, inplace=True)\n",
    "df[\"passengers\"].replace({22: 5, 104: 10}, inplace=True)\n"
   ]
  },
  {
   "cell_type": "code",
   "execution_count": 7460,
   "metadata": {},
   "outputs": [
    {
     "data": {
      "text/plain": [
       "array([ 5.,  6.,  2.,  9.,  7.,  8.,  3., 10.])"
      ]
     },
     "execution_count": 7460,
     "metadata": {},
     "output_type": "execute_result"
    }
   ],
   "source": [
    "df[\"passengers\"].unique()"
   ]
  },
  {
   "cell_type": "code",
   "execution_count": 7461,
   "metadata": {},
   "outputs": [
    {
     "name": "stdout",
     "output_type": "stream",
     "text": [
      "Standard Deviation of Passengers: 0.8683858092997699\n"
     ]
    }
   ],
   "source": [
    "std_passengers = df['passengers'].std()\n",
    "print(\"Standard Deviation of Passengers:\", std_passengers)\n"
   ]
  },
  {
   "cell_type": "code",
   "execution_count": 7462,
   "metadata": {},
   "outputs": [
    {
     "data": {
      "text/plain": [
       "0"
      ]
     },
     "execution_count": 7462,
     "metadata": {},
     "output_type": "execute_result"
    }
   ],
   "source": [
    "df[\"passengers\"].isna().sum()"
   ]
  },
  {
   "cell_type": "code",
   "execution_count": 7463,
   "metadata": {},
   "outputs": [
    {
     "data": {
      "text/plain": [
       "array([ 5.,  6.,  2.,  9.,  7.,  8.,  3., 10.])"
      ]
     },
     "execution_count": 7463,
     "metadata": {},
     "output_type": "execute_result"
    }
   ],
   "source": [
    "df[\"passengers\"].unique()"
   ]
  },
  {
   "cell_type": "code",
   "execution_count": 7464,
   "metadata": {},
   "outputs": [
    {
     "name": "stdout",
     "output_type": "stream",
     "text": [
      "<class 'pandas.core.series.Series'>\n",
      "Int64Index: 5973 entries, 0 to 6863\n",
      "Series name: passengers\n",
      "Non-Null Count  Dtype  \n",
      "--------------  -----  \n",
      "5973 non-null   float64\n",
      "dtypes: float64(1)\n",
      "memory usage: 93.3 KB\n"
     ]
    }
   ],
   "source": [
    "df[\"passengers\"].info()"
   ]
  },
  {
   "cell_type": "code",
   "execution_count": 7465,
   "metadata": {},
   "outputs": [],
   "source": [
    "df['passengers'] = df['passengers'].astype(int)"
   ]
  },
  {
   "cell_type": "markdown",
   "metadata": {},
   "source": [
    "----"
   ]
  },
  {
   "cell_type": "markdown",
   "metadata": {},
   "source": [
    "\n",
    "<div style=\"padding: 10px; background-color: #808080; margin: 0; color: #e7d954; font-family: newtimeroman; font-size: 150%; text-align: left; border-radius: 15px; overflow: hidden; font-weight: 1000; width: 60%; float: left;\">  power motor  \n",
    "</div>\n",
    "<p style=\"text-align: center;\">\n",
    "    <img src=\"https://media.giphy.com/media/xBq8N1Opc2FEeQZVcY/giphy.gif\" style=\"width: 200px; height: 100px;\">\n",
    "</p>\n",
    "\n"
   ]
  },
  {
   "cell_type": "code",
   "execution_count": 7466,
   "metadata": {},
   "outputs": [
    {
     "data": {
      "text/plain": [
       "count    5973.000000\n",
       "mean     1741.007366\n",
       "std       595.942319\n",
       "min       106.000000\n",
       "25%      1400.000000\n",
       "50%      1600.000000\n",
       "75%      2000.000000\n",
       "max      9000.000000\n",
       "Name: motor_power, dtype: float64"
      ]
     },
     "execution_count": 7466,
     "metadata": {},
     "output_type": "execute_result"
    }
   ],
   "source": [
    "df[\"motor_power\"].describe()"
   ]
  },
  {
   "cell_type": "code",
   "execution_count": 7467,
   "metadata": {},
   "outputs": [],
   "source": [
    "\n",
    "z_scores = stats.zscore(df['motor_power'])\n",
    "threshold = 3## \n",
    "outliers = df['motor_power'][abs(z_scores) > threshold]\n",
    "df = df[abs(z_scores) <= threshold]"
   ]
  },
  {
   "cell_type": "code",
   "execution_count": 7468,
   "metadata": {},
   "outputs": [
    {
     "data": {
      "text/plain": [
       "count    5908.00000\n",
       "mean     1705.25914\n",
       "std       470.02904\n",
       "min       106.00000\n",
       "25%      1400.00000\n",
       "50%      1600.00000\n",
       "75%      2000.00000\n",
       "max      3500.00000\n",
       "Name: motor_power, dtype: float64"
      ]
     },
     "execution_count": 7468,
     "metadata": {},
     "output_type": "execute_result"
    }
   ],
   "source": [
    "\n",
    "df[\"motor_power\"].describe()\n"
   ]
  },
  {
   "cell_type": "code",
   "execution_count": 7469,
   "metadata": {},
   "outputs": [],
   "source": [
    "\n",
    "min=df['motor_power'].min()\n",
    "max =df['motor_power'].max()"
   ]
  },
  {
   "cell_type": "code",
   "execution_count": 7470,
   "metadata": {},
   "outputs": [
    {
     "data": {
      "text/plain": [
       "3500.0"
      ]
     },
     "execution_count": 7470,
     "metadata": {},
     "output_type": "execute_result"
    }
   ],
   "source": [
    "max"
   ]
  },
  {
   "cell_type": "markdown",
   "metadata": {},
   "source": [
    " \n",
    "<div style=\"padding: 10px; background-color: #0000; margin: 0 auto; color: #e7d954; font-family: newtimeroman; font-size: 150%; text-align: center; border-radius: 15px; overflow: hidden; font-weight: 1000; width: 100%;\"> --------------------------------------------------------------------------------------------------------------------------------------------------------</div>"
   ]
  },
  {
   "cell_type": "markdown",
   "metadata": {},
   "source": [
    " \n",
    "</div>\n",
    "<p style=\"text-align: center;\">\n",
    "    <img src=\"https://media.giphy.com/media/nNOAPjUdo4mpZFkDf8/giphy.gif\" style=\"width: 500px; height: 250px;\">\n",
    "</p>\n",
    " \n",
    "<div style=\"padding: 10px; background-color: #960018; margin: 0 auto; color: #e7d954; font-family: newtimeroman; font-size: 150%; text-align: center; border-radius: 15px; overflow: hidden; font-weight: 1000; width: 100%;\"> Display data  </div>\n",
    "\n",
    "\n"
   ]
  },
  {
   "cell_type": "markdown",
   "metadata": {},
   "source": [
    " \n",
    "<div style=\"padding: 10px; background-color: #0000; margin: 0 auto; color: #e7d954; font-family: newtimeroman; font-size: 150%; text-align: center; border-radius: 15px; overflow: hidden; font-weight: 1000; width: 100%;\"> ------------------------------------------------------------------------------------------------------------------------------------------------------</div>"
   ]
  },
  {
   "cell_type": "markdown",
   "metadata": {},
   "source": [
    " <div style=\"padding: 10px; background-color: #808080; margin: 0; color: #e7d954; font-family: newtimeroman; font-size: 150%; text-align: left; border-radius: 15px; overflow: hidden; font-weight: 1000; width: 60%; float: left;\">  price_car \n",
    " \n",
    "\n",
    "\n",
    "</div>\n",
    "<p style=\"text-align: center;\">\n",
    "    <img src=\"https://media.giphy.com/media/xBq8N1Opc2FEeQZVcY/giphy.gif\" style=\"width: 200px; height: 100px;\">\n",
    "</p>\n",
    "\n"
   ]
  },
  {
   "cell_type": "code",
   "execution_count": 7471,
   "metadata": {},
   "outputs": [
    {
     "data": {
      "text/plain": [
       "count      5908.000000\n",
       "mean      62713.230704\n",
       "std       39466.178355\n",
       "min        1111.000000\n",
       "25%       36000.000000\n",
       "50%       55000.000000\n",
       "75%       80000.000000\n",
       "max      238000.000000\n",
       "Name: price_car, dtype: float64"
      ]
     },
     "execution_count": 7471,
     "metadata": {},
     "output_type": "execute_result"
    }
   ],
   "source": [
    "df[\"price_car\"].describe()"
   ]
  },
  {
   "cell_type": "code",
   "execution_count": 7472,
   "metadata": {},
   "outputs": [
    {
     "name": "stderr",
     "output_type": "stream",
     "text": [
      "/var/folders/mt/p77p8b6n2sbdwdd7mqm0yz280000gp/T/ipykernel_19687/1353023272.py:1: UserWarning:\n",
      "\n",
      "\n",
      "\n",
      "`distplot` is a deprecated function and will be removed in seaborn v0.14.0.\n",
      "\n",
      "Please adapt your code to use either `displot` (a figure-level function with\n",
      "similar flexibility) or `histplot` (an axes-level function for histograms).\n",
      "\n",
      "For a guide to updating your code to use the new functions, please see\n",
      "https://gist.github.com/mwaskom/de44147ed2974457ad6372750bbe5751\n",
      "\n",
      "\n"
     ]
    },
    {
     "data": {
      "image/png": "[encoded data removed]",
      "text/plain": [
       "<Figure size 640x480 with 1 Axes>"
      ]
     },
     "metadata": {},
     "output_type": "display_data"
    }
   ],
   "source": [
    "sns.distplot(df['price_car'],kde=True)\n",
    "plt.show()"
   ]
  },
  {
   "cell_type": "markdown",
   "metadata": {},
   "source": [
    "            Price distribution plot is right skewed \n",
    "            maximum number of cars are in range price of\n",
    "            30000 to 60000"
   ]
  },
  {
   "cell_type": "markdown",
   "metadata": {},
   "source": [
    "----"
   ]
  },
  {
   "cell_type": "markdown",
   "metadata": {},
   "source": [
    "## Visualise different car names(brand)\n"
   ]
  },
  {
   "cell_type": "code",
   "execution_count": 7473,
   "metadata": {},
   "outputs": [],
   "source": [
    "brand_df=pd.DataFrame(df['brand'].value_counts()).reset_index().rename(columns={'index':'brand','brand': 'count'})"
   ]
  },
  {
   "cell_type": "code",
   "execution_count": 7474,
   "metadata": {},
   "outputs": [
    {
     "data": {
      "text/html": [
       "<div>\n",
       "<style scoped>\n",
       "    .dataframe tbody tr th:only-of-type {\n",
       "        vertical-align: middle;\n",
       "    }\n",
       "\n",
       "    .dataframe tbody tr th {\n",
       "        vertical-align: top;\n",
       "    }\n",
       "\n",
       "    .dataframe thead th {\n",
       "        text-align: right;\n",
       "    }\n",
       "</style>\n",
       "<table border=\"1\" class=\"dataframe\">\n",
       "  <thead>\n",
       "    <tr style=\"text-align: right;\">\n",
       "      <th></th>\n",
       "      <th>brand</th>\n",
       "      <th>count</th>\n",
       "    </tr>\n",
       "  </thead>\n",
       "  <tbody>\n",
       "    <tr>\n",
       "      <th>0</th>\n",
       "      <td>Volkswagen</td>\n",
       "      <td>1013</td>\n",
       "    </tr>\n",
       "    <tr>\n",
       "      <th>1</th>\n",
       "      <td>Hyundai</td>\n",
       "      <td>908</td>\n",
       "    </tr>\n",
       "    <tr>\n",
       "      <th>2</th>\n",
       "      <td>Kia</td>\n",
       "      <td>729</td>\n",
       "    </tr>\n",
       "    <tr>\n",
       "      <th>3</th>\n",
       "      <td>Skoda</td>\n",
       "      <td>660</td>\n",
       "    </tr>\n",
       "    <tr>\n",
       "      <th>4</th>\n",
       "      <td>Opel</td>\n",
       "      <td>427</td>\n",
       "    </tr>\n",
       "  </tbody>\n",
       "</table>\n",
       "</div>"
      ],
      "text/plain": [
       "        brand  count\n",
       "0  Volkswagen   1013\n",
       "1     Hyundai    908\n",
       "2         Kia    729\n",
       "3       Skoda    660\n",
       "4        Opel    427"
      ]
     },
     "execution_count": 7474,
     "metadata": {},
     "output_type": "execute_result"
    }
   ],
   "source": [
    "brand_df.head()"
   ]
  },
  {
   "cell_type": "code",
   "execution_count": 7475,
   "metadata": {},
   "outputs": [
    {
     "data": {
      "image/png": "[encoded data removed]",
      "text/plain": [
       "<Figure size 640x480 with 1 Axes>"
      ]
     },
     "metadata": {},
     "output_type": "display_data"
    }
   ],
   "source": [
    "sns.set_style(\"whitegrid\")\n",
    "sns.set_context(\"paper\", font_scale=0.9)  \n",
    "plot = sns.barplot(y='brand', x='count', data=brand_df, palette='viridis')  \n",
    "plt.setp(plot.get_xticklabels(), rotation=80)\n",
    "plt.show()"
   ]
  },
  {
   "cell_type": "markdown",
   "metadata": {},
   "source": [
    "## Statistics of cars for sale:\n",
    "The Volkswagen is the most widely available and most widespread car in Palestine\n",
    "\n",
    "\n",
    "The Daihatsu ,Cadillac  is the least widely available and least common car in Palestine"
   ]
  },
  {
   "cell_type": "markdown",
   "metadata": {},
   "source": [
    "----"
   ]
  },
  {
   "cell_type": "markdown",
   "metadata": {},
   "source": [
    "<div style=\"padding: 10px; background-color: #808080; margin: 0; color: #e7d954; font-family: newtimeroman; font-size: 150%; text-align: left; border-radius: 15px; overflow: hidden; font-weight: 1000; width: 60%; float: left;\">  Fuel type \n",
    "\n",
    "\n",
    "</div>\n",
    "<p style=\"text-align: center;\">\n",
    "    <img src=\"https://media.giphy.com/media/xBq8N1Opc2FEeQZVcY/giphy.gif\" style=\"width: 200px; height: 100px;\">\n",
    "</p>\n",
    "\n"
   ]
  },
  {
   "cell_type": "code",
   "execution_count": 7476,
   "metadata": {},
   "outputs": [
    {
     "data": {
      "image/png": "[encoded data removed]",
      "text/plain": [
       "<Figure size 700x500 with 1 Axes>"
      ]
     },
     "metadata": {},
     "output_type": "display_data"
    }
   ],
   "source": [
    "plot = df['fuel_type'].value_counts().plot.pie(startangle=90, figsize=(7, 5))\n",
    "plt.axis('equal')  \n",
    "\n",
    "plt.show()"
   ]
  },
  {
   "cell_type": "markdown",
   "metadata": {},
   "source": [
    "#### Most of the car has petrol fuel\n"
   ]
  },
  {
   "cell_type": "markdown",
   "metadata": {},
   "source": [
    "----"
   ]
  },
  {
   "cell_type": "markdown",
   "metadata": {},
   "source": [
    "\n",
    "\n",
    "<div style=\"padding: 10px; background-color: #808080; margin: 0; color: #e7d954; font-family: newtimeroman; font-size: 150%; text-align: left; border-radius: 15px; overflow: hidden; font-weight: 1000; width: 60%; float: left;\">  passengers\n",
    "\n",
    "\n",
    "</div>\n",
    "<p style=\"text-align: center;\">\n",
    "    <img src=\"https://media.giphy.com/media/xBq8N1Opc2FEeQZVcY/giphy.gif\" style=\"width: 200px; height: 100px;\">\n",
    "</p>\n",
    "\n"
   ]
  },
  {
   "cell_type": "code",
   "execution_count": 7477,
   "metadata": {},
   "outputs": [
    {
     "data": {
      "image/png": "[encoded data removed]",
      "text/plain": [
       "<Figure size 1000x900 with 1 Axes>"
      ]
     },
     "metadata": {},
     "output_type": "display_data"
    }
   ],
   "source": [
    "plot = df['passengers'].value_counts().plot.pie(autopct='%1.1f%%', startangle=120, figsize=(10,9))\n",
    "plt.axis('equal')  \n",
    "\n",
    "plt.show()"
   ]
  },
  {
   "cell_type": "code",
   "execution_count": 7478,
   "metadata": {},
   "outputs": [
    {
     "name": "stderr",
     "output_type": "stream",
     "text": [
      "/var/folders/mt/p77p8b6n2sbdwdd7mqm0yz280000gp/T/ipykernel_19687/1593640805.py:4: UserWarning:\n",
      "\n",
      "\n",
      "\n",
      "`distplot` is a deprecated function and will be removed in seaborn v0.14.0.\n",
      "\n",
      "Please adapt your code to use either `displot` (a figure-level function with\n",
      "similar flexibility) or `histplot` (an axes-level function for histograms).\n",
      "\n",
      "For a guide to updating your code to use the new functions, please see\n",
      "https://gist.github.com/mwaskom/de44147ed2974457ad6372750bbe5751\n",
      "\n",
      "\n",
      "/var/folders/mt/p77p8b6n2sbdwdd7mqm0yz280000gp/T/ipykernel_19687/1593640805.py:8: UserWarning:\n",
      "\n",
      "\n",
      "\n",
      "`distplot` is a deprecated function and will be removed in seaborn v0.14.0.\n",
      "\n",
      "Please adapt your code to use either `displot` (a figure-level function with\n",
      "similar flexibility) or `histplot` (an axes-level function for histograms).\n",
      "\n",
      "For a guide to updating your code to use the new functions, please see\n",
      "https://gist.github.com/mwaskom/de44147ed2974457ad6372750bbe5751\n",
      "\n",
      "\n"
     ]
    },
    {
     "data": {
      "text/plain": [
       "Text(0.5, 1.0, 'Price distribution of cars having 5 passengers')"
      ]
     },
     "execution_count": 7478,
     "metadata": {},
     "output_type": "execute_result"
    },
    {
     "data": {
      "image/png": "[encoded data removed]",
      "text/plain": [
       "<Figure size 1200x500 with 2 Axes>"
      ]
     },
     "metadata": {},
     "output_type": "display_data"
    }
   ],
   "source": [
    "f= plt.figure(figsize=(12,5))\n",
    "\n",
    "ax=f.add_subplot(121)\n",
    "plot=sns.distplot(df[(df.passengers== 7)][\"price_car\"],color='#ca91eb',ax=ax)\n",
    "ax.set_title('Price distribution of cars having 7 passengers')\n",
    "\n",
    "ax=f.add_subplot(122)\n",
    "plot=sns.distplot(df[(df.passengers == 5)]['price_car'],color='#eb6426',ax=ax)\n",
    "ax.set_title('Price distribution of cars having 5 passengers')"
   ]
  },
  {
   "cell_type": "markdown",
   "metadata": {},
   "source": [
    "\n",
    "                The graph shows car price distribution based on passenger capacity. \n",
    "                5 passenger cars concentrate more on lower prices [50,000$], with a steeper slope. \n",
    "                7 passenger cars have a peak at $100,000, indicating a higher number in that price range"
   ]
  },
  {
   "cell_type": "code",
   "execution_count": 7479,
   "metadata": {},
   "outputs": [
    {
     "data": {
      "image/png": "[encoded data removed]",
      "text/plain": [
       "<Figure size 640x480 with 2 Axes>"
      ]
     },
     "metadata": {},
     "output_type": "display_data"
    }
   ],
   "source": [
    "ct_counts = pd.crosstab(df['passengers'], df['origin_car'])\n",
    "sns.heatmap(ct_counts, annot=True, cmap='YlGnBu', fmt='g')\n",
    "plt.xlabel('Category in origin_car')\n",
    "plt.ylabel('Category in passengers')\n",
    "plt.title('Heatmap between two categorical columns')\n",
    "plt.show()\n",
    "\n"
   ]
  },
  {
   "cell_type": "markdown",
   "metadata": {},
   "source": [
    "## The cars with 5 seats for passengers and classified as private in the dataset are those that have both a seat count of 5 and a car type labeled as 'Private'. "
   ]
  },
  {
   "cell_type": "markdown",
   "metadata": {},
   "source": [
    "------"
   ]
  },
  {
   "cell_type": "markdown",
   "metadata": {},
   "source": [
    "<div style=\"padding: 10px; background-color: #808080; margin: 0; color: #e7d954; font-family: newtimeroman; font-size: 150%; text-align: left; border-radius: 15px; overflow: hidden; font-weight: 1000; width: 60%; float: left;\">  origin_car\n",
    "\n",
    "\n",
    "</div>\n",
    "<p style=\"text-align: center;\">\n",
    "    <img src=\"https://media.giphy.com/media/xBq8N1Opc2FEeQZVcY/giphy.gif\" style=\"width: 200px; height: 100px;\">\n",
    "</p>\n",
    "\n"
   ]
  },
  {
   "cell_type": "code",
   "execution_count": 7480,
   "metadata": {},
   "outputs": [
    {
     "data": {
      "image/png": "[encoded data removed]",
      "text/plain": [
       "<Figure size 1000x900 with 1 Axes>"
      ]
     },
     "metadata": {},
     "output_type": "display_data"
    }
   ],
   "source": [
    "plot = df['origin_car'].value_counts().plot.pie(autopct='%1.1f%%', startangle=120, figsize=(10,9))\n",
    "plt.axis('equal')  \n",
    "\n",
    "plt.show()"
   ]
  },
  {
   "cell_type": "code",
   "execution_count": 7481,
   "metadata": {},
   "outputs": [
    {
     "data": {
      "image/png": "[encoded data removed]",
      "text/plain": [
       "<Figure size 640x480 with 1 Axes>"
      ]
     },
     "metadata": {},
     "output_type": "display_data"
    }
   ],
   "source": [
    "sns.barplot(x='origin_car', y='passengers', data=df)\n",
    "plt.show()"
   ]
  },
  {
   "cell_type": "markdown",
   "metadata": {},
   "source": [
    "                    The highest value is public. Therefore, we understand that the most advertised car for sale is of type public"
   ]
  },
  {
   "cell_type": "markdown",
   "metadata": {},
   "source": [
    "\n",
    " \n",
    "<div style=\"padding: 10px; background-color: #0000; margin: 0 auto; color: #e7d954; font-family: newtimeroman; font-size: 150%; text-align: center; border-radius: 15px; overflow: hidden; font-weight: 1000; width: 100%;\"> --------------------------------------------------------------------------------------------------------------------------------------------------------</div> \n",
    "</div>\n",
    " \n",
    " \n",
    "<div style=\"padding: 10px; background-color: #960018; margin: 0 auto; color: #e7d954; font-family: newtimeroman; font-size: 150%; text-align: center; border-radius: 15px; overflow: hidden; font-weight: 1000; width: 100%;\"> Increased weight of additions\n",
    "   </div>\n",
    "\n",
    " \n",
    "<div style=\"padding: 10px; background-color: #0000; margin: 0 auto; color: #e7d954; font-family: newtimeroman; font-size: 150%; text-align: center; border-radius: 15px; overflow: hidden; font-weight: 1000; width: 100%;\"> --------------------------------------------------------------------------------------------------------------------------------------------------------</div>\n"
   ]
  },
  {
   "cell_type": "code",
   "execution_count": 7482,
   "metadata": {},
   "outputs": [],
   "source": [
    "df[\"sunroof\"] = df[\"sunroof\"].replace(1, 30)\n",
    "columns_to_sum = ['air_conditioner', 'central_closing', 'alarm_devise', 'CD_recorder', \n",
    "                  'leather_upholstery', 'air_cushion', 'magnesium_rims', 'sunroof']\n",
    "df['additions'] = df.apply(lambda row: row[columns_to_sum].sum(), axis=1)\n"
   ]
  },
  {
   "cell_type": "code",
   "execution_count": 7483,
   "metadata": {},
   "outputs": [
    {
     "data": {
      "text/plain": [
       "0        6.0\n",
       "1        6.0\n",
       "2       37.0\n",
       "3        7.0\n",
       "4        7.0\n",
       "        ... \n",
       "6856     5.0\n",
       "6857     5.0\n",
       "6858     7.0\n",
       "6860    36.0\n",
       "6863     6.0\n",
       "Name: additions, Length: 5908, dtype: float64"
      ]
     },
     "execution_count": 7483,
     "metadata": {},
     "output_type": "execute_result"
    }
   ],
   "source": [
    "df['additions']"
   ]
  },
  {
   "cell_type": "code",
   "execution_count": 7484,
   "metadata": {},
   "outputs": [],
   "source": [
    "\n",
    "df['additions'] = df['additions'] ** 2"
   ]
  },
  {
   "cell_type": "code",
   "execution_count": 7485,
   "metadata": {},
   "outputs": [],
   "source": [
    "average_price = df['price_car'].mean()\n"
   ]
  },
  {
   "cell_type": "code",
   "execution_count": 7486,
   "metadata": {},
   "outputs": [
    {
     "data": {
      "text/plain": [
       "0    4566\n",
       "1    1342\n",
       "Name: additionsPlus, dtype: int64"
      ]
     },
     "execution_count": 7486,
     "metadata": {},
     "output_type": "execute_result"
    }
   ],
   "source": [
    "\n",
    "df['additionsPlus'] = df.apply(lambda row: 1 if (row['additions'] > 36) and (row['price_car'] > average_price) else 0, axis=1)\n",
    "\n",
    "df['additionsPlus'].value_counts()"
   ]
  },
  {
   "cell_type": "markdown",
   "metadata": {},
   "source": [
    "-------"
   ]
  },
  {
   "cell_type": "markdown",
   "metadata": {},
   "source": [
    "\n",
    "\n",
    "\n",
    " \n",
    "<div style=\"padding: 10px; background-color: #0000; margin: 0 auto; color: #e7d954; font-family: newtimeroman; font-size: 150%; text-align: center; border-radius: 15px; overflow: hidden; font-weight: 1000; width: 100%;\"> --------------------------------------------------------------------------------------------------------------------------------------------------------</div> \n",
    "</div>\n",
    " \n",
    " \n",
    "<div style=\"padding: 10px; background-color: #960018; margin: 0 auto; color: #e7d954; font-family: newtimeroman; font-size: 150%; text-align: center; border-radius: 15px; overflow: hidden; font-weight: 1000; width: 100%;\">  Knowing the relationships between columns and increasing the relationship\n",
    "\n",
    "   </div>\n",
    "\n",
    " \n",
    "<div style=\"padding: 10px; background-color: #0000; margin: 0 auto; color: #e7d954; font-family: newtimeroman; font-size: 150%; text-align: center; border-radius: 15px; overflow: hidden; font-weight: 1000; width: 100%;\"> --------------------------------------------------------------------------------------------------------------------------------------------------------</div>\n"
   ]
  },
  {
   "cell_type": "code",
   "execution_count": 7487,
   "metadata": {},
   "outputs": [
    {
     "data": {
      "text/plain": [
       "LinregressResult(slope=0.00011766639213435286, intercept=2001.6143284472869, rvalue=0.5764027171814636, pvalue=0.0, stderr=2.1706503213220317e-06, intercept_stderr=0.16083720466593754)"
      ]
     },
     "execution_count": 7487,
     "metadata": {},
     "output_type": "execute_result"
    }
   ],
   "source": [
    "linregress(df['price_car'], df['model_car'])\n"
   ]
  },
  {
   "cell_type": "code",
   "execution_count": 7488,
   "metadata": {},
   "outputs": [
    {
     "data": {
      "text/plain": [
       "LinregressResult(slope=5.271167331578006e-06, intercept=-0.1034223053217635, rvalue=0.49646815238631964, pvalue=0.0, stderr=1.1992670420175692e-07, intercept_stderr=0.008886127663741614)"
      ]
     },
     "execution_count": 7488,
     "metadata": {},
     "output_type": "execute_result"
    }
   ],
   "source": [
    "linregress(df['price_car'], df['additionsPlus'])\n"
   ]
  },
  {
   "cell_type": "code",
   "execution_count": 7489,
   "metadata": {},
   "outputs": [
    {
     "data": {
      "text/plain": [
       "LinregressResult(slope=-0.0002458932161942554, intercept=389.86490152996174, rvalue=-0.016915386400080383, pvalue=0.1936030429864849, stderr=0.00018912797035933144, intercept_stderr=14.013686948071223)"
      ]
     },
     "execution_count": 7489,
     "metadata": {},
     "output_type": "execute_result"
    }
   ],
   "source": [
    "linregress(df['price_car'], df['additions'])\n"
   ]
  },
  {
   "cell_type": "markdown",
   "metadata": {},
   "source": [
    "-----"
   ]
  },
  {
   "cell_type": "markdown",
   "metadata": {},
   "source": [
    " \n",
    "<div style=\"padding: 10px; background-color: #0000; margin: 0 auto; color: #e7d954; font-family: newtimeroman; font-size: 150%; text-align: center; border-radius: 15px; overflow: hidden; font-weight: 1000; width: 100%;\"> --------------------------------------------------------------------------------------------------------------------------------------------------------</div> \n",
    "</div>\n",
    " \n",
    " \n",
    "<div style=\"padding: 10px; background-color: #960018; margin: 0 auto; color: #e7d954; font-family: newtimeroman; font-size: 150%; text-align: center; border-radius: 15px; overflow: hidden; font-weight: 1000; width: 100%;\"> one hot   </div>\n",
    "\n",
    " \n",
    "<div style=\"padding: 10px; background-color: #0000; margin: 0 auto; color: #e7d954; font-family: newtimeroman; font-size: 150%; text-align: center; border-radius: 15px; overflow: hidden; font-weight: 1000; width: 100%;\"> --------------------------------------------------------------------------------------------------------------------------------------------------------</div>\n"
   ]
  },
  {
   "cell_type": "code",
   "execution_count": 7490,
   "metadata": {},
   "outputs": [
    {
     "data": {
      "text/html": [
       "<div>\n",
       "<style scoped>\n",
       "    .dataframe tbody tr th:only-of-type {\n",
       "        vertical-align: middle;\n",
       "    }\n",
       "\n",
       "    .dataframe tbody tr th {\n",
       "        vertical-align: top;\n",
       "    }\n",
       "\n",
       "    .dataframe thead th {\n",
       "        text-align: right;\n",
       "    }\n",
       "</style>\n",
       "<table border=\"1\" class=\"dataframe\">\n",
       "  <thead>\n",
       "    <tr style=\"text-align: right;\">\n",
       "      <th></th>\n",
       "      <th>air_conditioner</th>\n",
       "      <th>central_closing</th>\n",
       "      <th>alarm_devise</th>\n",
       "      <th>CD_recorder</th>\n",
       "      <th>leather_upholstery</th>\n",
       "      <th>air_cushion</th>\n",
       "      <th>magnesium_rims</th>\n",
       "      <th>sunroof</th>\n",
       "      <th>model_car</th>\n",
       "      <th>price_car</th>\n",
       "      <th>...</th>\n",
       "      <th>payment_method</th>\n",
       "      <th>displayed</th>\n",
       "      <th>brand</th>\n",
       "      <th>type</th>\n",
       "      <th>additions</th>\n",
       "      <th>additionsPlus</th>\n",
       "      <th>fuel_type_بنزين</th>\n",
       "      <th>fuel_type_ديزل</th>\n",
       "      <th>fuel_type_كهرباء</th>\n",
       "      <th>fuel_type_هايبرد</th>\n",
       "    </tr>\n",
       "  </thead>\n",
       "  <tbody>\n",
       "    <tr>\n",
       "      <th>0</th>\n",
       "      <td>1</td>\n",
       "      <td>1.0</td>\n",
       "      <td>1</td>\n",
       "      <td>1</td>\n",
       "      <td>1</td>\n",
       "      <td>1</td>\n",
       "      <td>0</td>\n",
       "      <td>0</td>\n",
       "      <td>2008.0</td>\n",
       "      <td>44000.0</td>\n",
       "      <td>...</td>\n",
       "      <td>2</td>\n",
       "      <td>1</td>\n",
       "      <td>Kia</td>\n",
       "      <td>برايد</td>\n",
       "      <td>36.0</td>\n",
       "      <td>0</td>\n",
       "      <td>1</td>\n",
       "      <td>0</td>\n",
       "      <td>0</td>\n",
       "      <td>0</td>\n",
       "    </tr>\n",
       "    <tr>\n",
       "      <th>1</th>\n",
       "      <td>1</td>\n",
       "      <td>1.0</td>\n",
       "      <td>1</td>\n",
       "      <td>0</td>\n",
       "      <td>1</td>\n",
       "      <td>1</td>\n",
       "      <td>1</td>\n",
       "      <td>0</td>\n",
       "      <td>2013.0</td>\n",
       "      <td>58000.0</td>\n",
       "      <td>...</td>\n",
       "      <td>1</td>\n",
       "      <td>3</td>\n",
       "      <td>Hyundai</td>\n",
       "      <td>اكسنت</td>\n",
       "      <td>36.0</td>\n",
       "      <td>0</td>\n",
       "      <td>1</td>\n",
       "      <td>0</td>\n",
       "      <td>0</td>\n",
       "      <td>0</td>\n",
       "    </tr>\n",
       "    <tr>\n",
       "      <th>2</th>\n",
       "      <td>1</td>\n",
       "      <td>1.0</td>\n",
       "      <td>1</td>\n",
       "      <td>1</td>\n",
       "      <td>1</td>\n",
       "      <td>1</td>\n",
       "      <td>1</td>\n",
       "      <td>30</td>\n",
       "      <td>2013.0</td>\n",
       "      <td>40000.0</td>\n",
       "      <td>...</td>\n",
       "      <td>2</td>\n",
       "      <td>1</td>\n",
       "      <td>Peugeot</td>\n",
       "      <td>508</td>\n",
       "      <td>1369.0</td>\n",
       "      <td>0</td>\n",
       "      <td>1</td>\n",
       "      <td>0</td>\n",
       "      <td>0</td>\n",
       "      <td>0</td>\n",
       "    </tr>\n",
       "    <tr>\n",
       "      <th>3</th>\n",
       "      <td>1</td>\n",
       "      <td>1.0</td>\n",
       "      <td>1</td>\n",
       "      <td>1</td>\n",
       "      <td>1</td>\n",
       "      <td>1</td>\n",
       "      <td>1</td>\n",
       "      <td>0</td>\n",
       "      <td>2010.0</td>\n",
       "      <td>70000.0</td>\n",
       "      <td>...</td>\n",
       "      <td>2</td>\n",
       "      <td>3</td>\n",
       "      <td>Skoda</td>\n",
       "      <td>اوكتيا</td>\n",
       "      <td>49.0</td>\n",
       "      <td>1</td>\n",
       "      <td>0</td>\n",
       "      <td>1</td>\n",
       "      <td>0</td>\n",
       "      <td>0</td>\n",
       "    </tr>\n",
       "    <tr>\n",
       "      <th>4</th>\n",
       "      <td>1</td>\n",
       "      <td>1.0</td>\n",
       "      <td>1</td>\n",
       "      <td>1</td>\n",
       "      <td>1</td>\n",
       "      <td>1</td>\n",
       "      <td>1</td>\n",
       "      <td>0</td>\n",
       "      <td>1999.0</td>\n",
       "      <td>33000.0</td>\n",
       "      <td>...</td>\n",
       "      <td>1</td>\n",
       "      <td>1</td>\n",
       "      <td>Subaru</td>\n",
       "      <td>بريزا</td>\n",
       "      <td>49.0</td>\n",
       "      <td>0</td>\n",
       "      <td>1</td>\n",
       "      <td>0</td>\n",
       "      <td>0</td>\n",
       "      <td>0</td>\n",
       "    </tr>\n",
       "    <tr>\n",
       "      <th>...</th>\n",
       "      <td>...</td>\n",
       "      <td>...</td>\n",
       "      <td>...</td>\n",
       "      <td>...</td>\n",
       "      <td>...</td>\n",
       "      <td>...</td>\n",
       "      <td>...</td>\n",
       "      <td>...</td>\n",
       "      <td>...</td>\n",
       "      <td>...</td>\n",
       "      <td>...</td>\n",
       "      <td>...</td>\n",
       "      <td>...</td>\n",
       "      <td>...</td>\n",
       "      <td>...</td>\n",
       "      <td>...</td>\n",
       "      <td>...</td>\n",
       "      <td>...</td>\n",
       "      <td>...</td>\n",
       "      <td>...</td>\n",
       "      <td>...</td>\n",
       "    </tr>\n",
       "    <tr>\n",
       "      <th>6856</th>\n",
       "      <td>1</td>\n",
       "      <td>1.0</td>\n",
       "      <td>0</td>\n",
       "      <td>1</td>\n",
       "      <td>1</td>\n",
       "      <td>1</td>\n",
       "      <td>0</td>\n",
       "      <td>0</td>\n",
       "      <td>2006.0</td>\n",
       "      <td>29000.0</td>\n",
       "      <td>...</td>\n",
       "      <td>1</td>\n",
       "      <td>1</td>\n",
       "      <td>Opel</td>\n",
       "      <td>استرا</td>\n",
       "      <td>25.0</td>\n",
       "      <td>0</td>\n",
       "      <td>1</td>\n",
       "      <td>0</td>\n",
       "      <td>0</td>\n",
       "      <td>0</td>\n",
       "    </tr>\n",
       "    <tr>\n",
       "      <th>6857</th>\n",
       "      <td>1</td>\n",
       "      <td>1.0</td>\n",
       "      <td>0</td>\n",
       "      <td>1</td>\n",
       "      <td>1</td>\n",
       "      <td>1</td>\n",
       "      <td>0</td>\n",
       "      <td>0</td>\n",
       "      <td>2015.0</td>\n",
       "      <td>238000.0</td>\n",
       "      <td>...</td>\n",
       "      <td>1</td>\n",
       "      <td>3</td>\n",
       "      <td>BMW</td>\n",
       "      <td>X5</td>\n",
       "      <td>25.0</td>\n",
       "      <td>0</td>\n",
       "      <td>0</td>\n",
       "      <td>1</td>\n",
       "      <td>0</td>\n",
       "      <td>0</td>\n",
       "    </tr>\n",
       "    <tr>\n",
       "      <th>6858</th>\n",
       "      <td>1</td>\n",
       "      <td>1.0</td>\n",
       "      <td>1</td>\n",
       "      <td>1</td>\n",
       "      <td>1</td>\n",
       "      <td>1</td>\n",
       "      <td>1</td>\n",
       "      <td>0</td>\n",
       "      <td>2012.0</td>\n",
       "      <td>61500.0</td>\n",
       "      <td>...</td>\n",
       "      <td>2</td>\n",
       "      <td>1</td>\n",
       "      <td>Kia</td>\n",
       "      <td>سول</td>\n",
       "      <td>49.0</td>\n",
       "      <td>0</td>\n",
       "      <td>1</td>\n",
       "      <td>0</td>\n",
       "      <td>0</td>\n",
       "      <td>0</td>\n",
       "    </tr>\n",
       "    <tr>\n",
       "      <th>6860</th>\n",
       "      <td>1</td>\n",
       "      <td>1.0</td>\n",
       "      <td>1</td>\n",
       "      <td>0</td>\n",
       "      <td>1</td>\n",
       "      <td>1</td>\n",
       "      <td>1</td>\n",
       "      <td>30</td>\n",
       "      <td>2001.0</td>\n",
       "      <td>45000.0</td>\n",
       "      <td>...</td>\n",
       "      <td>1</td>\n",
       "      <td>1</td>\n",
       "      <td>Mercedes</td>\n",
       "      <td>E270</td>\n",
       "      <td>1296.0</td>\n",
       "      <td>0</td>\n",
       "      <td>0</td>\n",
       "      <td>1</td>\n",
       "      <td>0</td>\n",
       "      <td>0</td>\n",
       "    </tr>\n",
       "    <tr>\n",
       "      <th>6863</th>\n",
       "      <td>1</td>\n",
       "      <td>1.0</td>\n",
       "      <td>1</td>\n",
       "      <td>0</td>\n",
       "      <td>1</td>\n",
       "      <td>1</td>\n",
       "      <td>1</td>\n",
       "      <td>0</td>\n",
       "      <td>2014.0</td>\n",
       "      <td>60000.0</td>\n",
       "      <td>...</td>\n",
       "      <td>2</td>\n",
       "      <td>1</td>\n",
       "      <td>Volkswagen</td>\n",
       "      <td>بولو</td>\n",
       "      <td>36.0</td>\n",
       "      <td>0</td>\n",
       "      <td>1</td>\n",
       "      <td>0</td>\n",
       "      <td>0</td>\n",
       "      <td>0</td>\n",
       "    </tr>\n",
       "  </tbody>\n",
       "</table>\n",
       "<p>5908 rows × 27 columns</p>\n",
       "</div>"
      ],
      "text/plain": [
       "      air_conditioner  central_closing  alarm_devise  CD_recorder  \\\n",
       "0                   1              1.0             1            1   \n",
       "1                   1              1.0             1            0   \n",
       "2                   1              1.0             1            1   \n",
       "3                   1              1.0             1            1   \n",
       "4                   1              1.0             1            1   \n",
       "...               ...              ...           ...          ...   \n",
       "6856                1              1.0             0            1   \n",
       "6857                1              1.0             0            1   \n",
       "6858                1              1.0             1            1   \n",
       "6860                1              1.0             1            0   \n",
       "6863                1              1.0             1            0   \n",
       "\n",
       "      leather_upholstery  air_cushion  magnesium_rims  sunroof  model_car  \\\n",
       "0                      1            1               0        0     2008.0   \n",
       "1                      1            1               1        0     2013.0   \n",
       "2                      1            1               1       30     2013.0   \n",
       "3                      1            1               1        0     2010.0   \n",
       "4                      1            1               1        0     1999.0   \n",
       "...                  ...          ...             ...      ...        ...   \n",
       "6856                   1            1               0        0     2006.0   \n",
       "6857                   1            1               0        0     2015.0   \n",
       "6858                   1            1               1        0     2012.0   \n",
       "6860                   1            1               1       30     2001.0   \n",
       "6863                   1            1               1        0     2014.0   \n",
       "\n",
       "      price_car  ...  payment_method  displayed       brand    type  \\\n",
       "0       44000.0  ...               2          1         Kia   برايد   \n",
       "1       58000.0  ...               1          3     Hyundai   اكسنت   \n",
       "2       40000.0  ...               2          1     Peugeot     508   \n",
       "3       70000.0  ...               2          3       Skoda  اوكتيا   \n",
       "4       33000.0  ...               1          1      Subaru   بريزا   \n",
       "...         ...  ...             ...        ...         ...     ...   \n",
       "6856    29000.0  ...               1          1        Opel   استرا   \n",
       "6857   238000.0  ...               1          3         BMW      X5   \n",
       "6858    61500.0  ...               2          1         Kia     سول   \n",
       "6860    45000.0  ...               1          1    Mercedes    E270   \n",
       "6863    60000.0  ...               2          1  Volkswagen    بولو   \n",
       "\n",
       "      additions  additionsPlus  fuel_type_بنزين  fuel_type_ديزل  \\\n",
       "0          36.0              0                1               0   \n",
       "1          36.0              0                1               0   \n",
       "2        1369.0              0                1               0   \n",
       "3          49.0              1                0               1   \n",
       "4          49.0              0                1               0   \n",
       "...         ...            ...              ...             ...   \n",
       "6856       25.0              0                1               0   \n",
       "6857       25.0              0                0               1   \n",
       "6858       49.0              0                1               0   \n",
       "6860     1296.0              0                0               1   \n",
       "6863       36.0              0                1               0   \n",
       "\n",
       "      fuel_type_كهرباء fuel_type_هايبرد  \n",
       "0                    0                0  \n",
       "1                    0                0  \n",
       "2                    0                0  \n",
       "3                    0                0  \n",
       "4                    0                0  \n",
       "...                ...              ...  \n",
       "6856                 0                0  \n",
       "6857                 0                0  \n",
       "6858                 0                0  \n",
       "6860                 0                0  \n",
       "6863                 0                0  \n",
       "\n",
       "[5908 rows x 27 columns]"
      ]
     },
     "execution_count": 7490,
     "metadata": {},
     "output_type": "execute_result"
    }
   ],
   "source": [
    "df = pd.get_dummies(df, columns=['fuel_type'], prefix='fuel_type')\n",
    "df"
   ]
  },
  {
   "cell_type": "code",
   "execution_count": 7491,
   "metadata": {},
   "outputs": [],
   "source": [
    "df = pd.get_dummies(df, columns=['brand'], prefix=None)"
   ]
  },
  {
   "cell_type": "code",
   "execution_count": 7492,
   "metadata": {},
   "outputs": [],
   "source": [
    "df = pd.get_dummies(df, columns=['type'], prefix=None)\n"
   ]
  },
  {
   "cell_type": "markdown",
   "metadata": {},
   "source": [
    "-------"
   ]
  },
  {
   "cell_type": "markdown",
   "metadata": {},
   "source": [
    "\n",
    "\n",
    " \n",
    "<div style=\"padding: 10px; background-color: #0000; margin: 0 auto; color: #e7d954; font-family: newtimeroman; font-size: 150%; text-align: center; border-radius: 15px; overflow: hidden; font-weight: 1000; width: 100%;\"> --------------------------------------------------------------------------------------------------------------------------------------------------------</div> \n",
    "</div>\n",
    " \n",
    " \n",
    "<div style=\"padding: 10px; background-color: #960018; margin: 0 auto; color: #e7d954; font-family: newtimeroman; font-size: 150%; text-align: center; border-radius: 15px; overflow: hidden; font-weight: 1000; width: 100%;\"> MinMaxScaler  </div>\n",
    "\n",
    " \n",
    "<div style=\"padding: 10px; background-color: #0000; margin: 0 auto; color: #e7d954; font-family: newtimeroman; font-size: 150%; text-align: center; border-radius: 15px; overflow: hidden; font-weight: 1000; width: 100%;\"> --------------------------------------------------------------------------------------------------------------------------------------------------------</div>\n"
   ]
  },
  {
   "cell_type": "code",
   "execution_count": 7493,
   "metadata": {},
   "outputs": [],
   "source": [
    "from sklearn.preprocessing import MinMaxScaler\n"
   ]
  },
  {
   "cell_type": "code",
   "execution_count": 7494,
   "metadata": {},
   "outputs": [],
   "source": [
    "# def normalize_price_column(df, column_name):\n",
    "#     original_min = df[column_name].min()\n",
    "#     original_max = df[column_name].max()\n",
    "#     df['normalized_' + column_name] = np.interp(df[column_name], (original_min, original_max), (0, 1))\n",
    "#     return original_max, original_min\n",
    "\n",
    "# original_max , original_min = normalize_price_column(df, 'price_car')\n"
   ]
  },
  {
   "cell_type": "code",
   "execution_count": 7495,
   "metadata": {},
   "outputs": [],
   "source": [
    "\n",
    "priceScaler = MinMaxScaler()\n",
    "\n",
    "# Fit and transform the data using the scaler\n",
    "df['price_car_normalized'] = priceScaler.fit_transform(df[['price_car']])\n",
    "with open('priceScaler.pkl', 'wb') as file:\n",
    "    pickle.dump(priceScaler, file)\n"
   ]
  },
  {
   "cell_type": "code",
   "execution_count": 7496,
   "metadata": {},
   "outputs": [],
   "source": [
    "motorScaler = MinMaxScaler()\n",
    "\n",
    "# Fit and transform the data using the scaler\n",
    "df['scales_motor'] = motorScaler.fit_transform(df[['motor_power']])\n"
   ]
  },
  {
   "cell_type": "code",
   "execution_count": 7497,
   "metadata": {},
   "outputs": [],
   "source": [
    "with open('priceScaler.pkl', 'wb') as file:\n",
    "    pickle.dump(priceScaler, file)\n",
    "with open('motorscaler.pkl', 'wb') as file:\n",
    "    pickle.dump(motorScaler, file)"
   ]
  },
  {
   "cell_type": "markdown",
   "metadata": {},
   "source": [
    " \n",
    "<div style=\"padding: 10px; background-color: #0000; margin: 0 auto; color: #e7d954; font-family: newtimeroman; font-size: 150%; text-align: center; border-radius: 15px; overflow: hidden; font-weight: 1000; width: 100%;\"> ------------------------------------------------------------------------------------------------------------------------------------------------------------------</div> \n",
    "</div>\n",
    " \n"
   ]
  },
  {
   "cell_type": "code",
   "execution_count": 7498,
   "metadata": {},
   "outputs": [],
   "source": [
    "df['model_car'] = df['model_car'].astype(int)"
   ]
  },
  {
   "cell_type": "markdown",
   "metadata": {},
   "source": [
    " \n",
    "<div style=\"padding: 10px; background-color: #0000; margin: 0 auto; color: #e7d954; font-family: newtimeroman; font-size: 150%; text-align: center; border-radius: 15px; overflow: hidden; font-weight: 1000; width: 100%;\"> ------------------------------------------------------------------------------------------------------------------------------------------------------------------</div> \n",
    "</div>\n",
    " \n"
   ]
  },
  {
   "cell_type": "code",
   "execution_count": 7499,
   "metadata": {},
   "outputs": [],
   "source": [
    "# def normalize_price_column(df, column_name):\n",
    "#     original_min = df[column_name].min()\n",
    "#     original_max = df[column_name].max()\n",
    "#     df['normalized_' + column_name] = np.interp(df[column_name], (original_min, original_max), (0, 1))\n",
    "#     return original_max, original_min\n",
    "\n",
    "# original_max , original_min = normalize_price_column(df, 'price_car')\n"
   ]
  },
  {
   "cell_type": "code",
   "execution_count": 7500,
   "metadata": {},
   "outputs": [],
   "source": [
    "df.to_csv('finalty_data.csv', index=False)\n"
   ]
  },
  {
   "cell_type": "code",
   "execution_count": 7501,
   "metadata": {},
   "outputs": [
    {
     "data": {
      "text/plain": [
       "count    5908.000000\n",
       "mean        0.260047\n",
       "std         0.166602\n",
       "min         0.000000\n",
       "25%         0.147280\n",
       "50%         0.227486\n",
       "75%         0.333021\n",
       "max         1.000000\n",
       "Name: price_car_normalized, dtype: float64"
      ]
     },
     "execution_count": 7501,
     "metadata": {},
     "output_type": "execute_result"
    }
   ],
   "source": [
    "df['price_car_normalized'].describe()"
   ]
  },
  {
   "cell_type": "markdown",
   "metadata": {},
   "source": [
    " \n",
    "<div style=\"padding: 10px; background-color: #0000; margin: 0 auto; color: #e7d954; font-family: newtimeroman; font-size: 150%; text-align: center; border-radius: 15px; overflow: hidden; font-weight: 1000; width: 100%;\"> --------------------------------------------------------------------------------------------------------------------------------------------------------</div> \n",
    "</div>\n",
    " \n",
    " \n",
    "<div style=\"padding: 10px; background-color: #960018; margin: 0 auto; color: #e7d954; font-family: newtimeroman; font-size: 150%; text-align: center; border-radius: 15px; overflow: hidden; font-weight: 1000; width: 100%;\"> MODEL   </div>\n",
    "\n",
    " \n",
    "<div style=\"padding: 10px; background-color: #0000; margin: 0 auto; color: #e7d954; font-family: newtimeroman; font-size: 150%; text-align: center; border-radius: 15px; overflow: hidden; font-weight: 1000; width: 100%;\"> --------------------------------------------------------------------------------------------------------------------------------------------------------</div>\n"
   ]
  },
  {
   "cell_type": "code",
   "execution_count": 7502,
   "metadata": {},
   "outputs": [
    {
     "name": "stdout",
     "output_type": "stream",
     "text": [
      "Mean Squared Error: 0.0065530532415140124\n",
      "R-squared: 0.7628512609559847\n"
     ]
    }
   ],
   "source": [
    "y =  df['price_car_normalized']\n",
    "X = df.drop(columns=['price_car'  ,\"price_car_normalized\" , \"motor_power\"])\n",
    "X_train, X_test, y_train, y_test = train_test_split(X, y, test_size=0.2, random_state=42)\n",
    "scaler = StandardScaler()\n",
    "X_train_scaled = scaler.fit_transform(X_train)\n",
    "X_test_scaled = scaler.transform(X_test)\n",
    "rf_model = RandomForestRegressor(n_estimators=100, random_state=42)\n",
    "rf_model.fit(X_train_scaled, y_train)\n",
    "y_pred = rf_model.predict(X_test_scaled)\n",
    "mse = mean_squared_error(y_test, y_pred)\n",
    "print(f'Mean Squared Error: {mse}')\n",
    "r2 = r2_score(y_test, y_pred)\n",
    "print(f'R-squared: {r2}')\n"
   ]
  },
  {
   "cell_type": "code",
   "execution_count": 7503,
   "metadata": {},
   "outputs": [],
   "source": [
    "import pickle \n",
    "with open('RandomForestRegressor_model.pkl', 'wb') as file:\n",
    "    pickle.dump(rf_model, file)\n"
   ]
  },
  {
   "cell_type": "markdown",
   "metadata": {},
   "source": [
    " \n",
    "<div style=\"padding: 10px; background-color: #0000; margin: 0 auto; color: #e7d954; font-family: newtimeroman; font-size: 150%; text-align: center; border-radius: 15px; overflow: hidden; font-weight: 1000; width: 100%;\"> --------------------------------------------------------------------------------------------------------------------------------------------------------</div>"
   ]
  },
  {
   "cell_type": "markdown",
   "metadata": {},
   "source": [
    " \n",
    "</div>\n",
    " \n",
    " \n",
    "<div style=\"padding: 10px; background-color: #960018; margin: 0 auto; color: #e7d954; font-family: newtimeroman; font-size: 150%; text-align: center; border-radius: 15px; overflow: hidden; font-weight: 1000; width: 100%;\"> test   </div>\n",
    "\n",
    "\n"
   ]
  },
  {
   "cell_type": "markdown",
   "metadata": {},
   "source": [
    " \n",
    "<div style=\"padding: 10px; background-color: #0000; margin: 0 auto; color: #e7d954; font-family: newtimeroman; font-size: 150%; text-align: center; border-radius: 15px; overflow: hidden; font-weight: 1000; width: 100%;\"> --------------------------------------------------------------------------------------------------------------------------------------------------------</div>"
   ]
  },
  {
   "cell_type": "code",
   "execution_count": 7505,
   "metadata": {},
   "outputs": [],
   "source": [
    "\n",
    "x = pd.DataFrame([[0] * len(df.columns)], columns=df.columns)\n"
   ]
  },
  {
   "cell_type": "code",
   "execution_count": 7506,
   "metadata": {},
   "outputs": [],
   "source": [
    "x[\"brand_Volkswagen\"]=1 \n",
    "x[\"type_جولف\"]=1\n",
    "x[\"model_car\"]=2021\n",
    "x[\"fuel_type_بنزين\"] = 1\n",
    "x[\"lime_type\"] =3\n",
    "x[\"motor_power\"]=1999\n",
    "x[\"payment_method\"]= 1 \n",
    "x[\"alarm_devise\"]= 1\n",
    "x[\"air_conditioner\"]= 1\n",
    "x[\"CD_recorder\"]= 1\n",
    "x[\"sunroof\"]= 1\n",
    "x[\"leather_upholstery\"]= 1\n",
    "x[\"magnesium_rims\"]= 1\n",
    "x[\"central_closing\"]= 1\n",
    "x[\"passengers\"]= 5\n",
    "x[\"air_cushion\"]= 1\n",
    "x[\"glass\"] = 2\n",
    "\n",
    "\n"
   ]
  },
  {
   "cell_type": "code",
   "execution_count": 7507,
   "metadata": {},
   "outputs": [],
   "source": [
    "x[\"sunroof\"] = x[\"sunroof\"].replace(1, 30)\n",
    "x['price_car'] = 150000\n"
   ]
  },
  {
   "cell_type": "code",
   "execution_count": 7508,
   "metadata": {},
   "outputs": [],
   "source": [
    "\n",
    "columns_to_sum = ['air_conditioner', 'central_closing', 'alarm_devise', 'CD_recorder', \n",
    "                  'leather_upholstery', 'air_cushion', 'magnesium_rims', 'sunroof']\n"
   ]
  },
  {
   "cell_type": "code",
   "execution_count": 7509,
   "metadata": {},
   "outputs": [],
   "source": [
    "\n",
    "x['additions'] = x.apply(lambda row: row[columns_to_sum].sum(), axis=1)\n"
   ]
  },
  {
   "cell_type": "code",
   "execution_count": 7510,
   "metadata": {},
   "outputs": [
    {
     "data": {
      "text/plain": [
       "0    37\n",
       "Name: additions, dtype: int64"
      ]
     },
     "execution_count": 7510,
     "metadata": {},
     "output_type": "execute_result"
    }
   ],
   "source": [
    "x['additions']\n"
   ]
  },
  {
   "cell_type": "code",
   "execution_count": 7511,
   "metadata": {},
   "outputs": [],
   "source": [
    "x['additions'] = x['additions'] ** 2\n"
   ]
  },
  {
   "cell_type": "code",
   "execution_count": 7512,
   "metadata": {},
   "outputs": [
    {
     "data": {
      "text/plain": [
       "0    1369\n",
       "Name: additions, dtype: int64"
      ]
     },
     "execution_count": 7512,
     "metadata": {},
     "output_type": "execute_result"
    }
   ],
   "source": [
    "x[\"additions\"]\n"
   ]
  },
  {
   "cell_type": "code",
   "execution_count": 7513,
   "metadata": {},
   "outputs": [],
   "source": [
    "x['additionsPlus'] = x.apply(lambda row: 1 if (row['additions'] > 36) and (row['price_car'] > average_price) else 0, axis=1)\n"
   ]
  },
  {
   "cell_type": "code",
   "execution_count": 7514,
   "metadata": {},
   "outputs": [
    {
     "data": {
      "text/plain": [
       "0    1\n",
       "Name: additionsPlus, dtype: int64"
      ]
     },
     "execution_count": 7514,
     "metadata": {},
     "output_type": "execute_result"
    }
   ],
   "source": [
    "x['additionsPlus'] \n"
   ]
  },
  {
   "cell_type": "code",
   "execution_count": 7515,
   "metadata": {},
   "outputs": [],
   "source": [
    "x['scales_motor'] = motorScaler.fit_transform(x[['motor_power']])\n"
   ]
  },
  {
   "cell_type": "code",
   "execution_count": 7516,
   "metadata": {},
   "outputs": [],
   "source": [
    "columns_to_drop = ['price_car'  ,\"price_car_normalized\" , \"motor_power\"]\n",
    "\n",
    "x = x.drop(columns=columns_to_drop)\n"
   ]
  },
  {
   "cell_type": "code",
   "execution_count": 7517,
   "metadata": {},
   "outputs": [
    {
     "name": "stderr",
     "output_type": "stream",
     "text": [
      "/Users/macbook/anaconda3/lib/python3.11/site-packages/sklearn/base.py:432: UserWarning:\n",
      "\n",
      "X has feature names, but RandomForestRegressor was fitted without feature names\n",
      "\n"
     ]
    }
   ],
   "source": [
    "\n",
    "y_pred = rf_model.predict(x)\n"
   ]
  },
  {
   "cell_type": "code",
   "execution_count": 7518,
   "metadata": {},
   "outputs": [
    {
     "data": {
      "text/html": [
       "<div>\n",
       "<style scoped>\n",
       "    .dataframe tbody tr th:only-of-type {\n",
       "        vertical-align: middle;\n",
       "    }\n",
       "\n",
       "    .dataframe tbody tr th {\n",
       "        vertical-align: top;\n",
       "    }\n",
       "\n",
       "    .dataframe thead th {\n",
       "        text-align: right;\n",
       "    }\n",
       "</style>\n",
       "<table border=\"1\" class=\"dataframe\">\n",
       "  <thead>\n",
       "    <tr style=\"text-align: right;\">\n",
       "      <th></th>\n",
       "      <th>air_conditioner</th>\n",
       "      <th>central_closing</th>\n",
       "      <th>alarm_devise</th>\n",
       "      <th>CD_recorder</th>\n",
       "      <th>leather_upholstery</th>\n",
       "      <th>air_cushion</th>\n",
       "      <th>magnesium_rims</th>\n",
       "      <th>sunroof</th>\n",
       "      <th>model_car</th>\n",
       "      <th>origin_car</th>\n",
       "      <th>...</th>\n",
       "      <th>type_٢٠١٠</th>\n",
       "      <th>type_٢٠١٢</th>\n",
       "      <th>type_٢٠١٥</th>\n",
       "      <th>type_٢٠١٦</th>\n",
       "      <th>type_٢٠١٩</th>\n",
       "      <th>type_٢١٢</th>\n",
       "      <th>type_٢٣٠</th>\n",
       "      <th>type_٣٣٠</th>\n",
       "      <th>type_ڤيڤارو</th>\n",
       "      <th>scales_motor</th>\n",
       "    </tr>\n",
       "  </thead>\n",
       "  <tbody>\n",
       "    <tr>\n",
       "      <th>0</th>\n",
       "      <td>1</td>\n",
       "      <td>1</td>\n",
       "      <td>1</td>\n",
       "      <td>1</td>\n",
       "      <td>1</td>\n",
       "      <td>1</td>\n",
       "      <td>1</td>\n",
       "      <td>30</td>\n",
       "      <td>2021</td>\n",
       "      <td>0</td>\n",
       "      <td>...</td>\n",
       "      <td>0</td>\n",
       "      <td>0</td>\n",
       "      <td>0</td>\n",
       "      <td>0</td>\n",
       "      <td>0</td>\n",
       "      <td>0</td>\n",
       "      <td>0</td>\n",
       "      <td>0</td>\n",
       "      <td>0</td>\n",
       "      <td>0.0</td>\n",
       "    </tr>\n",
       "  </tbody>\n",
       "</table>\n",
       "<p>1 rows × 553 columns</p>\n",
       "</div>"
      ],
      "text/plain": [
       "   air_conditioner  central_closing  alarm_devise  CD_recorder  \\\n",
       "0                1                1             1            1   \n",
       "\n",
       "   leather_upholstery  air_cushion  magnesium_rims  sunroof  model_car  \\\n",
       "0                   1            1               1       30       2021   \n",
       "\n",
       "   origin_car  ...  type_٢٠١٠  type_٢٠١٢  type_٢٠١٥  type_٢٠١٦  type_٢٠١٩  \\\n",
       "0           0  ...          0          0          0          0          0   \n",
       "\n",
       "   type_٢١٢  type_٢٣٠  type_٣٣٠  type_ڤيڤارو  scales_motor  \n",
       "0         0         0         0            0           0.0  \n",
       "\n",
       "[1 rows x 553 columns]"
      ]
     },
     "execution_count": 7518,
     "metadata": {},
     "output_type": "execute_result"
    }
   ],
   "source": [
    "extra_columns_in_x = set(x.columns) - set(df.columns)\n",
    "x = x.drop(columns=list(extra_columns_in_x))\n",
    "x"
   ]
  },
  {
   "cell_type": "code",
   "execution_count": 7519,
   "metadata": {},
   "outputs": [
    {
     "data": {
      "text/plain": [
       "array([0.53693443])"
      ]
     },
     "execution_count": 7519,
     "metadata": {},
     "output_type": "execute_result"
    }
   ],
   "source": [
    "y_pred"
   ]
  },
  {
   "cell_type": "code",
   "execution_count": 7520,
   "metadata": {},
   "outputs": [],
   "source": [
    "predicted_price_original_scale = price_scaler.inverse_transform(y_pred.reshape(-1, 1))\n"
   ]
  },
  {
   "cell_type": "code",
   "execution_count": 7521,
   "metadata": {},
   "outputs": [
    {
     "data": {
      "text/plain": [
       "128304.86000000002"
      ]
     },
     "execution_count": 7521,
     "metadata": {},
     "output_type": "execute_result"
    }
   ],
   "source": [
    "predicted_price_original_scale[0, 0]\n"
   ]
  },
  {
   "cell_type": "markdown",
   "metadata": {},
   "source": [
    " \n",
    "<div style=\"padding: 10px; background-color: #0000; margin: 0 auto; color: #e7d954; font-family: newtimeroman; font-size: 150%; text-align: center; border-radius: 15px; overflow: hidden; font-weight: 1000; width: 100%;\"> --------------------------------------------------------------------------------------------------------------------------------------------------------</div>"
   ]
  },
  {
   "cell_type": "markdown",
   "metadata": {},
   "source": [
    " \n",
    "</div>\n",
    " \n",
    " \n",
    "<div style=\"padding: 10px; background-color: #960018; margin: 0 auto; color: #e7d954; font-family: newtimeroman; font-size: 150%; text-align: center; border-radius: 15px; overflow: hidden; font-weight: 1000; width: 100%;\"> API   </div>\n",
    "\n",
    "\n"
   ]
  },
  {
   "cell_type": "markdown",
   "metadata": {},
   "source": [
    " \n",
    "<div style=\"padding: 10px; background-color: #0000; margin: 0 auto; color: #e7d954; font-family: newtimeroman; font-size: 150%; text-align: center; border-radius: 15px; overflow: hidden; font-weight: 1000; width: 100%;\"> --------------------------------------------------------------------------------------------------------------------------------------------------------</div>"
   ]
  },
  {
   "cell_type": "code",
   "execution_count": 7522,
   "metadata": {},
   "outputs": [],
   "source": [
    "from flask import Flask, request, jsonify\n",
    "import pickle\n",
    "import pandas as pd"
   ]
  },
  {
   "cell_type": "code",
   "execution_count": 7523,
   "metadata": {},
   "outputs": [],
   "source": [
    "app = Flask(__name__)\n",
    "excluded_columns = ['price_car', 'price_car_normalized','additions','additionsPlus'] \n",
    "feature_names = [col for col in df.columns if col not in excluded_columns]\n"
   ]
  },
  {
   "cell_type": "code",
   "execution_count": 7524,
   "metadata": {},
   "outputs": [
    {
     "data": {
      "text/plain": [
       "552"
      ]
     },
     "execution_count": 7524,
     "metadata": {},
     "output_type": "execute_result"
    }
   ],
   "source": [
    "len(feature_names)"
   ]
  },
  {
   "cell_type": "code",
   "execution_count": 7525,
   "metadata": {},
   "outputs": [],
   "source": [
    "@app.route('/predict', methods=['POST'])\n",
    "def predict():\n",
    "    try:\n",
    "        default_data = pd.DataFrame([[0] * len(feature_names)], columns=feature_names)\n",
    "        data = request.get_json(force=True)\n",
    "        app.logger.info(f\"Received data: {data}\")\n",
    "        input_data = pd.DataFrame([data])\n",
    "        features_used_during_training = input_data.columns\n",
    "        input_data_selected = input_data[features_used_during_training]\n",
    "\n",
    "        # Update the default_data with the user input\n",
    "        default_data.update(input_data_selected)\n",
    "\n",
    "        # Scale the 'Motor power' feature using the motor scaler\n",
    "        default_data['motor_power'] = motorScaler.transform(default_data[['motor_power']])\n",
    "\n",
    "        # Make predictions using the model\n",
    "        predictions = rf_model.predict(default_data)\n",
    "\n",
    "        # Inverse transform the normalized predictions\n",
    "        original_scale_predictions = priceScaler.inverse_transform(predictions.reshape(-1, 1))\n",
    "\n",
    "        # Log data before prediction\n",
    "        app.logger.info(f\"Predicting with data: {default_data}\")\n",
    "\n",
    "        # Return the unnormalized predictions\n",
    "        return jsonify({'predicted_price': original_scale_predictions.tolist()})\n",
    "\n",
    "    except Exception as e:\n",
    "        app.logger.error(f\"Error: {str(e)}\")\n",
    "        return jsonify({'error': f'Internal Server Error: {str(e)}'})"
   ]
  },
  {
   "cell_type": "code",
   "execution_count": 7526,
   "metadata": {},
   "outputs": [
    {
     "name": "stdout",
     "output_type": "stream",
     "text": [
      " * Serving Flask app '__main__'\n",
      " * Debug mode: off\n"
     ]
    },
    {
     "name": "stderr",
     "output_type": "stream",
     "text": [
      "WARNING: This is a development server. Do not use it in a production deployment. Use a production WSGI server instead.\n",
      " * Running on http://127.0.0.1:5000\n",
      "Press CTRL+C to quit\n"
     ]
    }
   ],
   "source": [
    "if __name__ == '__main__':\n",
    "    app.run(port=5000)"
   ]
  }
 ],
 "metadata": {
  "kernelspec": {
   "display_name": "base",
   "language": "python",
   "name": "python3"
  },
  "language_info": {
   "codemirror_mode": {
    "name": "ipython",
    "version": 3
   },
   "file_extension": ".py",
   "mimetype": "text/x-python",
   "name": "python",
   "nbconvert_exporter": "python",
   "pygments_lexer": "ipython3",
   "version": "3.11.4"
  },
  "orig_nbformat": 4
 },
 "nbformat": 4,
 "nbformat_minor": 2
}
